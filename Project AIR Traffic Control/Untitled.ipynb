{
 "cells": [
  {
   "cell_type": "code",
   "execution_count": 1,
   "id": "f9015c33-6129-46b9-b119-15b0dd5dda00",
   "metadata": {},
   "outputs": [],
   "source": [
    "from gym import Env\n",
    "import gym\n",
    "import pygame\n",
    "from gym.spaces import Discrete, Box,Dict\n",
    "import numpy as np\n",
    "import random\n",
    "np.set_printoptions(linewidth=500,threshold=np.inf)"
   ]
  },
  {
   "cell_type": "code",
   "execution_count": 21,
   "id": "cb8a6311-c055-4cc1-9697-98818c2886cb",
   "metadata": {},
   "outputs": [],
   "source": [
    "class AirTraffic():\n",
    "    def __init__(self,planes:int = 2, grid_size:list = [5,5],radius:int = 2,seed = None):\n",
    "        self.radius = radius\n",
    "        self.planes = planes\n",
    "        self.GRID_DIM = grid_size\n",
    "        self.seed = seed\n",
    "        self._max_dist = np.sqrt(self.GRID_DIM[0]**2 + self.GRID_DIM[1]**2)\n",
    "        self._action_to_direction = {\n",
    "            0: np.array([-1, 0]),\n",
    "            1: np.array([-1, 1]),\n",
    "            2: np.array([0,  1]),\n",
    "            3: np.array([-1 , -1]),\n",
    "            4: np.array([0 , -1]),\n",
    "            \n",
    "        }        \n",
    "    \n",
    "        self._ACTIONLOOKUP = {\n",
    "            0: 'Up',\n",
    "            1: 'front right',\n",
    "            2: 'right',\n",
    "            3: 'front left',\n",
    "            4: 'left'\n",
    "            }\n",
    "        self.GRID_DIM = np.array(self.GRID_DIM)\n",
    "        self.GRID = np.zeros(self.GRID_DIM)\n",
    "        self.action_space = Discrete(len(self._ACTIONLOOKUP.keys()))\n",
    "        self.state_space = Discrete(self.GRID_DIM[0]*self.GRID_DIM[1])\n",
    "        self._ob_space = {}\n",
    "        for p in range(self.planes):\n",
    "            self._ob_space[f'plane{p}'] = Box(np.array([0,0]), np.array([self.GRID_DIM[0]-1,self.GRID_DIM[1] - 1]), shape=(2,), dtype=int)\n",
    "            self._ob_space[f'dest{p}'] = Box(np.array([0,0]), np.array([self.GRID_DIM[0]-1,self.GRID_DIM[1] - 1]), shape=(2,), dtype=int)\n",
    "        \n",
    "        self.observation_space = Dict(self._ob_space)\n",
    "        self._agent_location = []\n",
    "        self._target_location = []\n",
    "        if self.seed is not None:\n",
    "            np.random.seed(seed = seed)\n",
    "        for p in range(self.planes):\n",
    "            while (pc:= [np.random.randint(self.GRID_DIM[0]),np.random.randint(self.GRID_DIM[1])]) in self._agent_location:\n",
    "                continue\n",
    "            self._agent_location.append(pc)\n",
    "            while (dc:=[np.random.randint(self.GRID_DIM[0]),np.random.randint(self.GRID_DIM[1])]) in self._agent_location + self._target_location:\n",
    "                continue\n",
    "            self._target_location.append(dc)\n",
    "        self._agent_location = np.array(self._agent_location)\n",
    "        self._target_location = np.array(self._target_location)\n",
    "        self._count = [0]*self.planes\n",
    "        self._prev_agent_location = self._agent_location.copy()\n",
    "        self._done_prev = [False]*self.planes\n",
    "#         self._agent_location = np.array([np.array([np.random.randint(self.GRID_DIM[0]),np.random.randint(self.GRID_DIM[1])]) for p in range(self.planes) ])\n",
    "#         self._target_location = np.array([np.array([np.random.randint(self.GRID_DIM[0]),np.random.randint(self.GRID_DIM[1])]) for p in range(self.planes)])\n",
    "#         print(self._agent_location)\n",
    "    def step(self,action):\n",
    "#         self._prev_agent_location = [None]*self.planes\n",
    "        self._prev_agent_location = self._agent_location.copy()##### Find the vector of agent from destination to find ### reward of terminal state for a plane is 0 and that plane cant move now\n",
    "        moved_plane = [False]*self.planes\n",
    "\n",
    "#             for plane,action in enumerate(action): \n",
    "        moved_plane = self._move(action)\n",
    "        done,reward =  self._is_over()\n",
    "        observation = self._get_obs()\n",
    "        info = self._get_info()\n",
    "        self._done_prev = done.copy()\n",
    "        return observation, reward, done, info\n",
    "    def _move(self, action):\n",
    "        \n",
    "        for plane,act in enumerate(action):\n",
    "            if np.array_equal(self._agent_location[plane],self._target_location[plane]):\n",
    "                self._count[plane]+=1\n",
    "                continue\n",
    "            elif np.sign(self._target_location[plane]-self._prev_agent_location[plane])[0]<=0:\n",
    "                self._agent_location[plane] = np.clip(self._agent_location[plane] + self._action_to_direction[act],[0,0],[self.GRID_DIM[0] - 1, self.GRID_DIM[1] - 1])\n",
    "            else: \n",
    "                self._agent_location[plane] = np.clip(self._agent_location[plane] + -1*self._action_to_direction[act],[0,0],[self.GRID_DIM[0] - 1, self.GRID_DIM[1] - 1])\n",
    "\n",
    "        return   self._prev_agent_location== self._agent_location\n",
    "    def _is_over(self):\n",
    "        done = (self._agent_location==self._target_location).all(axis = 1)\n",
    "        reward = self._get_reward()\n",
    "        return done, reward\n",
    "    def _get_reward(self):\n",
    "        reward = []\n",
    "        # reward will be the minimum of intruder and todestination\n",
    "        distance, closest_dist ,_1,_2= self._get_info()\n",
    "        for index,plane in enumerate(range(self.planes)):\n",
    "            if self._count[plane] >0:\n",
    "                reward.append(self._max_dist)######## CHanged from 0 \n",
    "            elif closest_dist[plane] <self.radius:\n",
    "                \n",
    "#             closest_dist = np.min(np.linalg.norm([self._agent_location[plane]]*self.planes-self._agent_location,axis = 1))\n",
    "                self._intruder = -(self.radius **2 - closest_dist[plane]**2)/(self.radius**2/500)\n",
    "                reward.append(self._intruder)\n",
    "#                 print(closest_dist[plane])\n",
    "            else:\n",
    "                self._todestination = self._max_dist - distance[plane]#np.linalg.norm(self._target_location[plane]-self._agent_location[plane])\n",
    "                reward.append(self._todestination)\n",
    "#             print(self._intruder,self._todestination)\n",
    "#         print(reward)\n",
    "#             reward.append(np.min([self._intruder,self._todestination]))\n",
    "        return reward\n",
    "    def _get_obs(self):\n",
    "        return {'planes': self._agent_location,'destinations':self._target_location}\n",
    "    def _get_info(self):\n",
    "        closest_dist = []\n",
    "        distance = []\n",
    "#         arg_plane = []\n",
    "        plane_theta = []\n",
    "        plane_rho = []\n",
    "        dne= self._done_prev\n",
    "        for index,plane in enumerate(range(self.planes)):\n",
    "            dist = np.linalg.norm([self._agent_location[plane]]*self.planes-self._agent_location,axis = 1)\n",
    "#             if np.argmin(dist) == plane :\n",
    "            dist[plane] = np.inf\n",
    "            dist[dne] = np.inf\n",
    "            closest_dist .append(np.min(dist))\n",
    "            arg_plane = np.argmin(dist)\n",
    "            if dne[arg_plane]:\n",
    "                plane_rho.append(np.inf)\n",
    "                plane_theta.append(np.inf)\n",
    "            else:\n",
    "                if (self._prev_agent_location==None).all():\n",
    "                    self._prev_agent_location = self._agent_location.copy()\n",
    "                ownship = self._agent_location[plane]-self._prev_agent_location[plane] \n",
    "                intruder = self._agent_location[arg_plane]-self._prev_agent_location[arg_plane]\n",
    "                closest_path = self._agent_location[arg_plane]-self._agent_location[plane]\n",
    "    #             deg = np.rad2deg(self.angle_between(intruder,ownship))\n",
    "                y = np.array([intruder[1],ownship[1]])\n",
    "                x = np.array([intruder[0],ownship[0]])\n",
    "                degree = np.rad2deg(np.arctan2(y,x))\n",
    "                deg = degree[1]-degree[0]\n",
    "                alpha = np.rad2deg(np.arctan2(ownship[1],ownship[1]))\n",
    "                beta =  np.rad2deg(np.arctan2(closest_path[1],closest_path[0]))\n",
    "                deg_rho =  180 +(alpha-beta)\n",
    "                plane_rho.append(deg_rho)\n",
    "                plane_theta.append(180 + deg)\n",
    "            distance .append(np.linalg.norm(self._target_location[plane]-self._agent_location[plane]))\n",
    "    \n",
    "#             print(self._intruder,self._todestination)\n",
    "#         print(plane_theta,plane_rho)\n",
    "#         print(degree)\n",
    "        return distance,closest_dist,plane_theta,plane_rho\n",
    "\n",
    "\n",
    "\n",
    "\n",
    "\n",
    "    def _state_to_index(self):\n",
    "        _,closest_dist,plane_theta,plane_rho = self._get_info()\n",
    "        dis_bin = np.arange(self.radius)\n",
    "        angle_bins = np.arange(0,360,10)\n",
    "        dist_index = np.digitize(closest_dist,dis_bin) -1\n",
    "        theta_index = np.digitize(plane_theta,angle_bins) -1\n",
    "        rho_index = np.digitize(plane_rho,angle_bins) -1\n",
    "        return dist_index,theta_index,rho_index\n",
    "            \n",
    "    def _state_in_seq(self):\n",
    "        seq = []\n",
    "        for plane in self._agent_location:\n",
    "            m, n = plane\n",
    "            seq.append(m * self.GRID.shape[1] + n)\n",
    "            \n",
    "        return seq\n",
    "    def render(self):\n",
    "#         print(self._agent_location)\n",
    "        rend = self.GRID.copy().astype(dtype = 'U2')\n",
    "        for plane in range(self.planes):\n",
    "            rend[self._agent_location[plane][0],self._agent_location[plane][1]] = f'p{plane}'\n",
    "            rend[self._target_location[plane][0],self._target_location[plane][1]] = f'd{plane}'\n",
    "#         rend[self._agent_location[:,0],np.array(self._agent_location)[:,1]] = 'p'\n",
    "#         rend[np.array(self._target_location)[:,0],np.array(self._target_location)[:,1]] = 'd'\n",
    "        return print(rend)\n",
    "# if intruser dist < 50rew = intruder if >50 rew = distance dfrom dest \n",
    "    def reset(self):\n",
    "        self._agent_location = []\n",
    "        self._target_location = []\n",
    "#         self.seed = seed\n",
    "        if self.seed is not None:\n",
    "#             self.seed = np.random.randint(5000)\n",
    "            np.random.seed(seed = self.seed)\n",
    "        for p in range(self.planes):\n",
    "            while (pc:= [np.random.randint(self.GRID_DIM[0]),np.random.randint(self.GRID_DIM[1])]) in self._agent_location:\n",
    "                continue\n",
    "            self._agent_location.append(pc)\n",
    "            while (dc:=[np.random.randint(self.GRID_DIM[0]),np.random.randint(self.GRID_DIM[1])]) in self._agent_location + self._target_location:\n",
    "                continue\n",
    "            self._target_location.append(dc)\n",
    "        self._agent_location = np.array(self._agent_location)\n",
    "        self._target_location = np.array(self._target_location)\n",
    "        self._count = [0]*self.planes\n"
   ]
  },
  {
   "cell_type": "code",
   "execution_count": null,
   "id": "6f12f094-f78b-4ec0-a4e2-81b351c03d46",
   "metadata": {},
   "outputs": [],
   "source": []
  },
  {
   "cell_type": "code",
   "execution_count": 280,
   "id": "4bfd367a-dc72-4665-af36-da1c2330caa0",
   "metadata": {},
   "outputs": [],
   "source": [
    "env = AirTraffic(planes=3,grid_size=[100,100])\n",
    "# env.render()"
   ]
  },
  {
   "cell_type": "code",
   "execution_count": 281,
   "id": "265b5e70-17a8-4bf8-b65b-bd2e01c72b82",
   "metadata": {},
   "outputs": [
    {
     "data": {
      "text/plain": [
       "array([  0,  10,  20,  30,  40,  50,  60,  70,  80,  90, 100, 110, 120, 130, 140, 150, 160, 170, 180, 190, 200, 210, 220, 230, 240, 250, 260, 270, 280, 290, 300, 310, 320, 330, 340, 350, 360, 370])"
      ]
     },
     "execution_count": 281,
     "metadata": {},
     "output_type": "execute_result"
    }
   ],
   "source": [
    "a = np.arange(0,380,10)\n",
    "a"
   ]
  },
  {
   "cell_type": "code",
   "execution_count": 282,
   "id": "b4b883e1-b5eb-45d9-be80-c37bc3e90b43",
   "metadata": {},
   "outputs": [
    {
     "data": {
      "text/plain": [
       "array([ 0,  1,  2,  3,  4,  5,  6,  7,  8,  9, 10, 11, 12, 13, 14, 15, 16, 17, 18, 19, 20, 21, 22, 23, 24, 25, 26, 27, 28, 29, 30, 31, 32, 33, 34, 35, 35, 35], dtype=int64)"
      ]
     },
     "execution_count": 282,
     "metadata": {},
     "output_type": "execute_result"
    }
   ],
   "source": [
    "np.digitize(a,np.arange(0,360,10)) -1"
   ]
  },
  {
   "cell_type": "code",
   "execution_count": 261,
   "id": "c4d36dc0-a6ae-4503-9eed-abdedaba63a0",
   "metadata": {},
   "outputs": [],
   "source": [
    "# env.reset()\n",
    "# env.render()"
   ]
  },
  {
   "cell_type": "code",
   "execution_count": 262,
   "id": "6f8daf5b-f55d-4f32-b95b-e3dbd2365a85",
   "metadata": {},
   "outputs": [
    {
     "data": {
      "text/plain": [
       "(array([36,  7,  7], dtype=int64),\n",
       " array([18, 18, 18], dtype=int64),\n",
       " array([35, 17, 35], dtype=int64))"
      ]
     },
     "execution_count": 262,
     "metadata": {},
     "output_type": "execute_result"
    }
   ],
   "source": [
    "env._state_to_index()"
   ]
  },
  {
   "cell_type": "code",
   "execution_count": 247,
   "id": "2d5cf4d1-eeb3-4ff3-bae3-21d9a9441b32",
   "metadata": {},
   "outputs": [
    {
     "data": {
      "text/plain": [
       "({'planes': array([[57, 37],\n",
       "         [91,  4],\n",
       "         [26, 40]]),\n",
       "  'destinations': array([[36, 60],\n",
       "         [31, 32],\n",
       "         [91, 37]])},\n",
       " [110.27653323251464, 75.20957480832212, 76.35216229731975],\n",
       " array([False, False, False]),\n",
       " ([31.144823004794873, 66.2117814289874, 65.06919393998976],\n",
       "  [31.144823004794873, 47.38143096192854, 31.144823004794873],\n",
       "  [360.0, 180.0, 0.0],\n",
       "  [5.527540151656154, 44.14490260373327, 185.52754015165618]))"
      ]
     },
     "execution_count": 247,
     "metadata": {},
     "output_type": "execute_result"
    }
   ],
   "source": [
    "env.step([0,0])\n",
    "\n",
    "# env.render()"
   ]
  },
  {
   "cell_type": "code",
   "execution_count": 248,
   "id": "51ecea23-3953-406c-9098-3d1c68ebd2b1",
   "metadata": {},
   "outputs": [
    {
     "data": {
      "text/plain": [
       "(array([31, 47, 31], dtype=int64),\n",
       " array([35, 18,  0], dtype=int64),\n",
       " array([ 0,  4, 18], dtype=int64))"
      ]
     },
     "execution_count": 248,
     "metadata": {},
     "output_type": "execute_result"
    }
   ],
   "source": [
    "env._state_to_index()"
   ]
  },
  {
   "cell_type": "code",
   "execution_count": 235,
   "id": "a3563062-890c-4d61-a7b1-be44b0b7755b",
   "metadata": {},
   "outputs": [
    {
     "data": {
      "text/plain": [
       "([0.0, 3.1622776601683795, 3.0],\n",
       " [2.23606797749979, 1.4142135623730951, 1.4142135623730951],\n",
       " [180.0, 180.0, 180.0],\n",
       " [26.565051177078004, 135.0, 315.0])"
      ]
     },
     "execution_count": 235,
     "metadata": {},
     "output_type": "execute_result"
    }
   ],
   "source": [
    "env._get_info()"
   ]
  },
  {
   "cell_type": "code",
   "execution_count": 210,
   "id": "ef2bef8d-a125-4fb2-a08c-64619835efe7",
   "metadata": {},
   "outputs": [
    {
     "data": {
      "text/plain": [
       "array([[0, 4],\n",
       "       [2, 1],\n",
       "       [4, 4]])"
      ]
     },
     "execution_count": 210,
     "metadata": {},
     "output_type": "execute_result"
    }
   ],
   "source": [
    "env._prev_agent_location"
   ]
  },
  {
   "cell_type": "code",
   "execution_count": 194,
   "id": "51e30ee6-68f0-4c7b-8e28-665ff05b0a57",
   "metadata": {},
   "outputs": [
    {
     "data": {
      "text/plain": [
       "array([[0, 0],\n",
       "       [0, 4],\n",
       "       [0, 1]])"
      ]
     },
     "execution_count": 194,
     "metadata": {},
     "output_type": "execute_result"
    }
   ],
   "source": [
    "env._agent_location"
   ]
  },
  {
   "cell_type": "code",
   "execution_count": 195,
   "id": "dde3a501-84d2-4a80-926b-41eefb07a43a",
   "metadata": {},
   "outputs": [
    {
     "name": "stdout",
     "output_type": "stream",
     "text": [
      "[0.0, 0.0, 0.0] [-90.0, 90.0, 90.0]\n",
      "[0.0, 0.0, 0.0] [-90.0, 90.0, 90.0]\n",
      "[['d1' 'p2' '0.' 'd0' 'p1']\n",
      " ['0.' '0.' '0.' 'd2' '0.']\n",
      " ['0.' '0.' '0.' '0.' '0.']\n",
      " ['0.' '0.' '0.' '0.' '0.']\n",
      " ['0.' '0.' '0.' '0.' '0.']]\n"
     ]
    }
   ],
   "source": [
    "env.step([4,0])\n",
    "env.render()"
   ]
  },
  {
   "cell_type": "code",
   "execution_count": 196,
   "id": "bd9c5b7c-6025-40b2-9929-dc3746268c5c",
   "metadata": {},
   "outputs": [
    {
     "name": "stdout",
     "output_type": "stream",
     "text": [
      "[0.0, -90.0, 0.0] [-90.0, -45.0, 90.0]\n",
      "[0.0, -90.0, 0.0] [-90.0, -45.0, 90.0]\n",
      "[['d1' 'p2' '0.' 'p1' '0.']\n",
      " ['0.' '0.' '0.' 'd2' '0.']\n",
      " ['0.' '0.' '0.' '0.' '0.']\n",
      " ['0.' '0.' '0.' '0.' '0.']\n",
      " ['0.' '0.' '0.' '0.' '0.']]\n"
     ]
    }
   ],
   "source": [
    "env.step([4,4])\n",
    "env.render()"
   ]
  },
  {
   "cell_type": "code",
   "execution_count": 8,
   "id": "d66ec1da-77f7-425c-9593-652bedbbfd96",
   "metadata": {},
   "outputs": [
    {
     "name": "stdout",
     "output_type": "stream",
     "text": [
      "[96.394448724536, 99.0]\n",
      "[['0.' '0.' 'p1' 'd0' '0.']\n",
      " ['0.' '0.' 'd1' '0.' '0.']\n",
      " ['p0' '0.' '0.' '0.' '0.']\n",
      " ['0.' '0.' '0.' '0.' '0.']\n",
      " ['0.' '0.' '0.' '0.' '0.']]\n"
     ]
    }
   ],
   "source": [
    "env.step([3,3])\n",
    "env.render()"
   ]
  },
  {
   "cell_type": "code",
   "execution_count": 9,
   "id": "96d74de6-1758-48cb-990f-14edcef92228",
   "metadata": {},
   "outputs": [
    {
     "name": "stdout",
     "output_type": "stream",
     "text": [
      "[96.83772233983161, 99.0]\n",
      "[['0.' '0.' '0.' 'd0' '0.']\n",
      " ['p0' '0.' 'd1' 'p1' '0.']\n",
      " ['0.' '0.' '0.' '0.' '0.']\n",
      " ['0.' '0.' '0.' '0.' '0.']\n",
      " ['0.' '0.' '0.' '0.' '0.']]\n"
     ]
    }
   ],
   "source": [
    "env.step([3,3])\n",
    "env.render()"
   ]
  },
  {
   "cell_type": "code",
   "execution_count": 10,
   "id": "90e119eb-dcc0-40cc-beb2-4c00a22bfdef",
   "metadata": {},
   "outputs": [
    {
     "data": {
      "text/plain": [
       "inf"
      ]
     },
     "execution_count": 10,
     "metadata": {},
     "output_type": "execute_result"
    }
   ],
   "source": [
    "np.inf- 5"
   ]
  },
  {
   "cell_type": "code",
   "execution_count": 11,
   "id": "1197447e-6e22-4973-b778-8ee27d0f18da",
   "metadata": {},
   "outputs": [
    {
     "data": {
      "text/plain": [
       "1.0"
      ]
     },
     "execution_count": 11,
     "metadata": {},
     "output_type": "execute_result"
    }
   ],
   "source": [
    "a = [[1,1],[2,2],[3,6]]\n",
    "b = np.array([[2,3],[2,5],[2,6]])\n",
    "np.min(np.linalg.norm(a-b,axis=1))"
   ]
  },
  {
   "cell_type": "code",
   "execution_count": 12,
   "id": "32431808-ca39-4444-a666-32dc001a5f78",
   "metadata": {},
   "outputs": [
    {
     "data": {
      "text/plain": [
       "array([[0., 0., 0., 0., 0., 0., 0., 0.],\n",
       "       [0., 0., 0., 0., 0., 0., 0., 0.],\n",
       "       [0., 0., 0., 1., 0., 1., 1., 0.],\n",
       "       [0., 0., 0., 0., 0., 0., 0., 0.],\n",
       "       [0., 0., 0., 0., 0., 0., 0., 0.],\n",
       "       [0., 0., 0., 0., 0., 0., 0., 0.],\n",
       "       [0., 0., 0., 0., 0., 0., 0., 0.],\n",
       "       [0., 0., 0., 0., 0., 0., 0., 0.]])"
      ]
     },
     "execution_count": 12,
     "metadata": {},
     "output_type": "execute_result"
    }
   ],
   "source": [
    "c = np.zeros([8,8])\n",
    "c[b[:,0],b[:,1]] = 1\n",
    "c"
   ]
  },
  {
   "cell_type": "code",
   "execution_count": 13,
   "id": "86452fe8-6497-45ec-b486-8b0e88652704",
   "metadata": {},
   "outputs": [
    {
     "data": {
      "text/plain": [
       "[array([0, 4]), array([0, 2])]"
      ]
     },
     "execution_count": 13,
     "metadata": {},
     "output_type": "execute_result"
    }
   ],
   "source": [
    "x = [np.array([np.random.randint(4),np.random.randint(5)]) for p in range(2)]\n",
    "x\n",
    "y = [np.array([np.random.randint(4),np.random.randint(5)]) for p in range(2)]\n",
    "y"
   ]
  },
  {
   "cell_type": "code",
   "execution_count": 14,
   "id": "079f5d5c-0f8a-49fc-bb54-25939c87a5a5",
   "metadata": {},
   "outputs": [
    {
     "data": {
      "text/plain": [
       "[array([2, 1]), array([2, 4]), array([0, 4]), array([0, 2])]"
      ]
     },
     "execution_count": 14,
     "metadata": {},
     "output_type": "execute_result"
    }
   ],
   "source": [
    "x+y"
   ]
  },
  {
   "cell_type": "code",
   "execution_count": 15,
   "id": "deaf58b1-0f8a-4868-953b-07140a59ed66",
   "metadata": {},
   "outputs": [
    {
     "data": {
      "text/plain": [
       "array([0, 4])"
      ]
     },
     "execution_count": 15,
     "metadata": {},
     "output_type": "execute_result"
    }
   ],
   "source": [
    "y = np.array(y)\n",
    "x = np.array(x)\n",
    "y[0]"
   ]
  },
  {
   "cell_type": "code",
   "execution_count": 16,
   "id": "1cbd21d8-a724-49cc-9673-1584a389ec37",
   "metadata": {},
   "outputs": [
    {
     "data": {
      "text/plain": [
       "array([[2, 1],\n",
       "       [2, 4]])"
      ]
     },
     "execution_count": 16,
     "metadata": {},
     "output_type": "execute_result"
    }
   ],
   "source": [
    "x"
   ]
  },
  {
   "cell_type": "code",
   "execution_count": 118,
   "id": "686364c6-2d72-4898-a105-1bc2e8fc48f6",
   "metadata": {},
   "outputs": [
    {
     "name": "stdout",
     "output_type": "stream",
     "text": [
      "[19, 15]\n",
      "True\n",
      "[19, 15]\n",
      "True\n"
     ]
    }
   ],
   "source": [
    "env = AirTraffic()\n",
    "env._state_in_seq()\n",
    "n_planes,n_states, n_actions = env.planes, env.state_space.n, env.action_space.n\n",
    "Q = np.zeros((n_planes, n_states, n_actions))\n",
    "seq = env._state_in_seq()\n",
    "\n",
    "for plane,s in enumerate(seq):\n",
    "    Q[plane,s,:] = 1\n",
    "    print(seq)\n",
    "    print((Q[plane,s,:]!=0).all(axis = 0))"
   ]
  },
  {
   "cell_type": "code",
   "execution_count": 3,
   "id": "b1185bce-bb8f-42b5-a6ae-7ccd3ad0318a",
   "metadata": {},
   "outputs": [],
   "source": [
    "from IPython.display import clear_output"
   ]
  },
  {
   "cell_type": "code",
   "execution_count": 10,
   "id": "79ae50cb-a033-4eef-84c1-09ff6007b55b",
   "metadata": {},
   "outputs": [],
   "source": [
    "env = AirTraffic()\n",
    "\n",
    "def ep_greedy(env,Q,epsilon=0.9):\n",
    "    dist_index,theta_index,rho_index = env._state_to_index()\n",
    "#     print(dist_index)\n",
    "#     print(seqs)\n",
    "    action = []\n",
    "    for plane in range(env.planes):\n",
    "        if np.random.random()<epsilon:\n",
    "    #         print(Q[seq,:])\n",
    "\n",
    "            x=(Q[dist_index[plane],theta_index[plane],rho_index[plane],:]!=0).all()\n",
    "    #         print(x,'here')\n",
    "            if x :           \n",
    "                action.append(np.argmax(Q[dist_index[plane],theta_index[plane],rho_index[plane],:]))\n",
    "    #             print('h')\n",
    "            else:\n",
    "                axn = np.where(Q[dist_index[plane],theta_index[plane],rho_index[plane],:]==0)[0]\n",
    "    #             print(action)\n",
    "                action.append(axn[0])\n",
    "    #             print('why')\n",
    "        else:\n",
    "            action.append(np.random.randint(env.action_space.n))\n",
    "    #     print(action)\n",
    "    return action\n",
    "def Sarsa(env,alpha, gamma, epsilon, episodes, max_steps):\n",
    "    timestep_reward = []\n",
    "    cumsum_reward  = []\n",
    "    count_st = np.zeros((env.planes, env.state_space.n, env.action_space.n))\n",
    "    for ep in range(episodes):\n",
    "        env.reset()\n",
    "        done = [False]*env.planes\n",
    "        total_reward = [0]*env.planes\n",
    "        cumsum_ep= []\n",
    "        curr_dist_index,curr_theta_index,curr_rho_index = env._state_to_index()\n",
    "        curr_a = ep_greedy(env,Q)\n",
    "        t = 0\n",
    "        while not np.array(done).all() :\n",
    "            obs, reward, done, info = env.step(curr_a)\n",
    "            nxt_dist_id,nxt_theta_id,nxt_rho_id = env._state_to_index()\n",
    "            total_reward= np.add(total_reward,reward)\n",
    "            next_act = ep_greedy(env,Q)\n",
    "    #         s = curr_state \n",
    "    #         s_ = next_state \n",
    "    #         a_ = next_act\n",
    "            t+=1\n",
    "            for plane in range(env.planes):\n",
    "                Q[curr_dist_index[plane],curr_theta_index[plane],curr_rho_index[plane],curr_a[plane]] += alpha * ( reward[plane] + (gamma * Q[nxt_dist_id[plane],nxt_theta_id[plane],nxt_rho_id[plane], next_act[plane]] ) \n",
    "                                                                                                   - Q[curr_dist_index[plane],curr_theta_index[plane],curr_rho_index[plane],curr_a[plane]] )\n",
    "            curr_dist_index,curr_theta_index,curr_rho_index = nxt_dist_id,nxt_theta_id,nxt_rho_id\n",
    "            curr_a = next_act\n",
    "    #         print(reward)\n",
    "#             env.render()\n",
    "#         print(t)\n",
    "#             cumsum_ep.append(total_reward/(t))\n",
    "            print(t,ep,end=' ')\n",
    "            clear_output(wait=True)        \n",
    "        cumsum_reward.append(total_reward/t)\n",
    "        timestep_reward.append(total_reward)\n",
    "    return timestep_reward,cumsum_reward"
   ]
  },
  {
   "cell_type": "code",
   "execution_count": 288,
   "id": "4640ebfb-cfc4-4c0c-b3c7-c6d69a855131",
   "metadata": {},
   "outputs": [
    {
     "data": {
      "text/plain": [
       "array([ 0,  1,  2,  3,  4,  5,  6,  7,  8,  9, 10, 11, 12, 13, 14, 15, 16, 17, 18, 19, 20, 21, 22, 23, 24, 25, 26, 27, 28, 29, 30, 31, 32, 33, 34, 35])"
      ]
     },
     "execution_count": 288,
     "metadata": {},
     "output_type": "execute_result"
    }
   ],
   "source": [
    "18 + np.arange(-18,18,1)"
   ]
  },
  {
   "cell_type": "code",
   "execution_count": 289,
   "id": "28e7d2e5-f5f3-49c0-8dbd-6fd8b240e922",
   "metadata": {},
   "outputs": [
    {
     "name": "stdout",
     "output_type": "stream",
     "text": [
      "[1 1]\n"
     ]
    },
    {
     "data": {
      "text/plain": [
       "[0, 0]"
      ]
     },
     "execution_count": 289,
     "metadata": {},
     "output_type": "execute_result"
    }
   ],
   "source": [
    "ep_greedy(env,Q*1)"
   ]
  },
  {
   "cell_type": "code",
   "execution_count": 290,
   "id": "d78a3c34-b26a-4ea2-aeca-681a583781df",
   "metadata": {},
   "outputs": [
    {
     "data": {
      "text/plain": [
       "(2, 36, 36, 5)"
      ]
     },
     "execution_count": 290,
     "metadata": {},
     "output_type": "execute_result"
    }
   ],
   "source": [
    "Q.shape"
   ]
  },
  {
   "cell_type": "code",
   "execution_count": 291,
   "id": "8a56ffb1-d176-4b98-9c9b-c48c633b2ead",
   "metadata": {},
   "outputs": [
    {
     "ename": "IndexError",
     "evalue": "index 2 is out of bounds for axis 0 with size 2",
     "output_type": "error",
     "traceback": [
      "\u001b[1;31m---------------------------------------------------------------------------\u001b[0m",
      "\u001b[1;31mIndexError\u001b[0m                                Traceback (most recent call last)",
      "\u001b[1;32m~\\AppData\\Local\\Temp\\ipykernel_12312\\1297813122.py\u001b[0m in \u001b[0;36m<cell line: 1>\u001b[1;34m()\u001b[0m\n\u001b[1;32m----> 1\u001b[1;33m \u001b[0menv\u001b[0m\u001b[1;33m.\u001b[0m\u001b[0mstep\u001b[0m\u001b[1;33m(\u001b[0m\u001b[1;33m[\u001b[0m\u001b[1;36m1\u001b[0m\u001b[1;33m,\u001b[0m\u001b[1;36m1\u001b[0m\u001b[1;33m,\u001b[0m\u001b[1;36m1\u001b[0m\u001b[1;33m]\u001b[0m\u001b[1;33m)\u001b[0m\u001b[1;33m\u001b[0m\u001b[1;33m\u001b[0m\u001b[0m\n\u001b[0m",
      "\u001b[1;32m~\\AppData\\Local\\Temp\\ipykernel_12312\\2125606024.py\u001b[0m in \u001b[0;36mstep\u001b[1;34m(self, action)\u001b[0m\n\u001b[0;32m     56\u001b[0m \u001b[1;33m\u001b[0m\u001b[0m\n\u001b[0;32m     57\u001b[0m \u001b[1;31m#             for plane,action in enumerate(action):\u001b[0m\u001b[1;33m\u001b[0m\u001b[1;33m\u001b[0m\u001b[1;33m\u001b[0m\u001b[0m\n\u001b[1;32m---> 58\u001b[1;33m         \u001b[0mmoved_plane\u001b[0m \u001b[1;33m=\u001b[0m \u001b[0mself\u001b[0m\u001b[1;33m.\u001b[0m\u001b[0m_move\u001b[0m\u001b[1;33m(\u001b[0m\u001b[0maction\u001b[0m\u001b[1;33m)\u001b[0m\u001b[1;33m\u001b[0m\u001b[1;33m\u001b[0m\u001b[0m\n\u001b[0m\u001b[0;32m     59\u001b[0m         \u001b[0mdone\u001b[0m\u001b[1;33m,\u001b[0m\u001b[0mreward\u001b[0m \u001b[1;33m=\u001b[0m  \u001b[0mself\u001b[0m\u001b[1;33m.\u001b[0m\u001b[0m_is_over\u001b[0m\u001b[1;33m(\u001b[0m\u001b[1;33m)\u001b[0m\u001b[1;33m\u001b[0m\u001b[1;33m\u001b[0m\u001b[0m\n\u001b[0;32m     60\u001b[0m         \u001b[0mobservation\u001b[0m \u001b[1;33m=\u001b[0m \u001b[0mself\u001b[0m\u001b[1;33m.\u001b[0m\u001b[0m_get_obs\u001b[0m\u001b[1;33m(\u001b[0m\u001b[1;33m)\u001b[0m\u001b[1;33m\u001b[0m\u001b[1;33m\u001b[0m\u001b[0m\n",
      "\u001b[1;32m~\\AppData\\Local\\Temp\\ipykernel_12312\\2125606024.py\u001b[0m in \u001b[0;36m_move\u001b[1;34m(self, action)\u001b[0m\n\u001b[0;32m     64\u001b[0m \u001b[1;33m\u001b[0m\u001b[0m\n\u001b[0;32m     65\u001b[0m         \u001b[1;32mfor\u001b[0m \u001b[0mplane\u001b[0m\u001b[1;33m,\u001b[0m\u001b[0mact\u001b[0m \u001b[1;32min\u001b[0m \u001b[0menumerate\u001b[0m\u001b[1;33m(\u001b[0m\u001b[0maction\u001b[0m\u001b[1;33m)\u001b[0m\u001b[1;33m:\u001b[0m\u001b[1;33m\u001b[0m\u001b[1;33m\u001b[0m\u001b[0m\n\u001b[1;32m---> 66\u001b[1;33m             \u001b[1;32mif\u001b[0m \u001b[0mnp\u001b[0m\u001b[1;33m.\u001b[0m\u001b[0marray_equal\u001b[0m\u001b[1;33m(\u001b[0m\u001b[0mself\u001b[0m\u001b[1;33m.\u001b[0m\u001b[0m_agent_location\u001b[0m\u001b[1;33m[\u001b[0m\u001b[0mplane\u001b[0m\u001b[1;33m]\u001b[0m\u001b[1;33m,\u001b[0m\u001b[0mself\u001b[0m\u001b[1;33m.\u001b[0m\u001b[0m_target_location\u001b[0m\u001b[1;33m[\u001b[0m\u001b[0mplane\u001b[0m\u001b[1;33m]\u001b[0m\u001b[1;33m)\u001b[0m\u001b[1;33m:\u001b[0m\u001b[1;33m\u001b[0m\u001b[1;33m\u001b[0m\u001b[0m\n\u001b[0m\u001b[0;32m     67\u001b[0m                 \u001b[0mself\u001b[0m\u001b[1;33m.\u001b[0m\u001b[0m_count\u001b[0m\u001b[1;33m[\u001b[0m\u001b[0mplane\u001b[0m\u001b[1;33m]\u001b[0m\u001b[1;33m+=\u001b[0m\u001b[1;36m1\u001b[0m\u001b[1;33m\u001b[0m\u001b[1;33m\u001b[0m\u001b[0m\n\u001b[0;32m     68\u001b[0m                 \u001b[1;32mcontinue\u001b[0m\u001b[1;33m\u001b[0m\u001b[1;33m\u001b[0m\u001b[0m\n",
      "\u001b[1;31mIndexError\u001b[0m: index 2 is out of bounds for axis 0 with size 2"
     ]
    }
   ],
   "source": [
    "env.step([1,1,1])"
   ]
  },
  {
   "cell_type": "code",
   "execution_count": 11,
   "id": "e179402d-933f-40be-827a-da407fb7f673",
   "metadata": {
    "scrolled": true,
    "tags": []
   },
   "outputs": [
    {
     "name": "stdout",
     "output_type": "stream",
     "text": [
      "116 49 "
     ]
    }
   ],
   "source": [
    "env = AirTraffic(planes=5,grid_size=[10,10],radius=5)\n",
    "n_radius,n_theta, n_rho,n_actions = env.radius, 36,36, env.action_space.n\n",
    "Q = np.zeros((n_radius, n_theta,n_rho, n_actions))\n",
    "env.render()\n",
    "alpha = 0.4\n",
    "gamma = 0.9\n",
    "epsilon = 0.9\n",
    "episodes = 50\n",
    "max_steps = 1e4\n",
    "# n_tests = 20\n",
    "timestep_reward,cumsum_reward = Sarsa(env,alpha, gamma, epsilon, episodes, max_steps)\n",
    "# print(timestep_reward)"
   ]
  },
  {
   "cell_type": "code",
   "execution_count": 12,
   "id": "9a2b0771-2977-4407-bef5-f8a5b79b7f60",
   "metadata": {},
   "outputs": [
    {
     "name": "stdout",
     "output_type": "stream",
     "text": [
      "[['0.' '0.' '0.' '0.' '0.' '0.' '0.' '0.' '0.' '0.']\n",
      " ['0.' '0.' '0.' '0.' 'd4' '0.' '0.' '0.' '0.' '0.']\n",
      " ['0.' '0.' '0.' '0.' '0.' '0.' '0.' '0.' '0.' 'd2']\n",
      " ['0.' '0.' '0.' '0.' '0.' '0.' '0.' '0.' '0.' '0.']\n",
      " ['0.' '0.' '0.' '0.' '0.' '0.' '0.' '0.' '0.' '0.']\n",
      " ['d1' '0.' '0.' '0.' '0.' '0.' '0.' '0.' '0.' '0.']\n",
      " ['0.' 'd3' '0.' '0.' '0.' '0.' '0.' '0.' '0.' '0.']\n",
      " ['0.' 'd0' '0.' '0.' '0.' '0.' '0.' '0.' '0.' '0.']\n",
      " ['0.' '0.' '0.' '0.' '0.' '0.' '0.' '0.' '0.' '0.']\n",
      " ['0.' '0.' '0.' '0.' '0.' '0.' '0.' '0.' '0.' '0.']]\n"
     ]
    }
   ],
   "source": [
    "env.render() # if the plane is already done then that plane has inf dist to other  planes, angle is also inf. if only one plane exists "
   ]
  },
  {
   "cell_type": "code",
   "execution_count": 13,
   "id": "4e10279c-19b9-437c-8554-44ca7cbf203b",
   "metadata": {},
   "outputs": [
    {
     "data": {
      "text/plain": [
       "([0.0, 0.0, 0.0, 0.0, 0.0],\n",
       " [inf, inf, inf, inf, inf],\n",
       " [inf, inf, inf, inf, inf],\n",
       " [inf, inf, inf, inf, inf])"
      ]
     },
     "execution_count": 13,
     "metadata": {},
     "output_type": "execute_result"
    }
   ],
   "source": [
    "env._get_info()"
   ]
  },
  {
   "cell_type": "code",
   "execution_count": 14,
   "id": "b8cdb434-18c9-49eb-9e51-5fc561fe74e6",
   "metadata": {},
   "outputs": [
    {
     "data": {
      "text/plain": [
       "(array([4, 4, 4, 4, 4], dtype=int64),\n",
       " array([35, 35, 35, 35, 35], dtype=int64),\n",
       " array([35, 35, 35, 35, 35], dtype=int64))"
      ]
     },
     "execution_count": 14,
     "metadata": {},
     "output_type": "execute_result"
    }
   ],
   "source": [
    "env._state_to_index()"
   ]
  },
  {
   "cell_type": "code",
   "execution_count": null,
   "id": "2bbaed3d-03e4-476a-9cd7-0e19dbe7f9b8",
   "metadata": {},
   "outputs": [],
   "source": [
    "Q.shape"
   ]
  },
  {
   "cell_type": "code",
   "execution_count": null,
   "id": "aa09b449-ca65-4ba2-8853-cabc0278c7c2",
   "metadata": {},
   "outputs": [],
   "source": [
    "env.render()"
   ]
  },
  {
   "cell_type": "code",
   "execution_count": null,
   "id": "63330e92-32e9-4b84-927d-6cb00df04a9f",
   "metadata": {},
   "outputs": [],
   "source": [
    "env._get_obs()"
   ]
  },
  {
   "cell_type": "code",
   "execution_count": 155,
   "id": "7b20a4f8-e52c-49a1-8f82-882740a2877f",
   "metadata": {},
   "outputs": [
    {
     "name": "stdout",
     "output_type": "stream",
     "text": [
      "[['0.' 'd0' '0.' '0.' '0.']\n",
      " ['0.' '0.' 'p2' '0.' '0.']\n",
      " ['0.' '0.' '0.' '0.' '0.']\n",
      " ['p1' '0.' '0.' '0.' 'p0']\n",
      " ['0.' '0.' 'd2' '0.' 'd1']]\n",
      "None\n"
     ]
    }
   ],
   "source": [
    "env.reset()\n",
    "env._get_obs()\n",
    "print(env.render())"
   ]
  },
  {
   "cell_type": "code",
   "execution_count": 194,
   "id": "181cbd0f-5bfe-4747-b7f3-29a33e61b0f9",
   "metadata": {},
   "outputs": [],
   "source": [
    "# timestep_reward"
   ]
  },
  {
   "cell_type": "code",
   "execution_count": 196,
   "id": "938ac466-6c5b-4e23-980e-08737b29b362",
   "metadata": {
    "scrolled": true,
    "tags": []
   },
   "outputs": [],
   "source": [
    "# cumsum_reward"
   ]
  },
  {
   "cell_type": "code",
   "execution_count": 15,
   "id": "e1268786-e66e-46a1-bf9b-ace33e0b71bf",
   "metadata": {},
   "outputs": [],
   "source": [
    "cumsum_rew  = np.cumsum(timestep_reward,axis=0)\n",
    "cumsum_rew\n",
    "cumsum_plain_avg = np.average(cumsum_reward,axis=1)\n",
    "# cumsum_ep_avg.shape\n",
    "# np.ma.average(cumsum_reward,axis=2)\n",
    "# np.average(cumsum_rew,axis=1)"
   ]
  },
  {
   "cell_type": "code",
   "execution_count": 159,
   "id": "b71b813f-8fed-4932-b66b-7b4fea8cadce",
   "metadata": {},
   "outputs": [
    {
     "name": "stdout",
     "output_type": "stream",
     "text": [
      "[]\n"
     ]
    }
   ],
   "source": [
    "timestep_reward\n",
    "import pandas as pd\n",
    "rewx = []\n",
    "print(rewx)\n",
    "for plane in range(len(timestep_reward[0])):\n",
    "    rew = []\n",
    "    for episode in timestep_reward:\n",
    "        rew.append(episode[plane])\n",
    "    rewx.append(rew)\n",
    "#     print(rewards)\n",
    "# rewards\n",
    "# len(timestep_reward[0])\n",
    "# a = rewx[0]\n",
    "# a.append(1)\n",
    "# rewx\n"
   ]
  },
  {
   "cell_type": "code",
   "execution_count": 160,
   "id": "fbfe887d-3fac-4ba1-afb6-52a4796bad0a",
   "metadata": {},
   "outputs": [
    {
     "data": {
      "text/plain": [
       "array([-4.02571043, -7.821517  , -3.31214357, -3.03295029, -1.39928223, -3.01174425, -7.24045566, -5.00987255, -2.99111931, -3.52854292, -3.00961612, -2.85918106, -3.2091897 , -3.08125563, -3.05560023, -3.16839148, -2.63532234, -3.37022954, -2.6401684 , -3.22018028, -3.16575462, -3.03269595, -2.72145744, -2.48782918, -3.33797239, -3.12585802, -2.99980843, -2.91395761, -2.94273244, -3.05994582, -2.94273244, -3.07118446, -3.24679526, -2.8968569 , -2.82369919, -2.48782918, -2.75089798,\n",
       "       -2.91399971, -2.97103185, -3.18785961, -2.8968569 , -2.82369919, -2.48782918, -2.48782918, -3.17698817, -3.07118446, -3.24679526, -2.8968569 , -2.82369919, -2.48782918])"
      ]
     },
     "execution_count": 160,
     "metadata": {},
     "output_type": "execute_result"
    }
   ],
   "source": [
    "np.average(cumsum_reward,axis=1)"
   ]
  },
  {
   "cell_type": "code",
   "execution_count": 19,
   "id": "1ccbed34-d68b-467a-ae3b-d09cadefef38",
   "metadata": {},
   "outputs": [
    {
     "data": {
      "text/plain": [
       "Text(0, 0.5, 'Average Score')"
      ]
     },
     "execution_count": 19,
     "metadata": {},
     "output_type": "execute_result"
    },
    {
     "data": {
      "image/png": "[encoded data removed]",
      "text/plain": [
       "<Figure size 432x288 with 1 Axes>"
      ]
     },
     "metadata": {
      "needs_background": "light"
     },
     "output_type": "display_data"
    }
   ],
   "source": [
    "import matplotlib.pyplot as plt\n",
    "# plt.plot(timestep_reward)\n",
    "# plt.plot(rewx)\n",
    "# plt.plot(cumsum_rew)\n",
    "# plt.plot(cumsum_avg,'r')\n",
    "# plt.plot(cumsum_reward)\n",
    "# plt.title(label=f'Average Score over Time')\n",
    "plt.title(label=f'Average Score over Time - Multi Agent SARSA ({np.average(cumsum_plain_avg) :.2f})')\n",
    "plt.plot(cumsum_plain_avg,linestyle ='--')\n",
    "plt.xlabel('Epochs')\n",
    "plt.ylabel(f'Average Score')\n",
    "# plt.legend()"
   ]
  },
  {
   "cell_type": "code",
   "execution_count": 20,
   "id": "f3624a8e-5868-4ddd-8595-f0858a5364e9",
   "metadata": {},
   "outputs": [
    {
     "data": {
      "text/plain": [
       "-inf"
      ]
     },
     "execution_count": 20,
     "metadata": {},
     "output_type": "execute_result"
    }
   ],
   "source": [
    "50-np.inf"
   ]
  },
  {
   "cell_type": "code",
   "execution_count": 149,
   "id": "a9b05c22-77d1-4d07-9ed7-0c0be26eee0e",
   "metadata": {},
   "outputs": [],
   "source": [
    "# np.average(cumsum_plain_avg)"
   ]
  },
  {
   "cell_type": "markdown",
   "id": "d32cd51b-cbd0-4d5e-b7ec-c74112d7c566",
   "metadata": {},
   "source": [
    "#### Random agent\n",
    "\n",
    "must follow greedy until any plane close"
   ]
  },
  {
   "cell_type": "code",
   "execution_count": 114,
   "id": "77cc7317-1099-4920-bbe6-29f45bdebcf1",
   "metadata": {},
   "outputs": [],
   "source": [
    "def random_pol(env,episodes):\n",
    "    action_space ={\n",
    "        0: np.array([-1, 0]),\n",
    "        1: np.array([-1, 1]),\n",
    "        2: np.array([0,  1]),\n",
    "        3: np.array([-1 , -1]),\n",
    "        4: np.array([0 , -1]),            \n",
    "    }\n",
    "    timestep_reward = []\n",
    "    cumsum_reward  = []\n",
    "    max_step=100\n",
    "    for ep in range(episodes):\n",
    "        env.reset()\n",
    "#         print(env._get_obs())\n",
    "        done =  [False]*env.planes\n",
    "        total_reward = [0]*env.planes\n",
    "        cumsum_ep= []\n",
    "        t=0\n",
    "        while not np.array(done).all() and t<max_step:\n",
    "            \n",
    "            action = []\n",
    "            distance, closest_dist = env._get_info()\n",
    "            for plane in range(env.planes):\n",
    "                if closest_dist[plane]< env.radius:\n",
    "                    action.append(np.random.randint(env.action_space.n))\n",
    "                else:\n",
    "                    x = np.sign(env._target_location[plane] - env._agent_location[plane])\n",
    "                    if x[0] in [0,-1]:\n",
    "                        for act,a in enumerate(action_space.values()):\n",
    "                            _ = np.array_equal(x,a)\n",
    "                            if _:\n",
    "#                                 print(_)\n",
    "                                action.append(act)\n",
    "                                break\n",
    "                    else:\n",
    "                        x = -x\n",
    "                        for act,a in enumerate(action_space.values()):\n",
    "                            _ = np.array_equal(x,a)\n",
    "                            if _:\n",
    "                                action.append(act)\n",
    "                                break\n",
    "            t+=1\n",
    "            obs,reward,done,info  = env.step(action)\n",
    "            total_reward= np.add(total_reward,reward)\n",
    "#             print(t)\n",
    "#         print(ep)\n",
    "#             env.render()\n",
    "#         print('___________')\n",
    "        cumsum_reward.append(total_reward/t)\n",
    "        timestep_reward.append(total_reward)\n",
    "            \n",
    "    return timestep_reward,cumsum_reward            "
   ]
  },
  {
   "cell_type": "code",
   "execution_count": 122,
   "id": "d2684b47-3cb4-435a-a51b-7d2fae689e15",
   "metadata": {
    "scrolled": true,
    "tags": []
   },
   "outputs": [],
   "source": [
    "env = AirTraffic(planes=3)\n",
    "episodes = 500\n",
    "timestep_reward,cumsum_reward = random_pol(env,episodes)"
   ]
  },
  {
   "cell_type": "code",
   "execution_count": null,
   "id": "fd2945e2-1957-49b7-b360-292ffcf30ec8",
   "metadata": {},
   "outputs": [],
   "source": []
  },
  {
   "cell_type": "code",
   "execution_count": 123,
   "id": "2eb0aca3-1af6-4181-ab0e-20e2b971336d",
   "metadata": {},
   "outputs": [],
   "source": [
    "cumsum_rew  = np.cumsum(timestep_reward,axis=0)\n",
    "cumsum_rew\n",
    "cumsum_plain_avg = np.average(cumsum_reward,axis=1)"
   ]
  },
  {
   "cell_type": "code",
   "execution_count": 124,
   "id": "290cadfe-7aa8-40a6-891a-278cb92d7c33",
   "metadata": {},
   "outputs": [
    {
     "data": {
      "text/plain": [
       "Text(0, 0.5, 'Average Score')"
      ]
     },
     "execution_count": 124,
     "metadata": {},
     "output_type": "execute_result"
    },
    {
     "data": {
      "image/png": "[encoded data removed]",
      "text/plain": [
       "<Figure size 432x288 with 1 Axes>"
      ]
     },
     "metadata": {
      "needs_background": "light"
     },
     "output_type": "display_data"
    }
   ],
   "source": [
    "import matplotlib.pyplot as plt\n",
    "plt.title(label=f'Average Score over Time Random policy')\n",
    "plt.plot(cumsum_plain_avg,linestyle ='--')\n",
    "plt.xlabel('Epochs')\n",
    "plt.ylabel(f'Average Score')\n",
    "# plt.legend()"
   ]
  },
  {
   "cell_type": "markdown",
   "id": "f4a87387-e0ae-4f17-9990-90fcfe4421d9",
   "metadata": {},
   "source": [
    "## Greedy Agent"
   ]
  },
  {
   "cell_type": "code",
   "execution_count": 125,
   "id": "f5dc81ac-69ac-40ae-85dd-a393e938ff4f",
   "metadata": {},
   "outputs": [],
   "source": [
    "def greedy_pol(env,episodes):\n",
    "    action_space ={\n",
    "        0: np.array([-1, 0]),\n",
    "        1: np.array([-1, 1]),\n",
    "        2: np.array([0,  1]),\n",
    "        3: np.array([-1 , -1]),\n",
    "        4: np.array([0 , -1]),            \n",
    "    }\n",
    "    timestep_reward = []\n",
    "    cumsum_reward  = []\n",
    "    max_step=100\n",
    "    for ep in range(episodes):\n",
    "        env.reset()\n",
    "#         print(env._get_obs())\n",
    "        done =  [False]*env.planes\n",
    "        total_reward = [0]*env.planes\n",
    "        cumsum_ep= []\n",
    "        t=0\n",
    "        while not np.array(done).all() and t<max_step:\n",
    "            \n",
    "            action = []\n",
    "            x = np.sign(env._target_location[plane] - env._agent_location[plane])\n",
    "            if x[0] in [0,-1]:\n",
    "                for act,a in enumerate(action_space.values()):\n",
    "                    _ = np.array_equal(x,a)\n",
    "                    if _:\n",
    "#                                 print(_)\n",
    "                        action.append(act)\n",
    "                        break\n",
    "            else:\n",
    "                x = -x\n",
    "                for act,a in enumerate(action_space.values()):\n",
    "                    _ = np.array_equal(x,a)\n",
    "                    if _:\n",
    "                        action.append(act)\n",
    "                        break\n",
    "            t+=1\n",
    "            obs,reward,done,info  = env.step(action)\n",
    "            total_reward= np.add(total_reward,reward)\n",
    "#             print(t)\n",
    "#         print(ep)\n",
    "#             env.render()\n",
    "#         print('___________')\n",
    "        cumsum_reward.append(total_reward/t)\n",
    "        timestep_reward.append(total_reward)\n",
    "            \n",
    "    return timestep_reward,cumsum_reward            "
   ]
  },
  {
   "cell_type": "code",
   "execution_count": 138,
   "id": "8e7f85c1-28df-4d1d-ad1a-555652f1d211",
   "metadata": {},
   "outputs": [],
   "source": [
    "env = AirTraffic(planes=3)\n",
    "episodes = 200\n",
    "timestep_reward,cumsum_reward = random_pol(env,episodes)"
   ]
  },
  {
   "cell_type": "code",
   "execution_count": 139,
   "id": "a2b5a4b1-2c30-46ff-a283-20e54bc2afe1",
   "metadata": {},
   "outputs": [],
   "source": [
    "cumsum_plain_avg = np.average(cumsum_reward,axis=1)"
   ]
  },
  {
   "cell_type": "code",
   "execution_count": null,
   "id": "1cca7776-0f99-4c25-9c70-3c5d428e1fae",
   "metadata": {},
   "outputs": [
    {
     "data": {
      "text/plain": [
       "Text(0, 0.5, 'Average Score')"
      ]
     },
     "execution_count": 142,
     "metadata": {},
     "output_type": "execute_result"
    },
    {
     "data": {
      "image/png": "[encoded data removed]",
      "text/plain": [
       "<Figure size 432x288 with 1 Axes>"
      ]
     },
     "metadata": {
      "needs_background": "light"
     },
     "output_type": "display_data"
    }
   ],
   "source": [
    "import matplotlib.pyplot as plt\n",
    "plt.title(label=f'Average Score over Time Greedy policy')\n",
    "plt.plot(cumsum_plain_avg)\n",
    "plt.xlabel('Epochs')\n",
    "plt.ylabel(f'Average Score')\n",
    "# plt.legend()"
   ]
  },
  {
   "cell_type": "code",
   "execution_count": 2,
   "id": "7606a106-8569-4ffc-a158-849a30987d82",
   "metadata": {},
   "outputs": [],
   "source": [
    "import numpy as np"
   ]
  },
  {
   "cell_type": "code",
   "execution_count": 22,
   "id": "a4ae17df-84d8-4416-9b95-76b12c76e7d7",
   "metadata": {},
   "outputs": [],
   "source": [
    "a = np.zeros([3,5,4])\n",
    "ax = [1,2,3]\n",
    "for plane, seq in enumerate( [0,1,4]): \n",
    "    a[plane,seq,ax[plane]]+=1"
   ]
  },
  {
   "cell_type": "code",
   "execution_count": 23,
   "id": "07ee7a07-7f0e-4c84-a358-31557de8b6f6",
   "metadata": {},
   "outputs": [
    {
     "data": {
      "text/plain": [
       "array([[[0., 1., 0., 0.],\n",
       "        [0., 0., 0., 0.],\n",
       "        [0., 0., 0., 0.],\n",
       "        [0., 0., 0., 0.],\n",
       "        [0., 0., 0., 0.]],\n",
       "\n",
       "       [[0., 0., 0., 0.],\n",
       "        [0., 0., 1., 0.],\n",
       "        [0., 0., 0., 0.],\n",
       "        [0., 0., 0., 0.],\n",
       "        [0., 0., 0., 0.]],\n",
       "\n",
       "       [[0., 0., 0., 0.],\n",
       "        [0., 0., 0., 0.],\n",
       "        [0., 0., 0., 0.],\n",
       "        [0., 0., 0., 0.],\n",
       "        [0., 0., 0., 1.]]])"
      ]
     },
     "execution_count": 23,
     "metadata": {},
     "output_type": "execute_result"
    }
   ],
   "source": [
    "a"
   ]
  },
  {
   "cell_type": "code",
   "execution_count": 30,
   "id": "b5387469-2891-4025-8e51-00bb8ffedb72",
   "metadata": {},
   "outputs": [
    {
     "ename": "IndexError",
     "evalue": "only integers, slices (`:`), ellipsis (`...`), numpy.newaxis (`None`) and integer or boolean arrays are valid indices",
     "output_type": "error",
     "traceback": [
      "\u001b[1;31m---------------------------------------------------------------------------\u001b[0m",
      "\u001b[1;31mIndexError\u001b[0m                                Traceback (most recent call last)",
      "\u001b[1;32m~\\AppData\\Local\\Temp\\ipykernel_14200\\3671687471.py\u001b[0m in \u001b[0;36m<cell line: 4>\u001b[1;34m()\u001b[0m\n\u001b[0;32m      2\u001b[0m \u001b[0max\u001b[0m \u001b[1;33m=\u001b[0m \u001b[1;33m[\u001b[0m\u001b[1;36m1\u001b[0m\u001b[1;33m,\u001b[0m\u001b[1;36m2\u001b[0m\u001b[1;33m,\u001b[0m\u001b[1;36m3\u001b[0m\u001b[1;33m]\u001b[0m\u001b[1;33m\u001b[0m\u001b[1;33m\u001b[0m\u001b[0m\n\u001b[0;32m      3\u001b[0m \u001b[1;31m# for plane, seq in enumerate( [0,1,4]):\u001b[0m\u001b[1;33m\u001b[0m\u001b[1;33m\u001b[0m\u001b[1;33m\u001b[0m\u001b[0m\n\u001b[1;32m----> 4\u001b[1;33m \u001b[0mb\u001b[0m\u001b[1;33m[\u001b[0m\u001b[0mzip\u001b[0m\u001b[1;33m(\u001b[0m\u001b[1;33m[\u001b[0m\u001b[1;36m0\u001b[0m\u001b[1;33m,\u001b[0m\u001b[1;36m1\u001b[0m\u001b[1;33m,\u001b[0m\u001b[1;36m2\u001b[0m\u001b[1;33m]\u001b[0m\u001b[1;33m,\u001b[0m\u001b[1;33m[\u001b[0m\u001b[1;36m0\u001b[0m\u001b[1;33m,\u001b[0m\u001b[1;36m1\u001b[0m\u001b[1;33m,\u001b[0m\u001b[1;36m4\u001b[0m\u001b[1;33m]\u001b[0m\u001b[1;33m,\u001b[0m\u001b[0max\u001b[0m\u001b[1;33m)\u001b[0m\u001b[1;33m]\u001b[0m\u001b[1;33m+=\u001b[0m\u001b[1;36m1\u001b[0m\u001b[1;33m\u001b[0m\u001b[1;33m\u001b[0m\u001b[0m\n\u001b[0m\u001b[0;32m      5\u001b[0m \u001b[0mb\u001b[0m\u001b[1;33m\u001b[0m\u001b[1;33m\u001b[0m\u001b[0m\n",
      "\u001b[1;31mIndexError\u001b[0m: only integers, slices (`:`), ellipsis (`...`), numpy.newaxis (`None`) and integer or boolean arrays are valid indices"
     ]
    }
   ],
   "source": [
    "b = np.zeros([3,5,4])\n",
    "ax = [1,2,3]\n",
    "c = [0,1,4]\n",
    "# for plane, seq in enumerate( [0,1,4]): \n",
    "b[plane,seq,ax[plane]]+=1 for plane, in c\n",
    "b"
   ]
  },
  {
   "cell_type": "code",
   "execution_count": null,
   "id": "ac1f052c-d8c2-4a1f-8129-4bd409c13576",
   "metadata": {},
   "outputs": [],
   "source": []
  }
 ],
 "metadata": {
  "kernelspec": {
   "display_name": "Python 3 (ipykernel)",
   "language": "python",
   "name": "python3"
  },
  "language_info": {
   "codemirror_mode": {
    "name": "ipython",
    "version": 3
   },
   "file_extension": ".py",
   "mimetype": "text/x-python",
   "name": "python",
   "nbconvert_exporter": "python",
   "pygments_lexer": "ipython3",
   "version": "3.8.8"
  }
 },
 "nbformat": 4,
 "nbformat_minor": 5
}
