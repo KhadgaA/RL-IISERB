{
 "cells": [
  {
   "cell_type": "markdown",
   "id": "98b70cfe-3314-4319-83b2-d605762705b1",
   "metadata": {},
   "source": [
    "## Alli Khadga Jyoth 19024 - DSE"
   ]
  },
  {
   "cell_type": "code",
   "execution_count": 4,
   "id": "03f309b6-1f64-467b-ad0b-518b9bb2849e",
   "metadata": {},
   "outputs": [],
   "source": [
    "from gym import Env\n",
    "import gym\n",
    "import pygame\n",
    "from gym.spaces import Discrete, Box,Dict\n",
    "import numpy as np\n",
    "import random"
   ]
  },
  {
   "cell_type": "code",
   "execution_count": 5,
   "id": "f2e068bc-d35f-4390-94d3-2c086d56f919",
   "metadata": {},
   "outputs": [],
   "source": [
    "class WarehouseAgent(gym.Env):\n",
    "    def __init__(self):\n",
    "        \"\"\"\n",
    "        Initializing the environment\n",
    "        \"\"\"\n",
    "        self.metadata = {\"render_modes\": [\"human\", \"rgb_array\"], \"render_fps\": 4}\n",
    "        \n",
    "        self.window_size = 512\n",
    "        self.GRID_DIM = [6,7]\n",
    "        self.size = self.GRID_DIM[0]\n",
    "        self.agent_position = [1,2]\n",
    "\n",
    "        self.box_location = [4,3]\n",
    "        self.goal_location = [3,1]\n",
    "        \"\"\"directions: UP, DOWN, LEFT, RIGHT.\"\"\"\n",
    "        self._action_to_direction = {\n",
    "            0: np.array([-1, 0]),\n",
    "            1: np.array([1, 0]),\n",
    "            2: np.array([0, -1]),\n",
    "            3: np.array([0, 1]),\n",
    "        }\n",
    "        self._ACTIONLOOKUP = {\n",
    "            0: 'push up',\n",
    "            1: 'push down',\n",
    "            2: 'push left',\n",
    "            3: 'push right',\n",
    "            4: 'move up',\n",
    "            5: 'move down',\n",
    "            6: 'move left',\n",
    "            7: 'move right',\n",
    "            }\n",
    "        \n",
    "        self.action_space = Discrete(len(self._ACTIONLOOKUP.keys()))\n",
    "        self.state_space = Discrete((self.GRID_DIM[0]*self.GRID_DIM[1]) **3)\n",
    "        self.observation_space = Dict(\n",
    "            {\n",
    "                \"agent\": Box(np.array([0,0]), np.array([self.GRID_DIM[0]-1,self.GRID_DIM[1] - 1]), shape=(2,), dtype=int),\n",
    "                'box' : Box( np.array([0,0]), np.array([self.GRID_DIM[0]-1,self.GRID_DIM[1] - 1]), shape=(2,), dtype=int),\n",
    "                \"target\": Box( np.array([0,0]), np.array([self.GRID_DIM[0]-1,self.GRID_DIM[1] - 1]), shape=(2,), dtype=int),\n",
    "            }\n",
    "        )\n",
    "        self._agent_location = np.array(self.agent_position)\n",
    "        self._box_location = np.array(self.box_location)\n",
    "        self._target_location = np.array(self.goal_location)\n",
    "\n",
    "    \n",
    "        self.window = None\n",
    "        self.clock = None\n",
    "            \n",
    "        \n",
    "    def step(self, action):        #change = CHANGE_COORDINATES[(action - 1) % 4]\n",
    "        self._prev_agent_location = None  \n",
    "        self._prev_box_location=None# new_position = self.player_position + \n",
    "        moved_box = False\n",
    "#         if action ==0:\n",
    "#             moved_player = False\n",
    "        if action <4:\n",
    "            moved_player, moved_box = self._push(action)\n",
    "        else:    \n",
    "        # Map the action (element of {0,1,2,3}) to the direction we walk in\n",
    "#         direction = self._action_to_direction[action]\n",
    "            moved_player = self._move(action) \n",
    "        \n",
    "        # An episode is done iff the agent has reached the target\n",
    "        done = np.array_equal(self._box_location, self._target_location)\n",
    "        reward = 0 if done else -1  # Binary sparse rewards\n",
    "        observation = self._get_obs()\n",
    "        info = self._get_info()\n",
    "\n",
    "        return observation, reward, done, info\n",
    "#     def render(self):\n",
    "#         \"\"\"Function to get the simulation of the warehouse agent system \n",
    "#         \"\"\"\n",
    "#         pass\n",
    "    def render(self, mode=\"human\"):\n",
    "            if self.window is None and mode == \"human\":\n",
    "                pygame.init()\n",
    "                pygame.display.init()\n",
    "                self.window = pygame.display.set_mode((self.window_size, self.window_size))\n",
    "            if self.clock is None and mode == \"human\":\n",
    "                self.clock = pygame.time.Clock()\n",
    "\n",
    "            canvas = pygame.Surface((self.window_size, self.window_size))\n",
    "            canvas.fill((255, 255, 255))\n",
    "            pix_square_size = (\n",
    "                self.window_size / self.GRID_DIM[0]\n",
    "            )  # The size of a single grid square in pixels\n",
    "\n",
    "            # First we draw the target\n",
    "            pygame.draw.rect(\n",
    "                canvas,\n",
    "                (255, 0, 0),\n",
    "                pygame.Rect(\n",
    "                    pix_square_size * self._target_location,\n",
    "                    (pix_square_size, pix_square_size),\n",
    "                ),\n",
    "            )\n",
    "            # Draw the box\n",
    "            pygame.draw.rect(\n",
    "                canvas,\n",
    "                (0, 255, 0),\n",
    "                pygame.Rect(\n",
    "                    pix_square_size * self._box_location,\n",
    "                    (pix_square_size, pix_square_size),\n",
    "                ),\n",
    "            )\n",
    "            # Now we draw the agent\n",
    "            pygame.draw.circle(\n",
    "                canvas,\n",
    "                (0, 0, 255),\n",
    "                (self._agent_location + 0.5) * pix_square_size,\n",
    "                pix_square_size / 3,\n",
    "            )\n",
    "\n",
    "            # Finally, add some gridlines\n",
    "            for x in range(self.size + 1):\n",
    "                pygame.draw.line(\n",
    "                    canvas,\n",
    "                    0,\n",
    "                    (0, pix_square_size * x),\n",
    "                    (self.window_size, pix_square_size * x),\n",
    "                    width=3,\n",
    "                )\n",
    "                pygame.draw.line(\n",
    "                    canvas,\n",
    "                    0,\n",
    "                    (pix_square_size * x, 0),\n",
    "                    (pix_square_size * x, self.window_size),\n",
    "                    width=3,\n",
    "                )\n",
    "\n",
    "            if mode == \"human\":\n",
    "                # The following line copies our drawings from `canvas` to the visible window\n",
    "                self.window.blit(canvas, canvas.get_rect())\n",
    "                pygame.event.pump()\n",
    "                pygame.display.update()\n",
    "\n",
    "                # We need to ensure that human-rendering occurs at the predefined framerate.\n",
    "                # The following line will automatically add a delay to keep the framerate stable.\n",
    "                self.clock.tick(self.metadata[\"render_fps\"])\n",
    "            else:  # rgb_array\n",
    "                return np.transpose(\n",
    "                    np.array(pygame.surfarray.pixels3d(canvas)), axes=(1, 0, 2)\n",
    "                )\n",
    "    def close(self):\n",
    "        if self.window is not None:\n",
    "            pygame.display.quit()\n",
    "            pygame.quit()\n",
    "\n",
    "    def reset(self, seed=None, return_info=False, options=None):\n",
    "        # We need the following line to seed self.np_random\n",
    "#         super().reset(seed=seed)\n",
    "        self._agent_location = np.array(self.agent_position)\n",
    "        self._box_location = np.array(self.box_location)\n",
    "        self._target_location = np.array(self.goal_location)\n",
    "\n",
    "        observation = self._get_obs()\n",
    "        info = self._get_info()\n",
    "        return (observation, info) if return_info else observation\n",
    "    \n",
    "    \n",
    "    def _get_obs(self):\n",
    "        return {\"agent\": self._agent_location, 'box':self._box_location,\"target\": self._target_location}\n",
    "    def _get_info(self):\n",
    "        return {\"distance\": np.linalg.norm(self._box_location - self._target_location, ord=1)}\n",
    "    def _push(self,action):\n",
    "        direction = self._action_to_direction[(action ) % 4]\n",
    "#         new_position = self.player_position + direction\n",
    "        if np.array_equal(self._agent_location + direction,self._box_location): \n",
    "            self._prev_box_location = self._box_location\n",
    "            self._box_location = np.clip(\n",
    "                self._box_location + direction, [0,0],[self.GRID_DIM[0]-1,self.GRID_DIM[1]-1]\n",
    "            )\n",
    "            if np.array_equal(self._prev_box_location,self._box_location):\n",
    "                self._agent_location = self._agent_location\n",
    "                return False,False\n",
    "            else:\n",
    "                self._agent_location = np.clip(\n",
    "                    self._agent_location + direction, [0,0],[self.GRID_DIM[0]-1,self.GRID_DIM[1]-1]\n",
    "                )\n",
    "            return True,True\n",
    "        else: return False,False\n",
    "    def _move(self,action):\n",
    "        direction = self._action_to_direction[(action ) % 4]\n",
    "        # We use `np.clip` to make sure we don't leave the grid\n",
    "        self._prev_agent_location = self._agent_location\n",
    "        self._agent_location = np.clip(\n",
    "            self._agent_location + direction, [0,0],[self.GRID_DIM[0]-1,self.GRID_DIM[1]-1]\n",
    "        )\n",
    "        if np.array_equal(self._agent_location,self._box_location):\n",
    "            self._agent_location = self._prev_agent_location\n",
    "            return False\n",
    "        if np.array_equal(self._prev_agent_location ,self._agent_location):\n",
    "            return False\n",
    "        else: return True\n",
    "    def actionSpaceSample(self):\n",
    "        return np.random.choice(self.action_space)\n",
    "\n"
   ]
  },
  {
   "cell_type": "markdown",
   "id": "32415bf1-64bc-4bb0-a21d-e431b6cd2c35",
   "metadata": {},
   "source": [
    "\n",
    "_ACTIONLOOKUP = \n",
    ">            0: 'push up',\n",
    ">            1: 'push down',\n",
    ">            2: 'push left',\n",
    ">            3: 'push right',\n",
    ">            4: 'move up',\n",
    ">            5: 'move down',\n",
    ">            6: 'move left',\n",
    ">            7: 'move right',\n",
    "            \n",
    "            "
   ]
  },
  {
   "cell_type": "code",
   "execution_count": 6,
   "id": "d800a9fa-47b9-44d0-b628-adc4db3d6ec0",
   "metadata": {},
   "outputs": [],
   "source": [
    "env = WarehouseAgent()"
   ]
  },
  {
   "cell_type": "code",
   "execution_count": 7,
   "id": "4a458ff0-2ba2-4760-acc6-19ee04047233",
   "metadata": {},
   "outputs": [
    {
     "data": {
      "text/plain": [
       "{'agent': array([1, 2]), 'box': array([4, 3]), 'target': array([3, 1])}"
      ]
     },
     "execution_count": 7,
     "metadata": {},
     "output_type": "execute_result"
    }
   ],
   "source": [
    "env._get_obs()"
   ]
  },
  {
   "cell_type": "code",
   "execution_count": 8,
   "id": "debf6b18-1c3d-450e-8bfe-e9f3a36e9ee1",
   "metadata": {},
   "outputs": [
    {
     "data": {
      "text/plain": [
       "({'agent': array([2, 2]), 'box': array([4, 3]), 'target': array([3, 1])},\n",
       " -1,\n",
       " False,\n",
       " {'distance': 3.0})"
      ]
     },
     "execution_count": 8,
     "metadata": {},
     "output_type": "execute_result"
    }
   ],
   "source": [
    "env.step(5)"
   ]
  },
  {
   "cell_type": "code",
   "execution_count": 9,
   "id": "eaae0b96-b221-4ea6-b3be-c817b02e0176",
   "metadata": {},
   "outputs": [
    {
     "data": {
      "text/plain": [
       "({'agent': array([3, 2]), 'box': array([4, 3]), 'target': array([3, 1])},\n",
       " -1,\n",
       " False,\n",
       " {'distance': 3.0})"
      ]
     },
     "execution_count": 9,
     "metadata": {},
     "output_type": "execute_result"
    }
   ],
   "source": [
    "env.step(5)"
   ]
  },
  {
   "cell_type": "code",
   "execution_count": 10,
   "id": "4ca71f64-6dd6-42d1-929b-600e3cb0d75a",
   "metadata": {},
   "outputs": [
    {
     "data": {
      "text/plain": [
       "({'agent': array([4, 2]), 'box': array([4, 3]), 'target': array([3, 1])},\n",
       " -1,\n",
       " False,\n",
       " {'distance': 3.0})"
      ]
     },
     "execution_count": 10,
     "metadata": {},
     "output_type": "execute_result"
    }
   ],
   "source": [
    "env.step(5)"
   ]
  },
  {
   "cell_type": "code",
   "execution_count": 11,
   "id": "182b7ec2-afad-429b-857d-22a3bb104510",
   "metadata": {},
   "outputs": [
    {
     "data": {
      "text/plain": [
       "({'agent': array([5, 2]), 'box': array([4, 3]), 'target': array([3, 1])},\n",
       " -1,\n",
       " False,\n",
       " {'distance': 3.0})"
      ]
     },
     "execution_count": 11,
     "metadata": {},
     "output_type": "execute_result"
    }
   ],
   "source": [
    "env.step(5)"
   ]
  },
  {
   "cell_type": "code",
   "execution_count": 12,
   "id": "5f93469c-dc94-40df-af42-2484f3c4cbf0",
   "metadata": {},
   "outputs": [
    {
     "data": {
      "text/plain": [
       "({'agent': array([5, 3]), 'box': array([4, 3]), 'target': array([3, 1])},\n",
       " -1,\n",
       " False,\n",
       " {'distance': 3.0})"
      ]
     },
     "execution_count": 12,
     "metadata": {},
     "output_type": "execute_result"
    }
   ],
   "source": [
    "env.step(7)"
   ]
  },
  {
   "cell_type": "code",
   "execution_count": 13,
   "id": "50f5c14d-ec91-43ba-a095-6af834b6bfb5",
   "metadata": {},
   "outputs": [
    {
     "data": {
      "text/plain": [
       "({'agent': array([4, 3]), 'box': array([3, 3]), 'target': array([3, 1])},\n",
       " -1,\n",
       " False,\n",
       " {'distance': 2.0})"
      ]
     },
     "execution_count": 13,
     "metadata": {},
     "output_type": "execute_result"
    }
   ],
   "source": [
    "env.step(0)"
   ]
  },
  {
   "cell_type": "code",
   "execution_count": 14,
   "id": "896c1c09-5876-4048-ba11-45b4ca15c564",
   "metadata": {},
   "outputs": [
    {
     "data": {
      "text/plain": [
       "({'agent': array([4, 4]), 'box': array([3, 3]), 'target': array([3, 1])},\n",
       " -1,\n",
       " False,\n",
       " {'distance': 2.0})"
      ]
     },
     "execution_count": 14,
     "metadata": {},
     "output_type": "execute_result"
    }
   ],
   "source": [
    "env.step(7)"
   ]
  },
  {
   "cell_type": "code",
   "execution_count": 15,
   "id": "d2e0920d-14f7-4bb9-af0e-2d0468a69eb1",
   "metadata": {},
   "outputs": [
    {
     "data": {
      "text/plain": [
       "({'agent': array([3, 4]), 'box': array([3, 3]), 'target': array([3, 1])},\n",
       " -1,\n",
       " False,\n",
       " {'distance': 2.0})"
      ]
     },
     "execution_count": 15,
     "metadata": {},
     "output_type": "execute_result"
    }
   ],
   "source": [
    "env.step(4)"
   ]
  },
  {
   "cell_type": "code",
   "execution_count": 16,
   "id": "c211c807-6be6-4c86-93df-a5566724ef08",
   "metadata": {},
   "outputs": [
    {
     "data": {
      "text/plain": [
       "({'agent': array([3, 4]), 'box': array([3, 3]), 'target': array([3, 1])},\n",
       " -1,\n",
       " False,\n",
       " {'distance': 2.0})"
      ]
     },
     "execution_count": 16,
     "metadata": {},
     "output_type": "execute_result"
    }
   ],
   "source": [
    "env.step(6)"
   ]
  },
  {
   "cell_type": "code",
   "execution_count": 17,
   "id": "12d2af60-cbec-439b-90e8-36175dc0b035",
   "metadata": {},
   "outputs": [
    {
     "data": {
      "text/plain": [
       "({'agent': array([3, 3]), 'box': array([3, 2]), 'target': array([3, 1])},\n",
       " -1,\n",
       " False,\n",
       " {'distance': 1.0})"
      ]
     },
     "execution_count": 17,
     "metadata": {},
     "output_type": "execute_result"
    }
   ],
   "source": [
    "env.step(2)"
   ]
  },
  {
   "cell_type": "code",
   "execution_count": 18,
   "id": "b8a0440b-7668-456a-8378-f2997e028578",
   "metadata": {},
   "outputs": [
    {
     "data": {
      "text/plain": [
       "({'agent': array([3, 2]), 'box': array([3, 1]), 'target': array([3, 1])},\n",
       " 0,\n",
       " True,\n",
       " {'distance': 0.0})"
      ]
     },
     "execution_count": 18,
     "metadata": {},
     "output_type": "execute_result"
    }
   ],
   "source": [
    "env.step(2)"
   ]
  },
  {
   "cell_type": "markdown",
   "id": "2a292dae-cd8b-4d40-8816-70e55588bfd5",
   "metadata": {},
   "source": [
    "The box is at its target location"
   ]
  },
  {
   "cell_type": "code",
   "execution_count": null,
   "id": "7172e1b9-6acb-4252-affe-f885e3c76a41",
   "metadata": {},
   "outputs": [],
   "source": []
  },
  {
   "cell_type": "markdown",
   "id": "7a2c623e-4c42-47d5-942d-942f6df2f8c6",
   "metadata": {},
   "source": [
    "## Final and Working"
   ]
  },
  {
   "cell_type": "code",
   "execution_count": 19,
   "id": "172bf029-a5cf-4304-8d7e-cc9d4403126b",
   "metadata": {},
   "outputs": [],
   "source": [
    "class WarehouseAgent:\n",
    "    def __init__(self):\n",
    "        self.GRID_DIM = [7, 6]\n",
    "\n",
    "        self.agent_position = [1, 2]\n",
    "\n",
    "        self.box_location = [4, 3]\n",
    "        self.goal_location = [3, 1]\n",
    "        self._action_to_direction = {\n",
    "            0: np.array([-1, 0]),\n",
    "            1: np.array([1, 0]),\n",
    "            2: np.array([0, -1]),\n",
    "            3: np.array([0, 1]),\n",
    "        }\n",
    "        self._ACTIONLOOKUP = {\n",
    "            0: \"move up\",\n",
    "            1: \"move down\",\n",
    "            2: \"move left\",\n",
    "            3: \"move right\",\n",
    "            4: \"push\",\n",
    "        }\n",
    "        self.GRID_DIM = np.asarray(self.GRID_DIM)\n",
    "        self.GRID = np.zeros(\n",
    "            self.GRID_DIM\n",
    "        )  # The Boundaries are the walls, so playing space is only [:-2,:-2]\n",
    "        self.GRID[:, [0, -1]] = 1\n",
    "        self.GRID[[0, -1], :] = 1\n",
    "        self.GRID[[1, 2, 5], 3:5] = 1\n",
    "        self.walls = 1\n",
    "        self.action_space = Discrete(len(self._ACTIONLOOKUP.keys()))\n",
    "        self.state_space = Discrete(self.GRID_DIM[0] * self.GRID_DIM[1])\n",
    "        self.observation_space = Dict(\n",
    "            {\n",
    "                \"agent\": Box(\n",
    "                    np.array([0, 0]),\n",
    "                    np.array([self.GRID_DIM[0] - 1, self.GRID_DIM[1] - 1]),\n",
    "                    shape=(2,),\n",
    "                    dtype=int,\n",
    "                ),\n",
    "                \"box\": Box(\n",
    "                    np.array([0, 0]),\n",
    "                    np.array([self.GRID_DIM[0] - 1, self.GRID_DIM[1] - 1]),\n",
    "                    shape=(2,),\n",
    "                    dtype=int,\n",
    "                ),\n",
    "                \"target\": Box(\n",
    "                    np.array([0, 0]),\n",
    "                    np.array([self.GRID_DIM[0] - 1, self.GRID_DIM[1] - 1]),\n",
    "                    shape=(2,),\n",
    "                    dtype=int,\n",
    "                ),\n",
    "            }\n",
    "        )\n",
    "        self._agent_location = np.array(self.agent_position)\n",
    "        self._box_location = np.array(self.box_location)\n",
    "        self._target_location = np.array(self.goal_location)\n",
    "\n",
    "    #         print(self.GRID)\n",
    "\n",
    "    def step(self, action):\n",
    "        self._prev_agent_location = None\n",
    "        self._prev_box_location = None\n",
    "        moved_box = False\n",
    "\n",
    "        if action < 4:\n",
    "            moved_player = self._move(action)\n",
    "        else:\n",
    "            moved_player, moved_box = self._push(action)\n",
    "\n",
    "        done, reward = self.is_over()\n",
    "        observation = self._get_obs()\n",
    "        info = self._get_info()\n",
    "\n",
    "        return observation, reward, done, info\n",
    "\n",
    "    def render(self):\n",
    "        rend = self.GRID.copy().astype(dtype=\"U1\")\n",
    "        rend[self._agent_location[0], self._agent_location[1]] = \"A\"\n",
    "        rend[self._box_location[0], self._box_location[1]] = \"B\"\n",
    "        rend[self._target_location[0], self._target_location[1]] = \"T\"\n",
    "        return print(rend)\n",
    "\n",
    "    def reset(self, seed=None, return_info=False, options=None):\n",
    "        self._agent_location = np.array(self.agent_position)\n",
    "        self._box_location = np.array(self.box_location)\n",
    "        self._target_location = np.array(self.goal_location)\n",
    "\n",
    "        observation = self._get_obs()\n",
    "        info = self._get_info()\n",
    "        return (observation, info) if return_info else observation\n",
    "\n",
    "    def _get_obs(self):\n",
    "        return {\n",
    "            \"agent\": self._agent_location,\n",
    "            \"box\": self._box_location,\n",
    "            \"target\": self._target_location,\n",
    "        }\n",
    "\n",
    "    def _get_info(self):\n",
    "        return {\n",
    "            \"distance\": np.linalg.norm(\n",
    "                self._box_location - self._target_location, ord=1\n",
    "            )\n",
    "        }\n",
    "\n",
    "    def _state_in_seq(self):\n",
    "        m, n = self._agent_location\n",
    "        seq = m * self.GRID.shape[1] + n\n",
    "        return seq\n",
    "\n",
    "    def _push(self, action):\n",
    "        loc = self._box_location - self._agent_location\n",
    "        #         print(f'loc{loc}, box :{self._box_location}, agent:{self._agent_location}')\n",
    "        push_dir = None\n",
    "        for idx, val in enumerate(self._action_to_direction.values()):\n",
    "            if np.array_equal(loc, val):\n",
    "                valid = True\n",
    "                push_dir = idx\n",
    "                break\n",
    "            else:\n",
    "                valid = False\n",
    "\n",
    "        if valid:\n",
    "            self._prev_agent_location = self._agent_location\n",
    "            self._prev_box_location = self._box_location\n",
    "            self._box_location = (\n",
    "                self._box_location + self._action_to_direction[push_dir]\n",
    "            )\n",
    "            if self.GRID[self._box_location[0], self._box_location[1]] == 1:\n",
    "                self._box_location = self._prev_box_location\n",
    "                return False, False\n",
    "            else:\n",
    "                self._agent_location = (\n",
    "                    self._agent_location + self._action_to_direction[push_dir]\n",
    "                )\n",
    "                return True, True\n",
    "\n",
    "        return False, False\n",
    "\n",
    "    def _move(self, action):\n",
    "        self._prev_agent_location = self._agent_location\n",
    "        self._prev_box_location = self._box_location\n",
    "        self._agent_location = self._agent_location + self._action_to_direction[action]\n",
    "        #             print(self.GRID[self._agent_location],self._agent_location,self.GRID)\n",
    "        if self.GRID[self._agent_location[0], self._agent_location[1]] == 1:\n",
    "            self._agent_location = self._prev_agent_location\n",
    "            return False\n",
    "        elif np.array_equal(self._agent_location, self._box_location):\n",
    "            self._agent_location = self._prev_agent_location\n",
    "            return False\n",
    "        return True\n",
    "\n",
    "    def is_over(self):\n",
    "        if np.array_equal(\n",
    "            self._box_location, self._target_location\n",
    "        ):  # checking if the box is at the target already\n",
    "            done = True\n",
    "            reward = 0\n",
    "        elif (\n",
    "            sum(\n",
    "                a := np.array(\n",
    "                    [\n",
    "                        True\n",
    "                        if self.GRID[\n",
    "                            (self._box_location + val)[0], (self._box_location + val)[1]\n",
    "                        ]\n",
    "                        == 1\n",
    "                        else False\n",
    "                        for val in self._action_to_direction.values()\n",
    "                    ]\n",
    "                )\n",
    "            )\n",
    "            >= 1\n",
    "        ):\n",
    "            # basically checking if there are atleast 1 wall adjacent to box\n",
    "            if sum(a) > 1:\n",
    "                done = True\n",
    "                reward = -1\n",
    "            elif sum(a) == 1:\n",
    "                #                 print(a)\n",
    "                direc = np.where(a == True)\n",
    "                #                 print(direc)\n",
    "                direc = direc[0][0]\n",
    "                left = self._box_location + self._action_to_direction[direc]\n",
    "                right = left.copy()\n",
    "                if direc in [0, 1]:\n",
    "                    count = 0\n",
    "                    while (self.GRID[left[0], left[1]] != 0) and (\n",
    "                        self.GRID[right[0], right[1]] != 0\n",
    "                    ):\n",
    "\n",
    "                        left = np.clip(\n",
    "                            left + self._action_to_direction[2],\n",
    "                            [0, 0],\n",
    "                            [self.GRID_DIM[0] - 1, self.GRID_DIM[1] - 1],\n",
    "                        )\n",
    "                        right = np.clip(\n",
    "                            right + self._action_to_direction[3],\n",
    "                            [0, 0],\n",
    "                            [self.GRID_DIM[0] - 1, self.GRID_DIM[1] - 1],\n",
    "                        )\n",
    "                        count += 1\n",
    "                        if count >= self.GRID_DIM[1]:\n",
    "                            done = True\n",
    "                            reward = -1\n",
    "                            return done, reward\n",
    "                            break\n",
    "                #                         right = right + self._action_to_direction[3]\n",
    "\n",
    "                else:\n",
    "                    count = 0\n",
    "                    while (self.GRID[left[0], left[1]] != 0) and (\n",
    "                        self.GRID[right[0], right[1]] != 0\n",
    "                    ):\n",
    "                        left = np.clip(\n",
    "                            left + self._action_to_direction[1],\n",
    "                            [0, 0],\n",
    "                            [self.GRID_DIM[0] - 1, self.GRID_DIM[1] - 1],\n",
    "                        )\n",
    "                        right = np.clip(\n",
    "                            right + self._action_to_direction[0],\n",
    "                            [0, 0],\n",
    "                            [self.GRID_DIM[0] - 1, self.GRID_DIM[1] - 1],\n",
    "                        )\n",
    "                        count += 1\n",
    "                        if count >= self.GRID_DIM[0]:\n",
    "                            done = True\n",
    "                            reward = -1\n",
    "                            return done, reward\n",
    "                            break\n",
    "\n",
    "                done = False\n",
    "                reward = -1\n",
    "                return done, reward\n",
    "        #         np.where([True if self.GRID[(self._box_location + val)[0], (self._box_location + val)[1] ] == 1 else False for val in self._action_to_direction.values() ] == True)[0][0]: # gotta check if the box is not adjacent to 2 walls but still is terminating state like the boundary walls\n",
    "        else:\n",
    "            done = False\n",
    "            reward = -1\n",
    "        return done, reward"
   ]
  },
  {
   "cell_type": "code",
   "execution_count": 20,
   "id": "e9b3025f-24d4-4365-bee1-b2327ff1933a",
   "metadata": {},
   "outputs": [],
   "source": [
    "env = WarehouseAgent()"
   ]
  },
  {
   "cell_type": "code",
   "execution_count": 21,
   "id": "94392fe4-7889-42ca-9a12-68242d76b6ca",
   "metadata": {},
   "outputs": [
    {
     "data": {
      "text/plain": [
       "{'agent': array([1, 2]), 'box': array([4, 3]), 'target': array([3, 1])}"
      ]
     },
     "execution_count": 21,
     "metadata": {},
     "output_type": "execute_result"
    }
   ],
   "source": [
    "env._get_obs()"
   ]
  },
  {
   "cell_type": "code",
   "execution_count": 22,
   "id": "7781a252-e100-452b-b556-cc23b7c2d943",
   "metadata": {},
   "outputs": [
    {
     "name": "stdout",
     "output_type": "stream",
     "text": [
      "[['1' '1' '1' '1' '1' '1']\n",
      " ['1' '0' '0' '1' '1' '1']\n",
      " ['1' '0' 'A' '1' '1' '1']\n",
      " ['1' 'T' '0' '0' '0' '1']\n",
      " ['1' '0' '0' 'B' '0' '1']\n",
      " ['1' '0' '0' '1' '1' '1']\n",
      " ['1' '1' '1' '1' '1' '1']]\n"
     ]
    }
   ],
   "source": [
    "env.step(1)\n",
    "env.render()"
   ]
  },
  {
   "cell_type": "code",
   "execution_count": 23,
   "id": "9c860707-2b4f-4d80-992d-793e946cce9f",
   "metadata": {},
   "outputs": [
    {
     "name": "stdout",
     "output_type": "stream",
     "text": [
      "[['1' '1' '1' '1' '1' '1']\n",
      " ['1' '0' '0' '1' '1' '1']\n",
      " ['1' '0' '0' '1' '1' '1']\n",
      " ['1' 'T' 'A' '0' '0' '1']\n",
      " ['1' '0' '0' 'B' '0' '1']\n",
      " ['1' '0' '0' '1' '1' '1']\n",
      " ['1' '1' '1' '1' '1' '1']]\n"
     ]
    }
   ],
   "source": [
    "env.step(1)\n",
    "env.render()"
   ]
  },
  {
   "cell_type": "code",
   "execution_count": 24,
   "id": "f9fcd180-5513-4057-a8ec-b5835eb7c2ce",
   "metadata": {},
   "outputs": [
    {
     "name": "stdout",
     "output_type": "stream",
     "text": [
      "[['1' '1' '1' '1' '1' '1']\n",
      " ['1' '0' '0' '1' '1' '1']\n",
      " ['1' '0' '0' '1' '1' '1']\n",
      " ['1' 'T' '0' 'A' '0' '1']\n",
      " ['1' '0' '0' 'B' '0' '1']\n",
      " ['1' '0' '0' '1' '1' '1']\n",
      " ['1' '1' '1' '1' '1' '1']]\n"
     ]
    }
   ],
   "source": [
    "env.step(3)\n",
    "env.render()"
   ]
  },
  {
   "cell_type": "code",
   "execution_count": 25,
   "id": "567eef37-03e6-4e2f-9923-748fdbc9eb88",
   "metadata": {},
   "outputs": [
    {
     "name": "stdout",
     "output_type": "stream",
     "text": [
      "[['1' '1' '1' '1' '1' '1']\n",
      " ['1' '0' '0' '1' '1' '1']\n",
      " ['1' '0' '0' '1' '1' '1']\n",
      " ['1' 'T' '0' '0' 'A' '1']\n",
      " ['1' '0' '0' 'B' '0' '1']\n",
      " ['1' '0' '0' '1' '1' '1']\n",
      " ['1' '1' '1' '1' '1' '1']]\n"
     ]
    }
   ],
   "source": [
    "env.step(3)\n",
    "env.render()"
   ]
  },
  {
   "cell_type": "code",
   "execution_count": 26,
   "id": "f97c846c-c222-495a-9741-422f3af14456",
   "metadata": {},
   "outputs": [
    {
     "name": "stdout",
     "output_type": "stream",
     "text": [
      "[['1' '1' '1' '1' '1' '1']\n",
      " ['1' '0' '0' '1' '1' '1']\n",
      " ['1' '0' '0' '1' '1' '1']\n",
      " ['1' 'T' '0' '0' '0' '1']\n",
      " ['1' '0' '0' 'B' 'A' '1']\n",
      " ['1' '0' '0' '1' '1' '1']\n",
      " ['1' '1' '1' '1' '1' '1']]\n"
     ]
    }
   ],
   "source": [
    "env.step(1)\n",
    "env.render()"
   ]
  },
  {
   "cell_type": "code",
   "execution_count": 27,
   "id": "14e01c5e-9425-4498-b50e-1289d24fe521",
   "metadata": {},
   "outputs": [
    {
     "name": "stdout",
     "output_type": "stream",
     "text": [
      "[['1' '1' '1' '1' '1' '1']\n",
      " ['1' '0' '0' '1' '1' '1']\n",
      " ['1' '0' '0' '1' '1' '1']\n",
      " ['1' 'T' '0' '0' '0' '1']\n",
      " ['1' '0' 'B' 'A' '0' '1']\n",
      " ['1' '0' '0' '1' '1' '1']\n",
      " ['1' '1' '1' '1' '1' '1']]\n"
     ]
    }
   ],
   "source": [
    "env.step(4)\n",
    "env.render()"
   ]
  },
  {
   "cell_type": "code",
   "execution_count": 28,
   "id": "e59eefe8-6761-44a8-a4d2-f0ed528a54b4",
   "metadata": {},
   "outputs": [
    {
     "name": "stdout",
     "output_type": "stream",
     "text": [
      "[['1' '1' '1' '1' '1' '1']\n",
      " ['1' '0' '0' '1' '1' '1']\n",
      " ['1' '0' '0' '1' '1' '1']\n",
      " ['1' 'T' '0' '0' '0' '1']\n",
      " ['1' 'B' 'A' '0' '0' '1']\n",
      " ['1' '0' '0' '1' '1' '1']\n",
      " ['1' '1' '1' '1' '1' '1']]\n"
     ]
    }
   ],
   "source": [
    "env.step(4)\n",
    "env.render()"
   ]
  },
  {
   "cell_type": "code",
   "execution_count": 29,
   "id": "d703a907-1db0-4763-8527-a60ec6116e5d",
   "metadata": {},
   "outputs": [
    {
     "name": "stdout",
     "output_type": "stream",
     "text": [
      "[['1' '1' '1' '1' '1' '1']\n",
      " ['1' '0' '0' '1' '1' '1']\n",
      " ['1' '0' '0' '1' '1' '1']\n",
      " ['1' 'T' '0' '0' '0' '1']\n",
      " ['1' 'B' '0' '0' '0' '1']\n",
      " ['1' '0' 'A' '1' '1' '1']\n",
      " ['1' '1' '1' '1' '1' '1']]\n"
     ]
    }
   ],
   "source": [
    "env.step(1)\n",
    "env.render()"
   ]
  },
  {
   "cell_type": "code",
   "execution_count": 30,
   "id": "039bcbfd-17fe-4b43-8ebb-47c3804184ae",
   "metadata": {},
   "outputs": [
    {
     "name": "stdout",
     "output_type": "stream",
     "text": [
      "[['1' '1' '1' '1' '1' '1']\n",
      " ['1' '0' '0' '1' '1' '1']\n",
      " ['1' '0' '0' '1' '1' '1']\n",
      " ['1' 'T' '0' '0' '0' '1']\n",
      " ['1' 'B' '0' '0' '0' '1']\n",
      " ['1' 'A' '0' '1' '1' '1']\n",
      " ['1' '1' '1' '1' '1' '1']]\n"
     ]
    }
   ],
   "source": [
    "env.step(2)\n",
    "env.render()"
   ]
  },
  {
   "cell_type": "code",
   "execution_count": 31,
   "id": "02c02942-8c5b-4c0e-929c-748f959669b2",
   "metadata": {},
   "outputs": [
    {
     "name": "stdout",
     "output_type": "stream",
     "text": [
      "[['1' '1' '1' '1' '1' '1']\n",
      " ['1' '0' '0' '1' '1' '1']\n",
      " ['1' '0' '0' '1' '1' '1']\n",
      " ['1' 'T' '0' '0' '0' '1']\n",
      " ['1' 'A' '0' '0' '0' '1']\n",
      " ['1' '0' '0' '1' '1' '1']\n",
      " ['1' '1' '1' '1' '1' '1']]\n"
     ]
    }
   ],
   "source": [
    "env.step(4)\n",
    "env.render()"
   ]
  },
  {
   "cell_type": "code",
   "execution_count": 32,
   "id": "f78af4d2-24ab-4b65-a99c-a425998deed2",
   "metadata": {},
   "outputs": [
    {
     "data": {
      "text/plain": [
       "{'agent': array([4, 1]), 'box': array([3, 1]), 'target': array([3, 1])}"
      ]
     },
     "execution_count": 32,
     "metadata": {},
     "output_type": "execute_result"
    }
   ],
   "source": [
    "env._get_obs()"
   ]
  },
  {
   "cell_type": "code",
   "execution_count": 33,
   "id": "85219448-034f-4601-95db-25c895d45add",
   "metadata": {},
   "outputs": [
    {
     "data": {
      "text/plain": [
       "{'agent': array([1, 2]), 'box': array([4, 3]), 'target': array([3, 1])}"
      ]
     },
     "execution_count": 33,
     "metadata": {},
     "output_type": "execute_result"
    }
   ],
   "source": [
    "env.reset()\n",
    "env._get_obs()"
   ]
  },
  {
   "cell_type": "code",
   "execution_count": null,
   "id": "d467900b-66d1-4fb9-8eb5-f353597d34b6",
   "metadata": {},
   "outputs": [],
   "source": []
  },
  {
   "cell_type": "code",
   "execution_count": null,
   "id": "c8aba422-39af-4f80-9e72-c08449a6fe05",
   "metadata": {},
   "outputs": [],
   "source": []
  }
 ],
 "metadata": {
  "kernelspec": {
   "display_name": "Python 3 (ipykernel)",
   "language": "python",
   "name": "python3"
  },
  "language_info": {
   "codemirror_mode": {
    "name": "ipython",
    "version": 3
   },
   "file_extension": ".py",
   "mimetype": "text/x-python",
   "name": "python",
   "nbconvert_exporter": "python",
   "pygments_lexer": "ipython3",
   "version": "3.8.8"
  }
 },
 "nbformat": 4,
 "nbformat_minor": 5
}
