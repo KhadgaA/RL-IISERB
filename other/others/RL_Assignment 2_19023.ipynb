{
 "cells": [
  {
   "cell_type": "markdown",
   "id": "ee5090fb",
   "metadata": {},
   "source": [
    "#### Akash Kumar Singh"
   ]
  },
  {
   "cell_type": "markdown",
   "id": "6cd3892a",
   "metadata": {},
   "source": [
    "#### 19023"
   ]
  },
  {
   "cell_type": "code",
   "execution_count": 1,
   "id": "22279ec5",
   "metadata": {
    "scrolled": true
   },
   "outputs": [
    {
     "name": "stdout",
     "output_type": "stream",
     "text": [
      "pygame 2.1.2 (SDL 2.0.18, Python 3.8.8)\n",
      "Hello from the pygame community. https://www.pygame.org/contribute.html\n"
     ]
    }
   ],
   "source": [
    "import numpy as np\n",
    "import math\n",
    "import random\n",
    "import pygame\n",
    "import gym\n",
    "from gym import Env\n",
    "from gym.spaces import Discrete, Box,Dict"
   ]
  },
  {
   "cell_type": "code",
   "execution_count": 66,
   "id": "85750b5f",
   "metadata": {},
   "outputs": [],
   "source": [
    "class WarehouseEnv(Env):\n",
    "    def __init__(self):\n",
    "        self.action_space = Discrete(4)\n",
    "        self.observation_space = Box(low=np.array([0,0]), high=np.array([6,5]),dtype= int)\n",
    "        \n",
    "        self.state = [1,2]\n",
    "        self.target_state = [3,1]\n",
    "        self.box_state = [4,3]\n",
    "        \n",
    "        self.action_map = {0: \"UP\", 1: \"DOWN\", 2: \"LEFT\", 3: \"RIGHT\"}\n",
    "    \n",
    "    def step(self, action):\n",
    "        info = {}\n",
    "        \n",
    "        done = False\n",
    "        \n",
    "        is_box_located = False\n",
    "    \n",
    "        \n",
    "        \n",
    "        if self.action_map[action] == \"UP\":\n",
    "            move_step = np.array([-1, 0])\n",
    "            new_state = self.state + move_step\n",
    "            \n",
    "        elif self.action_map[action] == \"DOWN\":\n",
    "            move_step = np.array([1, 0])\n",
    "            new_state = self.state + move_step\n",
    "            \n",
    "            \n",
    "        elif self.action_map[action] == \"LEFT\":\n",
    "            move_step = np.array([0, -1])\n",
    "            new_state = self.state + move_step\n",
    "        \n",
    "        \n",
    "        elif self.action_map[action] == \"RIGHT\":\n",
    "            move_step = np.array([0, 1])\n",
    "            new_state = self.state + move_step\n",
    "            \n",
    "            \n",
    "\n",
    "        if (new_state == self.box_state).all():\n",
    "            is_box_located = True\n",
    "            new_box_state = new_state + move_step\n",
    "\n",
    "            \n",
    "            if is_box_located:\n",
    "                self.box_state = new_box_state\n",
    "                \n",
    "                    \n",
    "        self.state = new_state          \n",
    "        print(self.box_state == self.target_state)\n",
    "        \n",
    "        reward = 0 if np.array_equal(self.box_state, self.target_state) else -1\n",
    "        \n",
    "        done = True if reward ==0 else done\n",
    "        \n",
    "        return self.state, reward, done, info\n",
    "           \n",
    "        \n",
    "                                     \n",
    "    def render(self):\n",
    "        pass\n",
    "\n",
    "        \n",
    "    def reset(self):\n",
    "        self.state = [1,2]\n",
    "        self.box = [4,3]\n",
    "        \n",
    "        return self.state\n",
    "    \n",
    "    \n",
    "    \n",
    "    \n",
    "# if __name__ == \"__main__\":\n",
    "#     env = WarehouseEnv()\n",
    "\n",
    "#     action = env.action_space.sample()\n",
    "    \n",
    "#     state, reward, done, info = env.step(action)\n",
    "    \n",
    "#     print(env.action_map[action], state, reward, done)"
   ]
  },
  {
   "cell_type": "code",
   "execution_count": 67,
   "id": "bd0bf495",
   "metadata": {},
   "outputs": [],
   "source": [
    "env = WarehouseEnv()"
   ]
  },
  {
   "cell_type": "code",
   "execution_count": 68,
   "id": "ce85f8ae",
   "metadata": {},
   "outputs": [
    {
     "name": "stdout",
     "output_type": "stream",
     "text": [
      "False\n"
     ]
    },
    {
     "data": {
      "text/plain": [
       "(array([2, 2]), -1, False, {})"
      ]
     },
     "execution_count": 68,
     "metadata": {},
     "output_type": "execute_result"
    }
   ],
   "source": [
    "env.step(1)"
   ]
  },
  {
   "cell_type": "code",
   "execution_count": 69,
   "id": "7c9774f1-b58e-4401-8a27-d5bef859fef4",
   "metadata": {},
   "outputs": [
    {
     "name": "stdout",
     "output_type": "stream",
     "text": [
      "False\n"
     ]
    },
    {
     "data": {
      "text/plain": [
       "(array([3, 2]), -1, False, {})"
      ]
     },
     "execution_count": 69,
     "metadata": {},
     "output_type": "execute_result"
    }
   ],
   "source": [
    "env.step(1)"
   ]
  },
  {
   "cell_type": "code",
   "execution_count": 70,
   "id": "b8f598c8-b167-4746-af3c-c14399b72b23",
   "metadata": {},
   "outputs": [
    {
     "name": "stdout",
     "output_type": "stream",
     "text": [
      "False\n"
     ]
    },
    {
     "data": {
      "text/plain": [
       "(array([4, 2]), -1, False, {})"
      ]
     },
     "execution_count": 70,
     "metadata": {},
     "output_type": "execute_result"
    }
   ],
   "source": [
    "env.step(1)"
   ]
  },
  {
   "cell_type": "code",
   "execution_count": 71,
   "id": "13af94db-b103-47ef-b7c9-6bbc2d9550f4",
   "metadata": {},
   "outputs": [
    {
     "name": "stdout",
     "output_type": "stream",
     "text": [
      "[False False]\n"
     ]
    },
    {
     "data": {
      "text/plain": [
       "(array([4, 3]), -1, False, {})"
      ]
     },
     "execution_count": 71,
     "metadata": {},
     "output_type": "execute_result"
    }
   ],
   "source": [
    "env.step(3)"
   ]
  },
  {
   "cell_type": "code",
   "execution_count": 72,
   "id": "d5659719-3363-4211-a389-cf49724d3ad4",
   "metadata": {},
   "outputs": [
    {
     "name": "stdout",
     "output_type": "stream",
     "text": [
      "[False False]\n"
     ]
    },
    {
     "data": {
      "text/plain": [
       "(array([4, 4]), -1, False, {})"
      ]
     },
     "execution_count": 72,
     "metadata": {},
     "output_type": "execute_result"
    }
   ],
   "source": [
    "env.step(3)"
   ]
  },
  {
   "cell_type": "code",
   "execution_count": 73,
   "id": "21aed99f-59b0-403a-9828-8be95dc2d91c",
   "metadata": {},
   "outputs": [
    {
     "name": "stdout",
     "output_type": "stream",
     "text": [
      "[False False]\n"
     ]
    },
    {
     "data": {
      "text/plain": [
       "(array([4, 5]), -1, False, {})"
      ]
     },
     "execution_count": 73,
     "metadata": {},
     "output_type": "execute_result"
    }
   ],
   "source": [
    "env.step(3)"
   ]
  },
  {
   "cell_type": "code",
   "execution_count": 74,
   "id": "8322a31e-62e4-4576-8fae-83bd9c5305b5",
   "metadata": {},
   "outputs": [
    {
     "name": "stdout",
     "output_type": "stream",
     "text": [
      "[False False]\n"
     ]
    },
    {
     "data": {
      "text/plain": [
       "(array([4, 6]), -1, False, {})"
      ]
     },
     "execution_count": 74,
     "metadata": {},
     "output_type": "execute_result"
    }
   ],
   "source": [
    "env.step(3)"
   ]
  },
  {
   "cell_type": "code",
   "execution_count": 75,
   "id": "071edb1b-5b59-4e1e-aa3c-e87079473d79",
   "metadata": {},
   "outputs": [
    {
     "name": "stdout",
     "output_type": "stream",
     "text": [
      "[False False]\n"
     ]
    },
    {
     "data": {
      "text/plain": [
       "(array([4, 7]), -1, False, {})"
      ]
     },
     "execution_count": 75,
     "metadata": {},
     "output_type": "execute_result"
    }
   ],
   "source": [
    "env.step(3)"
   ]
  },
  {
   "cell_type": "code",
   "execution_count": 76,
   "id": "eaa410bf-cec7-4a3e-b805-5995e15cb392",
   "metadata": {},
   "outputs": [
    {
     "name": "stdout",
     "output_type": "stream",
     "text": [
      "[False False]\n"
     ]
    },
    {
     "data": {
      "text/plain": [
       "(array([4, 8]), -1, False, {})"
      ]
     },
     "execution_count": 76,
     "metadata": {},
     "output_type": "execute_result"
    }
   ],
   "source": [
    "env.step(3)"
   ]
  },
  {
   "cell_type": "code",
   "execution_count": 77,
   "id": "91ff0fbe-3b97-422d-8cf2-30bd46b9b5af",
   "metadata": {},
   "outputs": [
    {
     "name": "stdout",
     "output_type": "stream",
     "text": [
      "[False False]\n"
     ]
    },
    {
     "data": {
      "text/plain": [
       "(array([4, 9]), -1, False, {})"
      ]
     },
     "execution_count": 77,
     "metadata": {},
     "output_type": "execute_result"
    }
   ],
   "source": [
    "env.step(3)"
   ]
  },
  {
   "cell_type": "code",
   "execution_count": 78,
   "id": "7810fc71-f0d7-48f1-8850-44b96dcd4a7a",
   "metadata": {},
   "outputs": [
    {
     "name": "stdout",
     "output_type": "stream",
     "text": [
      "[False False]\n"
     ]
    },
    {
     "data": {
      "text/plain": [
       "(array([ 4, 10]), -1, False, {})"
      ]
     },
     "execution_count": 78,
     "metadata": {},
     "output_type": "execute_result"
    }
   ],
   "source": [
    "env.step(3)"
   ]
  },
  {
   "cell_type": "code",
   "execution_count": 79,
   "id": "df3b535a-fdd7-47d9-85f3-9a3f7aaf076e",
   "metadata": {},
   "outputs": [
    {
     "data": {
      "text/plain": [
       "array([ 4, 11])"
      ]
     },
     "execution_count": 79,
     "metadata": {},
     "output_type": "execute_result"
    }
   ],
   "source": [
    "env.box_state"
   ]
  },
  {
   "cell_type": "code",
   "execution_count": null,
   "id": "d87feaff-4c8d-436e-bbf9-50ba029fb8c7",
   "metadata": {},
   "outputs": [],
   "source": []
  }
 ],
 "metadata": {
  "kernelspec": {
   "display_name": "Python 3 (ipykernel)",
   "language": "python",
   "name": "python3"
  },
  "language_info": {
   "codemirror_mode": {
    "name": "ipython",
    "version": 3
   },
   "file_extension": ".py",
   "mimetype": "text/x-python",
   "name": "python",
   "nbconvert_exporter": "python",
   "pygments_lexer": "ipython3",
   "version": "3.8.8"
  }
 },
 "nbformat": 4,
 "nbformat_minor": 5
}
