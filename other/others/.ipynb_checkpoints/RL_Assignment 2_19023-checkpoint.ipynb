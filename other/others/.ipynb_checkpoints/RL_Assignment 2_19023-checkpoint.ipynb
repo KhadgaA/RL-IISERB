{
 "cells": [
  {
   "cell_type": "markdown",
   "id": "ee5090fb",
   "metadata": {},
   "source": [
    "#### Akash Kumar Singh"
   ]
  },
  {
   "cell_type": "markdown",
   "id": "6cd3892a",
   "metadata": {},
   "source": [
    "#### 19023"
   ]
  },
  {
   "cell_type": "code",
   "execution_count": 1,
   "id": "22279ec5",
   "metadata": {
    "scrolled": true
   },
   "outputs": [
    {
     "name": "stdout",
     "output_type": "stream",
     "text": [
      "pygame 2.1.2 (SDL 2.0.18, Python 3.8.8)\n",
      "Hello from the pygame community. https://www.pygame.org/contribute.html\n"
     ]
    }
   ],
   "source": [
    "import numpy as np\n",
    "import math\n",
    "import random\n",
    "import pygame\n",
    "import gym\n",
    "from gym import Env\n",
    "from gym.spaces import Discrete, Box,Dict"
   ]
  },
  {
   "cell_type": "code",
   "execution_count": 2,
   "id": "85750b5f",
   "metadata": {},
   "outputs": [
    {
     "name": "stdout",
     "output_type": "stream",
     "text": [
      "DOWN [2 2] -1 False\n"
     ]
    },
    {
     "name": "stderr",
     "output_type": "stream",
     "text": [
      "C:\\Users\\akash\\anaconda3\\lib\\site-packages\\ipykernel\\ipkernel.py:287: DeprecationWarning: `should_run_async` will not call `transform_cell` automatically in the future. Please pass the result to `transformed_cell` argument and any exception that happen during thetransform in `preprocessing_exc_tuple` in IPython 7.17 and above.\n",
      "  and should_run_async(code)\n"
     ]
    }
   ],
   "source": [
    "class WarehouseEnv(Env):\n",
    "    def __init__(self):\n",
    "        self.action_space = Discrete(4)\n",
    "        self.observation_space = Box(low=np.array([0,0]), high=np.array([6,5]),dtype= int)\n",
    "        \n",
    "        self.state = [1,2]\n",
    "        self.target_state = [3,1]\n",
    "        self.box_state = [4,3]\n",
    "        \n",
    "        self.action_map = {0: \"UP\", 1: \"DOWN\", 2: \"LEFT\", 3: \"RIGHT\"}\n",
    "    \n",
    "    def step(self, action):\n",
    "        info = {}\n",
    "        \n",
    "        done = False\n",
    "        \n",
    "        is_box_located = False\n",
    "    \n",
    "        \n",
    "        \n",
    "        if self.action_map[action] == \"UP\":\n",
    "            move_step = np.array([-1, 0])\n",
    "            new_state = self.state + move_step\n",
    "            \n",
    "        elif self.action_map[action] == \"DOWN\":\n",
    "            move_step = np.array([1, 0])\n",
    "            new_state = self.state + move_step\n",
    "            \n",
    "            \n",
    "        elif self.action_map[action] == \"LEFT\":\n",
    "            move_step = np.array([0, -1])\n",
    "            new_state = self.state + move_step\n",
    "        \n",
    "        \n",
    "        elif self.action_map[action] == \"RIGHT\":\n",
    "            move_step = np.array([0, 1])\n",
    "            new_state = self.state + move_step\n",
    "            \n",
    "            \n",
    "\n",
    "        if (new_state == self.box_state).all():\n",
    "            is_box_located = True\n",
    "            new_box_state = new_state + move_step\n",
    "\n",
    "            \n",
    "            if is_box_located:\n",
    "                self.box_state = new_box_state\n",
    "                \n",
    "                    \n",
    "        self.state = new_state                \n",
    "        \n",
    "        reward = int((self.box_state == self.target_state)) - 1\n",
    "        \n",
    "        done = bool((self.box_state == self.target_state)) or done\n",
    "        \n",
    "        return self.state, reward, done, info\n",
    "           \n",
    "        \n",
    "                                     \n",
    "    def render(self):\n",
    "        pass\n",
    "\n",
    "        \n",
    "    def reset(self):\n",
    "        self.state = [1,2]\n",
    "        self.box = [4,3]\n",
    "        \n",
    "        return self.state\n",
    "    \n",
    "    \n",
    "    \n",
    "if __name__ == \"__main__\":\n",
    "    env = WarehouseEnv()\n",
    "\n",
    "    action = env.action_space.sample()\n",
    "    \n",
    "    state, reward, done, info = env.step(action)\n",
    "    \n",
    "    print(env.action_map[action], state, reward, done)"
   ]
  },
  {
   "cell_type": "code",
   "execution_count": null,
   "id": "bd0bf495",
   "metadata": {},
   "outputs": [],
   "source": []
  },
  {
   "cell_type": "code",
   "execution_count": null,
   "id": "ce85f8ae",
   "metadata": {},
   "outputs": [],
   "source": []
  }
 ],
 "metadata": {
  "kernelspec": {
   "display_name": "Python [conda env:root] *",
   "language": "python",
   "name": "conda-root-py"
  },
  "language_info": {
   "codemirror_mode": {
    "name": "ipython",
    "version": 3
   },
   "file_extension": ".py",
   "mimetype": "text/x-python",
   "name": "python",
   "nbconvert_exporter": "python",
   "pygments_lexer": "ipython3",
   "version": "3.8.8"
  }
 },
 "nbformat": 4,
 "nbformat_minor": 5
}
