{
 "cells": [
  {
   "cell_type": "code",
   "execution_count": 7,
   "id": "1ba44f39",
   "metadata": {},
   "outputs": [],
   "source": [
    "import numpy as np\n",
    "from gym import Env\n",
    "import gym\n",
    "from gym.spaces import Discrete, Box, Dict\n",
    "import random"
   ]
  },
  {
   "cell_type": "markdown",
   "id": "40745c78",
   "metadata": {},
   "source": [
    "#### Q learning"
   ]
  },
  {
   "cell_type": "code",
   "execution_count": null,
   "id": "c293924b",
   "metadata": {},
   "outputs": [],
   "source": []
  },
  {
   "cell_type": "code",
   "execution_count": null,
   "id": "1e3f008a",
   "metadata": {},
   "outputs": [],
   "source": []
  },
  {
   "cell_type": "code",
   "execution_count": 5,
   "id": "85117352",
   "metadata": {},
   "outputs": [
    {
     "ename": "NameError",
     "evalue": "name 'env' is not defined",
     "output_type": "error",
     "traceback": [
      "\u001b[1;31m---------------------------------------------------------------------------\u001b[0m",
      "\u001b[1;31mNameError\u001b[0m                                 Traceback (most recent call last)",
      "\u001b[1;32m<ipython-input-5-1b0d9faf9b9d>\u001b[0m in \u001b[0;36m<module>\u001b[1;34m\u001b[0m\n\u001b[0;32m      6\u001b[0m \u001b[1;33m\u001b[0m\u001b[0m\n\u001b[0;32m      7\u001b[0m \u001b[1;31m#Initializing the Q-table with 0\u001b[0m\u001b[1;33m\u001b[0m\u001b[1;33m\u001b[0m\u001b[1;33m\u001b[0m\u001b[0m\n\u001b[1;32m----> 8\u001b[1;33m \u001b[0mQ\u001b[0m \u001b[1;33m=\u001b[0m \u001b[0mnp\u001b[0m\u001b[1;33m.\u001b[0m\u001b[0mzeros\u001b[0m\u001b[1;33m(\u001b[0m\u001b[1;33m(\u001b[0m\u001b[0menv\u001b[0m\u001b[1;33m.\u001b[0m\u001b[0mstate_space\u001b[0m\u001b[1;33m.\u001b[0m\u001b[0mn\u001b[0m\u001b[1;33m,\u001b[0m\u001b[0menv\u001b[0m\u001b[1;33m.\u001b[0m\u001b[0maction_space\u001b[0m\u001b[1;33m.\u001b[0m\u001b[0mn\u001b[0m\u001b[1;33m)\u001b[0m\u001b[1;33m)\u001b[0m  \u001b[1;31m# (total no. of states * total no. of actions)\u001b[0m\u001b[1;33m\u001b[0m\u001b[1;33m\u001b[0m\u001b[0m\n\u001b[0m\u001b[0;32m      9\u001b[0m \u001b[0mQ\u001b[0m\u001b[1;33m.\u001b[0m\u001b[0mshape\u001b[0m\u001b[1;33m\u001b[0m\u001b[1;33m\u001b[0m\u001b[0m\n",
      "\u001b[1;31mNameError\u001b[0m: name 'env' is not defined"
     ]
    }
   ],
   "source": [
    "#Defining the hyper parameters\n",
    "alpha = 0.8\n",
    "gamma = 0.9\n",
    "epsilon = 0.9\n",
    "total_episodes = 500\n",
    "\n",
    "#Initializing the Q-table with 0\n",
    "Q = np.zeros((env.state_space.n,env.action_space.n))  # (total no. of states * total no. of actions)\n",
    "Q.shape"
   ]
  },
  {
   "cell_type": "code",
   "execution_count": 6,
   "id": "4eadcf3f",
   "metadata": {},
   "outputs": [],
   "source": [
    "#Function to choose the next action from a state\n",
    "def choose_action(state):\n",
    "    action=0\n",
    "    # epsilon greedy\n",
    "    p = np.random.random()\n",
    "    if p < epsilon:  # choose random action among 4 actions\n",
    "        x = (Q[state,:]!=0).all()\n",
    "        if x:\n",
    "            action = np.argmax(Q[state,:])\n",
    "        else:\n",
    "            action = np.where(Q[state,:]==0)[0]\n",
    "            action = action[0]\n",
    "            \n",
    "    else:\n",
    "        action = np.random.randint(env.action_space.n)\n",
    "        \n",
    "    return action\n",
    "    \n",
    "# Function to update the Q-table\n",
    "def Qupdate(current_state, current_action, next_state, reward, next_max):\n",
    "    Q[current_state, current_action] = Q[current_state, current_action] + alpha*(reward + (gamma * next_max)- Q[current_state, current_action])"
   ]
  },
  {
   "cell_type": "code",
   "execution_count": null,
   "id": "e0e91b89",
   "metadata": {},
   "outputs": [],
   "source": [
    "#Initializing the reward\n",
    "episodes_reward = []  # total sum of rewards in a episode, for each episodes\n",
    "\n",
    "# Starting the Q-learning learning\n",
    "for episode in range(total_episodes):\n",
    "    env.reset()\n",
    "    current_state = env._state_in_seq()    # initial state i.e reset to intial state for each episode  # env.reset()\n",
    "    total_reward = 0\n",
    "    \n",
    "    done = False        # done is for terminated or not\n",
    "    # loop in the episode until the environment not terminated\n",
    "    while not done:\n",
    "        current_action = choose_action(current_state)  # initial action for this initial_state\n",
    "        # Getting the next state,reward\n",
    "        observation, reward, done, info = env.step(current_action)   # Take one step in the environment\n",
    "        next_state = env._state_in_seq()\n",
    "        \n",
    "        # max (S',ai) value\n",
    "        next_max = np.max(Q[next_state])\n",
    "        \n",
    "        # Q table update\n",
    "        Qupdate(current_state, current_action, next_state, reward, next_max)\n",
    "        \n",
    "        \n",
    "        current_state = next_state\n",
    "\n",
    "        total_reward += reward\n",
    "    # At the end of learning process i.e termination\n",
    "    episodes_reward.append(total_reward)"
   ]
  },
  {
   "cell_type": "code",
   "execution_count": null,
   "id": "7936f776",
   "metadata": {},
   "outputs": [],
   "source": []
  },
  {
   "cell_type": "markdown",
   "id": "e4acc224",
   "metadata": {},
   "source": [
    "#### ON Policy Monte Carlo"
   ]
  },
  {
   "cell_type": "code",
   "execution_count": null,
   "id": "3127c389",
   "metadata": {},
   "outputs": [],
   "source": []
  },
  {
   "cell_type": "code",
   "execution_count": null,
   "id": "0b35cde1",
   "metadata": {},
   "outputs": [],
   "source": []
  },
  {
   "cell_type": "code",
   "execution_count": null,
   "id": "72b1b496",
   "metadata": {},
   "outputs": [],
   "source": []
  },
  {
   "cell_type": "code",
   "execution_count": null,
   "id": "4c446624",
   "metadata": {},
   "outputs": [],
   "source": []
  },
  {
   "cell_type": "code",
   "execution_count": null,
   "id": "47951e2b",
   "metadata": {},
   "outputs": [],
   "source": []
  },
  {
   "cell_type": "code",
   "execution_count": null,
   "id": "547dc796",
   "metadata": {},
   "outputs": [],
   "source": []
  },
  {
   "cell_type": "code",
   "execution_count": null,
   "id": "9fbb7ff2",
   "metadata": {},
   "outputs": [],
   "source": []
  },
  {
   "cell_type": "code",
   "execution_count": null,
   "id": "cbb11dcc",
   "metadata": {},
   "outputs": [],
   "source": []
  },
  {
   "cell_type": "code",
   "execution_count": null,
   "id": "29e17fd3",
   "metadata": {},
   "outputs": [],
   "source": []
  },
  {
   "cell_type": "markdown",
   "id": "d5ae6a63",
   "metadata": {},
   "source": [
    "#### OFF Policy Monte Carlo"
   ]
  },
  {
   "cell_type": "code",
   "execution_count": null,
   "id": "1974164b",
   "metadata": {},
   "outputs": [],
   "source": []
  }
 ],
 "metadata": {
  "kernelspec": {
   "display_name": "Python [conda env:root] *",
   "language": "python",
   "name": "conda-root-py"
  },
  "language_info": {
   "codemirror_mode": {
    "name": "ipython",
    "version": 3
   },
   "file_extension": ".py",
   "mimetype": "text/x-python",
   "name": "python",
   "nbconvert_exporter": "python",
   "pygments_lexer": "ipython3",
   "version": "3.8.8"
  }
 },
 "nbformat": 4,
 "nbformat_minor": 5
}
