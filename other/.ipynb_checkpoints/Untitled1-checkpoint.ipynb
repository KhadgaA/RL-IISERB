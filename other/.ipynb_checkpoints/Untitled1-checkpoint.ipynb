{
 "cells": [
  {
   "cell_type": "markdown",
   "id": "98b70cfe-3314-4319-83b2-d605762705b1",
   "metadata": {},
   "source": [
    "## Alli Khadga Jyoth 19024 - DSE"
   ]
  },
  {
   "cell_type": "code",
   "execution_count": 1,
   "id": "03f309b6-1f64-467b-ad0b-518b9bb2849e",
   "metadata": {},
   "outputs": [],
   "source": [
    "from gym import Env\n",
    "import gym\n",
    "import pygame\n",
    "from gym.spaces import Discrete, Box,Dict\n",
    "import numpy as np\n",
    "import random"
   ]
  },
  {
   "cell_type": "code",
   "execution_count": 16,
   "id": "f2e068bc-d35f-4390-94d3-2c086d56f919",
   "metadata": {},
   "outputs": [],
   "source": [
    "class WarehouseAgent(gym.Env):\n",
    "    def __init__(self):\n",
    "        \"\"\"\n",
    "        Initializing the environment\n",
    "        \"\"\"\n",
    "        self.metadata = {\"render_modes\": [\"human\", \"rgb_array\"], \"render_fps\": 4}\n",
    "        \n",
    "        self.window_size = 512\n",
    "        self.GRID_DIM = [6,7]\n",
    "        self.size = self.GRID_DIM[0]\n",
    "        self.agent_position = [1,2]\n",
    "\n",
    "        self.box_location = [4,3]\n",
    "        self.goal_location = [3,1]\n",
    "        \"\"\"directions: UP, DOWN, LEFT, RIGHT.\"\"\"\n",
    "        self._action_to_direction = {\n",
    "            0: np.array([-1, 0]),\n",
    "            1: np.array([1, 0]),\n",
    "            2: np.array([0, -1]),\n",
    "            3: np.array([0, 1]),\n",
    "        }\n",
    "        self._ACTIONLOOKUP = {\n",
    "            0: 'push up',\n",
    "            1: 'push down',\n",
    "            2: 'push left',\n",
    "            3: 'push right',\n",
    "            4: 'move up',\n",
    "            5: 'move down',\n",
    "            6: 'move left',\n",
    "            7: 'move right',\n",
    "            }\n",
    "        \n",
    "        self.action_space = Discrete(len(self._ACTIONLOOKUP.keys()))\n",
    "        self.state_space = Discrete((self.GRID_DIM[0]*self.GRID_DIM[1]) **3)\n",
    "        self.observation_space = Dict(\n",
    "            {\n",
    "                \"agent\": Box(np.array([0,0]), np.array([self.GRID_DIM[0]-1,self.GRID_DIM[1] - 1]), shape=(2,), dtype=int),\n",
    "                'box' : Box( np.array([0,0]), np.array([self.GRID_DIM[0]-1,self.GRID_DIM[1] - 1]), shape=(2,), dtype=int),\n",
    "                \"target\": Box( np.array([0,0]), np.array([self.GRID_DIM[0]-1,self.GRID_DIM[1] - 1]), shape=(2,), dtype=int),\n",
    "            }\n",
    "        )\n",
    "        self._agent_location = np.array(self.agent_position)\n",
    "        self._box_location = np.array(self.box_location)\n",
    "        self._target_location = np.array(self.goal_location)\n",
    "\n",
    "    \n",
    "        self.window = None\n",
    "        self.clock = None\n",
    "            \n",
    "        \n",
    "    def step(self, action):        #change = CHANGE_COORDINATES[(action - 1) % 4]\n",
    "        self._prev_agent_location = None  \n",
    "        self._prev_box_location=None# new_position = self.player_position + \n",
    "        moved_box = False\n",
    "#         if action ==0:\n",
    "#             moved_player = False\n",
    "        if action <4:\n",
    "            moved_player, moved_box = self._push(action)\n",
    "        else:    \n",
    "        # Map the action (element of {0,1,2,3}) to the direction we walk in\n",
    "#         direction = self._action_to_direction[action]\n",
    "            moved_player = self._move(action) \n",
    "        \n",
    "        # An episode is done iff the agent has reached the target\n",
    "        done = np.array_equal(self._box_location, self._target_location)\n",
    "        reward = 0 if done else -1  # Binary sparse rewards\n",
    "        observation = self._get_obs()\n",
    "        info = self._get_info()\n",
    "\n",
    "        return observation, reward, done, info\n",
    "#     def render(self):\n",
    "#         \"\"\"Function to get the simulation of the warehouse agent system \n",
    "#         \"\"\"\n",
    "#         pass\n",
    "    def render(self, mode=\"human\"):\n",
    "            if self.window is None and mode == \"human\":\n",
    "                pygame.init()\n",
    "                pygame.display.init()\n",
    "                self.window = pygame.display.set_mode((self.window_size, self.window_size))\n",
    "            if self.clock is None and mode == \"human\":\n",
    "                self.clock = pygame.time.Clock()\n",
    "\n",
    "            canvas = pygame.Surface((self.window_size, self.window_size))\n",
    "            canvas.fill((255, 255, 255))\n",
    "            pix_square_size = (\n",
    "                self.window_size / self.GRID_DIM[0]\n",
    "            )  # The size of a single grid square in pixels\n",
    "\n",
    "            # First we draw the target\n",
    "            pygame.draw.rect(\n",
    "                canvas,\n",
    "                (255, 0, 0),\n",
    "                pygame.Rect(\n",
    "                    pix_square_size * self._target_location,\n",
    "                    (pix_square_size, pix_square_size),\n",
    "                ),\n",
    "            )\n",
    "            # Draw the box\n",
    "            pygame.draw.rect(\n",
    "                canvas,\n",
    "                (0, 255, 0),\n",
    "                pygame.Rect(\n",
    "                    pix_square_size * self._box_location,\n",
    "                    (pix_square_size, pix_square_size),\n",
    "                ),\n",
    "            )\n",
    "            # Now we draw the agent\n",
    "            pygame.draw.circle(\n",
    "                canvas,\n",
    "                (0, 0, 255),\n",
    "                (self._agent_location + 0.5) * pix_square_size,\n",
    "                pix_square_size / 3,\n",
    "            )\n",
    "\n",
    "            # Finally, add some gridlines\n",
    "            for x in range(self.size + 1):\n",
    "                pygame.draw.line(\n",
    "                    canvas,\n",
    "                    0,\n",
    "                    (0, pix_square_size * x),\n",
    "                    (self.window_size, pix_square_size * x),\n",
    "                    width=3,\n",
    "                )\n",
    "                pygame.draw.line(\n",
    "                    canvas,\n",
    "                    0,\n",
    "                    (pix_square_size * x, 0),\n",
    "                    (pix_square_size * x, self.window_size),\n",
    "                    width=3,\n",
    "                )\n",
    "\n",
    "            if mode == \"human\":\n",
    "                # The following line copies our drawings from `canvas` to the visible window\n",
    "                self.window.blit(canvas, canvas.get_rect())\n",
    "                pygame.event.pump()\n",
    "                pygame.display.update()\n",
    "\n",
    "                # We need to ensure that human-rendering occurs at the predefined framerate.\n",
    "                # The following line will automatically add a delay to keep the framerate stable.\n",
    "                self.clock.tick(self.metadata[\"render_fps\"])\n",
    "            else:  # rgb_array\n",
    "                return np.transpose(\n",
    "                    np.array(pygame.surfarray.pixels3d(canvas)), axes=(1, 0, 2)\n",
    "                )\n",
    "    def close(self):\n",
    "        if self.window is not None:\n",
    "            pygame.display.quit()\n",
    "            pygame.quit()\n",
    "\n",
    "    def reset(self, seed=None, return_info=False, options=None):\n",
    "        # We need the following line to seed self.np_random\n",
    "#         super().reset(seed=seed)\n",
    "        self._agent_location = np.array(self.agent_position)\n",
    "        self._box_location = np.array(self.box_location)\n",
    "        self._target_location = np.array(self.goal_location)\n",
    "\n",
    "        observation = self._get_obs()\n",
    "        info = self._get_info()\n",
    "        return (observation, info) if return_info else observation\n",
    "    \n",
    "    \n",
    "    def _get_obs(self):\n",
    "        return {\"agent\": self._agent_location, 'box':self._box_location,\"target\": self._target_location}\n",
    "    def _get_info(self):\n",
    "        return {\"distance\": np.linalg.norm(self._box_location - self._target_location, ord=1)}\n",
    "    def _push(self,action):\n",
    "        direction = self._action_to_direction[(action ) % 4]\n",
    "#         new_position = self.player_position + direction\n",
    "        if np.array_equal(self._agent_location + direction,self._box_location): \n",
    "            self._prev_box_location = self._box_location\n",
    "            self._box_location = np.clip(\n",
    "                self._box_location + direction, [0,0],[self.GRID_DIM[0]-1,self.GRID_DIM[1]-1]\n",
    "            )\n",
    "            if np.array_equal(self._prev_box_location,self._box_location):\n",
    "                self._agent_location = self._agent_location\n",
    "                return False,False\n",
    "            else:\n",
    "                self._agent_location = np.clip(\n",
    "                    self._agent_location + direction, [0,0],[self.GRID_DIM[0]-1,self.GRID_DIM[1]-1]\n",
    "                )\n",
    "            return True,True\n",
    "        else: return False,False\n",
    "    def _move(self,action):\n",
    "        direction = self._action_to_direction[(action ) % 4]\n",
    "        # We use `np.clip` to make sure we don't leave the grid\n",
    "        self._prev_agent_location = self._agent_location\n",
    "        self._agent_location = np.clip(\n",
    "            self._agent_location + direction, [0,0],[self.GRID_DIM[0]-1,self.GRID_DIM[1]-1]\n",
    "        )\n",
    "        if np.array_equal(self._agent_location,self._box_location):\n",
    "            self._agent_location = self._prev_agent_location\n",
    "            return False\n",
    "        if np.array_equal(self._prev_agent_location ,self._agent_location):\n",
    "            return False\n",
    "        else: return True\n",
    "    def actionSpaceSample(self):\n",
    "        return np.random.choice(self.action_space)\n",
    "\n"
   ]
  },
  {
   "cell_type": "markdown",
   "id": "32415bf1-64bc-4bb0-a21d-e431b6cd2c35",
   "metadata": {},
   "source": [
    "\n",
    "_ACTIONLOOKUP = \n",
    ">            0: 'push up',\n",
    ">            1: 'push down',\n",
    ">            2: 'push left',\n",
    ">            3: 'push right',\n",
    ">            4: 'move up',\n",
    ">            5: 'move down',\n",
    ">            6: 'move left',\n",
    ">            7: 'move right',\n",
    "            \n",
    "            "
   ]
  },
  {
   "cell_type": "code",
   "execution_count": 46,
   "id": "d800a9fa-47b9-44d0-b628-adc4db3d6ec0",
   "metadata": {},
   "outputs": [],
   "source": [
    "env = WarehouseAgent()"
   ]
  },
  {
   "cell_type": "code",
   "execution_count": 47,
   "id": "4a458ff0-2ba2-4760-acc6-19ee04047233",
   "metadata": {},
   "outputs": [
    {
     "data": {
      "text/plain": [
       "{'agent': array([1, 2]), 'box': array([4, 3]), 'target': array([3, 1])}"
      ]
     },
     "execution_count": 47,
     "metadata": {},
     "output_type": "execute_result"
    }
   ],
   "source": [
    "env._get_obs()"
   ]
  },
  {
   "cell_type": "code",
   "execution_count": 48,
   "id": "debf6b18-1c3d-450e-8bfe-e9f3a36e9ee1",
   "metadata": {},
   "outputs": [
    {
     "data": {
      "text/plain": [
       "({'agent': array([2, 2]), 'box': array([4, 3]), 'target': array([3, 1])},\n",
       " -1,\n",
       " False,\n",
       " {'distance': 3.0})"
      ]
     },
     "execution_count": 48,
     "metadata": {},
     "output_type": "execute_result"
    }
   ],
   "source": [
    "env.step(5)"
   ]
  },
  {
   "cell_type": "code",
   "execution_count": 49,
   "id": "eaae0b96-b221-4ea6-b3be-c817b02e0176",
   "metadata": {},
   "outputs": [
    {
     "data": {
      "text/plain": [
       "({'agent': array([3, 2]), 'box': array([4, 3]), 'target': array([3, 1])},\n",
       " -1,\n",
       " False,\n",
       " {'distance': 3.0})"
      ]
     },
     "execution_count": 49,
     "metadata": {},
     "output_type": "execute_result"
    }
   ],
   "source": [
    "env.step(5)"
   ]
  },
  {
   "cell_type": "code",
   "execution_count": 50,
   "id": "4ca71f64-6dd6-42d1-929b-600e3cb0d75a",
   "metadata": {},
   "outputs": [
    {
     "data": {
      "text/plain": [
       "({'agent': array([4, 2]), 'box': array([4, 3]), 'target': array([3, 1])},\n",
       " -1,\n",
       " False,\n",
       " {'distance': 3.0})"
      ]
     },
     "execution_count": 50,
     "metadata": {},
     "output_type": "execute_result"
    }
   ],
   "source": [
    "env.step(5)"
   ]
  },
  {
   "cell_type": "code",
   "execution_count": 51,
   "id": "182b7ec2-afad-429b-857d-22a3bb104510",
   "metadata": {},
   "outputs": [
    {
     "data": {
      "text/plain": [
       "({'agent': array([5, 2]), 'box': array([4, 3]), 'target': array([3, 1])},\n",
       " -1,\n",
       " False,\n",
       " {'distance': 3.0})"
      ]
     },
     "execution_count": 51,
     "metadata": {},
     "output_type": "execute_result"
    }
   ],
   "source": [
    "env.step(5)"
   ]
  },
  {
   "cell_type": "code",
   "execution_count": 52,
   "id": "5f93469c-dc94-40df-af42-2484f3c4cbf0",
   "metadata": {},
   "outputs": [
    {
     "data": {
      "text/plain": [
       "({'agent': array([5, 3]), 'box': array([4, 3]), 'target': array([3, 1])},\n",
       " -1,\n",
       " False,\n",
       " {'distance': 3.0})"
      ]
     },
     "execution_count": 52,
     "metadata": {},
     "output_type": "execute_result"
    }
   ],
   "source": [
    "env.step(7)"
   ]
  },
  {
   "cell_type": "code",
   "execution_count": 53,
   "id": "50f5c14d-ec91-43ba-a095-6af834b6bfb5",
   "metadata": {},
   "outputs": [
    {
     "data": {
      "text/plain": [
       "({'agent': array([4, 3]), 'box': array([3, 3]), 'target': array([3, 1])},\n",
       " -1,\n",
       " False,\n",
       " {'distance': 2.0})"
      ]
     },
     "execution_count": 53,
     "metadata": {},
     "output_type": "execute_result"
    }
   ],
   "source": [
    "env.step(0)"
   ]
  },
  {
   "cell_type": "code",
   "execution_count": 57,
   "id": "896c1c09-5876-4048-ba11-45b4ca15c564",
   "metadata": {},
   "outputs": [
    {
     "data": {
      "text/plain": [
       "({'agent': array([4, 4]), 'box': array([3, 3]), 'target': array([3, 1])},\n",
       " -1,\n",
       " False,\n",
       " {'distance': 2.0})"
      ]
     },
     "execution_count": 57,
     "metadata": {},
     "output_type": "execute_result"
    }
   ],
   "source": [
    "env.step(7)"
   ]
  },
  {
   "cell_type": "code",
   "execution_count": 58,
   "id": "d2e0920d-14f7-4bb9-af0e-2d0468a69eb1",
   "metadata": {},
   "outputs": [
    {
     "data": {
      "text/plain": [
       "({'agent': array([3, 4]), 'box': array([3, 3]), 'target': array([3, 1])},\n",
       " -1,\n",
       " False,\n",
       " {'distance': 2.0})"
      ]
     },
     "execution_count": 58,
     "metadata": {},
     "output_type": "execute_result"
    }
   ],
   "source": [
    "env.step(4)"
   ]
  },
  {
   "cell_type": "code",
   "execution_count": 59,
   "id": "c211c807-6be6-4c86-93df-a5566724ef08",
   "metadata": {},
   "outputs": [
    {
     "data": {
      "text/plain": [
       "({'agent': array([3, 4]), 'box': array([3, 3]), 'target': array([3, 1])},\n",
       " -1,\n",
       " False,\n",
       " {'distance': 2.0})"
      ]
     },
     "execution_count": 59,
     "metadata": {},
     "output_type": "execute_result"
    }
   ],
   "source": [
    "env.step(6)"
   ]
  },
  {
   "cell_type": "code",
   "execution_count": 61,
   "id": "12d2af60-cbec-439b-90e8-36175dc0b035",
   "metadata": {},
   "outputs": [
    {
     "data": {
      "text/plain": [
       "({'agent': array([3, 3]), 'box': array([3, 2]), 'target': array([3, 1])},\n",
       " -1,\n",
       " False,\n",
       " {'distance': 1.0})"
      ]
     },
     "execution_count": 61,
     "metadata": {},
     "output_type": "execute_result"
    }
   ],
   "source": [
    "env.step(2)"
   ]
  },
  {
   "cell_type": "code",
   "execution_count": 62,
   "id": "b8a0440b-7668-456a-8378-f2997e028578",
   "metadata": {},
   "outputs": [
    {
     "data": {
      "text/plain": [
       "({'agent': array([3, 2]), 'box': array([3, 1]), 'target': array([3, 1])},\n",
       " 0,\n",
       " True,\n",
       " {'distance': 0.0})"
      ]
     },
     "execution_count": 62,
     "metadata": {},
     "output_type": "execute_result"
    }
   ],
   "source": [
    "env.step(2)"
   ]
  },
  {
   "cell_type": "markdown",
   "id": "2a292dae-cd8b-4d40-8816-70e55588bfd5",
   "metadata": {},
   "source": [
    "The box is at its target location"
   ]
  },
  {
   "cell_type": "code",
   "execution_count": null,
   "id": "7172e1b9-6acb-4252-affe-f885e3c76a41",
   "metadata": {},
   "outputs": [],
   "source": []
  }
 ],
 "metadata": {
  "kernelspec": {
   "display_name": "Python 3 (ipykernel)",
   "language": "python",
   "name": "python3"
  },
  "language_info": {
   "codemirror_mode": {
    "name": "ipython",
    "version": 3
   },
   "file_extension": ".py",
   "mimetype": "text/x-python",
   "name": "python",
   "nbconvert_exporter": "python",
   "pygments_lexer": "ipython3",
   "version": "3.8.8"
  }
 },
 "nbformat": 4,
 "nbformat_minor": 5
}
