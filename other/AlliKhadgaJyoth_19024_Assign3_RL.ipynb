{
 "cells": [
  {
   "cell_type": "markdown",
   "id": "67311d1d-8775-4616-bba6-e7c9789c1d7f",
   "metadata": {},
   "source": [
    "# Alli Khadga Jyoth - 19024 DSE"
   ]
  },
  {
   "cell_type": "code",
   "execution_count": 1,
   "id": "de2ff933-4820-492d-a01c-c81fc9888f01",
   "metadata": {},
   "outputs": [],
   "source": [
    "from gym import Env\n",
    "import gym\n",
    "from gym.spaces import Discrete, Box, Dict\n",
    "import numpy as np\n",
    "import random\n",
    "import matplotlib.pyplot as plt"
   ]
  },
  {
   "cell_type": "markdown",
   "id": "22b8e405-bdc8-4694-adce-a0644e418f60",
   "metadata": {},
   "source": [
    "> The environment is slightly different from the one submitted in Assignment2. Because of some debugging issues caused when applying the learning models"
   ]
  },
  {
   "cell_type": "code",
   "execution_count": 2,
   "id": "e2b0aecf-2939-400c-8448-6254f30c2607",
   "metadata": {},
   "outputs": [],
   "source": [
    "class WarehouseAgent:\n",
    "    def __init__(self):\n",
    "        self.GRID_DIM = [7, 6]\n",
    "\n",
    "        self.agent_position = [1, 2]\n",
    "\n",
    "        self.box_location = [4, 3]\n",
    "        self.goal_location = [3, 1]\n",
    "        self._action_to_direction = {\n",
    "            0: np.array([-1, 0]),\n",
    "            1: np.array([1, 0]),\n",
    "            2: np.array([0, -1]),\n",
    "            3: np.array([0, 1]),\n",
    "        }\n",
    "        self._ACTIONLOOKUP = {\n",
    "            0: \"move up\",\n",
    "            1: \"move down\",\n",
    "            2: \"move left\",\n",
    "            3: \"move right\",\n",
    "            4: \"push\",\n",
    "        }\n",
    "        self.GRID_DIM = np.asarray(self.GRID_DIM)\n",
    "        self.GRID = np.zeros(\n",
    "            self.GRID_DIM\n",
    "        )  # The Boundaries are the walls, so playing space is only [:-2,:-2]\n",
    "        self.GRID[:, [0, -1]] = 1\n",
    "        self.GRID[[0, -1], :] = 1\n",
    "        self.GRID[[1, 2, 5], 3:5] = 1\n",
    "        self.walls = 1\n",
    "        self.action_space = Discrete(len(self._ACTIONLOOKUP.keys()))\n",
    "        self.state_space = Discrete(self.GRID_DIM[0] * self.GRID_DIM[1])\n",
    "        self.observation_space = Dict(\n",
    "            {\n",
    "                \"agent\": Box(\n",
    "                    np.array([0, 0]),\n",
    "                    np.array([self.GRID_DIM[0] - 1, self.GRID_DIM[1] - 1]),\n",
    "                    shape=(2,),\n",
    "                    dtype=int,\n",
    "                ),\n",
    "                \"box\": Box(\n",
    "                    np.array([0, 0]),\n",
    "                    np.array([self.GRID_DIM[0] - 1, self.GRID_DIM[1] - 1]),\n",
    "                    shape=(2,),\n",
    "                    dtype=int,\n",
    "                ),\n",
    "                \"target\": Box(\n",
    "                    np.array([0, 0]),\n",
    "                    np.array([self.GRID_DIM[0] - 1, self.GRID_DIM[1] - 1]),\n",
    "                    shape=(2,),\n",
    "                    dtype=int,\n",
    "                ),\n",
    "            }\n",
    "        )\n",
    "        self._agent_location = np.array(self.agent_position)\n",
    "        self._box_location = np.array(self.box_location)\n",
    "        self._target_location = np.array(self.goal_location)\n",
    "\n",
    "    #         print(self.GRID)\n",
    "\n",
    "    def step(self, action):\n",
    "        self._prev_agent_location = None\n",
    "        self._prev_box_location = None\n",
    "        moved_box = False\n",
    "\n",
    "        if action < 4:\n",
    "            moved_player = self._move(action)\n",
    "        else:\n",
    "            moved_player, moved_box = self._push(action)\n",
    "\n",
    "        done, reward = self.is_over()\n",
    "        observation = self._get_obs()\n",
    "        info = self._get_info()\n",
    "\n",
    "        return observation, reward, done, info\n",
    "\n",
    "    def render(self):\n",
    "        rend = self.GRID.copy().astype(dtype=\"U1\")\n",
    "        rend[self._agent_location[0], self._agent_location[1]] = \"A\"\n",
    "        rend[self._box_location[0], self._box_location[1]] = \"B\"\n",
    "        rend[self._target_location[0], self._target_location[1]] = \"T\"\n",
    "        if np.array_equal(self._target_location, self._box_location):\n",
    "            rend[self._target_location[0], self._target_location[1]] = \"D\"\n",
    "        return print(rend)\n",
    "\n",
    "    def reset(self, seed=None, return_info=False, options=None):\n",
    "        self._agent_location = np.array(self.agent_position)\n",
    "        self._box_location = np.array(self.box_location)\n",
    "        self._target_location = np.array(self.goal_location)\n",
    "\n",
    "        observation = self._get_obs()\n",
    "        info = self._get_info()\n",
    "        return (observation, info) if return_info else observation\n",
    "\n",
    "    def _get_obs(self):\n",
    "        return {\n",
    "            \"agent\": self._agent_location,\n",
    "            \"box\": self._box_location,\n",
    "            \"target\": self._target_location,\n",
    "        }\n",
    "\n",
    "    def _get_info(self):\n",
    "        return {\n",
    "            \"distance\": np.linalg.norm(\n",
    "                self._box_location - self._target_location, ord=1\n",
    "            )\n",
    "        }\n",
    "\n",
    "    def _state_in_seq(self):\n",
    "        m, n = self._agent_location\n",
    "        seq = m * self.GRID.shape[1] + n\n",
    "        return seq\n",
    "\n",
    "    def _push(self, action):\n",
    "        loc = self._box_location - self._agent_location\n",
    "        #         print(f'loc{loc}, box :{self._box_location}, agent:{self._agent_location}')\n",
    "        push_dir = None\n",
    "        for idx, val in enumerate(self._action_to_direction.values()):\n",
    "            if np.array_equal(loc, val):\n",
    "                valid = True\n",
    "                push_dir = idx\n",
    "                break\n",
    "            else:\n",
    "                valid = False\n",
    "\n",
    "        if valid:\n",
    "            self._prev_agent_location = self._agent_location\n",
    "            self._prev_box_location = self._box_location\n",
    "            self._box_location = (\n",
    "                self._box_location + self._action_to_direction[push_dir]\n",
    "            )\n",
    "            if self.GRID[self._box_location[0], self._box_location[1]] == 1:\n",
    "                self._box_location = self._prev_box_location\n",
    "                return False, False\n",
    "            else:\n",
    "                self._agent_location = (\n",
    "                    self._agent_location + self._action_to_direction[push_dir]\n",
    "                )\n",
    "                return True, True\n",
    "\n",
    "        return False, False\n",
    "\n",
    "    def _move(self, action):\n",
    "        self._prev_agent_location = self._agent_location\n",
    "        self._prev_box_location = self._box_location\n",
    "        self._agent_location = self._agent_location + self._action_to_direction[action]\n",
    "        #             print(self.GRID[self._agent_location],self._agent_location,self.GRID)\n",
    "        if self.GRID[self._agent_location[0], self._agent_location[1]] == 1:\n",
    "            self._agent_location = self._prev_agent_location\n",
    "            return False\n",
    "        elif np.array_equal(self._agent_location, self._box_location):\n",
    "            self._agent_location = self._prev_agent_location\n",
    "            return False\n",
    "        return True\n",
    "\n",
    "    def is_over(self):\n",
    "        if np.array_equal(self._box_location, self._target_location):  # checking if the box is at the target already\n",
    "            done = True\n",
    "            reward = 0\n",
    "        elif (sum(a := np.array([True if self.GRID[(self._box_location + val)[0], (self._box_location + val)[1]]== 1 \n",
    "                                 else False for val in self._action_to_direction.values()]))>= 1):\n",
    "            # basically checking if there are atleast 1 wall adjacent to box\n",
    "            if sum(a) > 1:\n",
    "                done = True\n",
    "                reward = -100 ## Reward for getting stuck at wall reward -1 not a good option ####\n",
    "            elif sum(a) == 1:\n",
    "                if ~(self._box_location - self._target_location).all():\n",
    "                    done = False\n",
    "                    reward = -1\n",
    "                    return done, reward\n",
    "                else:\n",
    "                    #                 print(a)\n",
    "                    direc = np.where(a == True)\n",
    "                    #                 print(direc)\n",
    "                    direc = direc[0][0]\n",
    "                    left = self._box_location + self._action_to_direction[direc]\n",
    "                    right = left.copy()\n",
    "                    if direc in [0, 1]:\n",
    "                        count = 0\n",
    "                        while (self.GRID[left[0], left[1]] != 0) and (\n",
    "                            self.GRID[right[0], right[1]] != 0\n",
    "                        ):\n",
    "\n",
    "                            left = np.clip(\n",
    "                                left + self._action_to_direction[2],\n",
    "                                [0, 0],\n",
    "                                [self.GRID_DIM[0] - 1, self.GRID_DIM[1] - 1],\n",
    "                            )\n",
    "                            right = np.clip(\n",
    "                                right + self._action_to_direction[3],\n",
    "                                [0, 0],\n",
    "                                [self.GRID_DIM[0] - 1, self.GRID_DIM[1] - 1],\n",
    "                            )\n",
    "                            count += 1\n",
    "                            if count >= self.GRID_DIM[1]:\n",
    "                                done = True\n",
    "                                reward = -100 #box getting stuck\n",
    "                                return done, reward\n",
    "                                break\n",
    "                    else:\n",
    "                        count = 0\n",
    "                        while (self.GRID[left[0], left[1]] != 0) and (\n",
    "                            self.GRID[right[0], right[1]] != 0\n",
    "                        ):\n",
    "                            left = np.clip(\n",
    "                                left + self._action_to_direction[1],\n",
    "                                [0, 0],\n",
    "                                [self.GRID_DIM[0] - 1, self.GRID_DIM[1] - 1],\n",
    "                            )\n",
    "                            right = np.clip(\n",
    "                                right + self._action_to_direction[0],\n",
    "                                [0, 0],\n",
    "                                [self.GRID_DIM[0] - 1, self.GRID_DIM[1] - 1],\n",
    "                            )\n",
    "                            count += 1\n",
    "                            if count >= self.GRID_DIM[0]:\n",
    "                                done = True\n",
    "                                reward = -100 #getting stuck\n",
    "                                return done, reward\n",
    "                                break\n",
    "\n",
    "                    done = False\n",
    "                    reward = -1\n",
    "                    return done, reward\n",
    "         # gotta check if the box is not adjacent to 2 walls but still is terminating state like the boundary walls\n",
    "        else:\n",
    "            done = False\n",
    "            reward = -1\n",
    "        return done, reward"
   ]
  },
  {
   "cell_type": "markdown",
   "id": "4e31c5d5-4c92-424d-a839-75414ba447e0",
   "metadata": {},
   "source": [
    "## On-Policy Monte Carlo\n",
    "> First visit on-policy MC($\\epsilon$- soft)"
   ]
  },
  {
   "cell_type": "code",
   "execution_count": 33,
   "id": "064c2aa1-05a0-4bd1-9db3-c82bc2c3f66e",
   "metadata": {},
   "outputs": [
    {
     "data": {
      "text/plain": [
       "(42, 5)"
      ]
     },
     "execution_count": 33,
     "metadata": {},
     "output_type": "execute_result"
    }
   ],
   "source": [
    "env = WarehouseAgent()\n",
    "#Defining the hyper parameters\n",
    "gamma = 0.9\n",
    "epsilon = 0.1\n",
    "total_episodes = 10\n",
    "\n",
    "#Initializing the Q-table with 0\n",
    "Q = np.zeros((env.state_space.n,env.action_space.n))  # (total no. of states * total no. of actions)\n",
    "policy = (Q.copy()+1)/env.action_space.n\n",
    "Q.shape"
   ]
  },
  {
   "cell_type": "code",
   "execution_count": 34,
   "id": "f1e53498-48fe-4769-959d-15b48966e225",
   "metadata": {},
   "outputs": [],
   "source": [
    "# creating Returns list, where each state has five possible actions to take\n",
    "Returns = {}\n",
    "for state in [str(s) for s in range(0,env.state_space.n)]:\n",
    "    for action in [str(a) for a in range(0,env.action_space.n)]:\n",
    "        Returns[state+\", \"+action] = []"
   ]
  },
  {
   "cell_type": "code",
   "execution_count": 35,
   "id": "f0e4f3d2-3e69-40ee-b8b6-e2191cafecdc",
   "metadata": {
    "scrolled": true,
    "tags": []
   },
   "outputs": [
    {
     "name": "stdout",
     "output_type": "stream",
     "text": [
      "Episode: 1\n",
      "Episode: 2\n",
      "Episode: 3\n",
      "Episode: 4\n",
      "Episode: 5\n",
      "Episode: 6\n",
      "Episode: 7\n",
      "Episode: 8\n",
      "Episode: 9\n",
      "Episode: 10\n"
     ]
    }
   ],
   "source": [
    "timestep_reward=[]\n",
    "for ep in range(total_episodes):\n",
    "    G = 0\n",
    "    t = 0\n",
    "    env.reset()\n",
    "    current_state = env._state_in_seq()  # state\n",
    "    total_reward = 0 \n",
    "    trajectory = []\n",
    "    done = False\n",
    "    while not done:\n",
    "        t+=1\n",
    "#         print(t)\n",
    "        current_action = np.random.choice(range(0,env.action_space.n),p=policy[current_state]) \n",
    "        \n",
    "        observation, reward, done, info = env.step(current_action)   # Take one step in the environment\n",
    "        next_state = env._state_in_seq()\n",
    "\n",
    "        trajectory.append((current_state, current_action, reward))\n",
    "        total_reward+= reward\n",
    "        current_state = next_state\n",
    "        if done:\n",
    "            break\n",
    "\n",
    "    timestep_reward.append(total_reward)\n",
    "    print('Episode:',ep+1)\n",
    "    for idx, step in enumerate(trajectory[::-1]):\n",
    "        G = gamma*G + step[2]\n",
    "        \n",
    "        # first visit check\n",
    "        if [step[0],step[1]] not in np.array(np.array(trajectory[::-1])[:,0:2][idx+1:]).tolist():\n",
    "            Returns[str(step[0])+\", \"+str(step[1])].append(G)\n",
    "            Q[step[0]][step[1]] = np.mean(Returns[str(step[0])+\", \"+str(step[1])])\n",
    "            astar = np.argmax(Q[step[0]])\n",
    "            for at in range(env.action_space.n):\n",
    "                if at == astar:\n",
    "                    policy[step[0]][at] = 1-epsilon+(epsilon/(env.action_space.n))\n",
    "                else:\n",
    "                    policy[step[0]][at] = epsilon/(env.action_space.n)"
   ]
  },
  {
   "cell_type": "code",
   "execution_count": 36,
   "id": "70dd27bd-e1fc-4604-8beb-4a4e7c2d942a",
   "metadata": {},
   "outputs": [
    {
     "name": "stdout",
     "output_type": "stream",
     "text": [
      "[['1' '1' '1' '1' '1' '1']\n",
      " ['1' '0' '0' '1' '1' '1']\n",
      " ['1' '0' '0' '1' '1' '1']\n",
      " ['1' 'T' '0' '0' '0' '1']\n",
      " ['1' '0' '0' 'A' 'B' '1']\n",
      " ['1' '0' '0' '1' '1' '1']\n",
      " ['1' '1' '1' '1' '1' '1']]\n"
     ]
    },
    {
     "data": {
      "text/plain": [
       "[<matplotlib.lines.Line2D at 0x2841b9eaa90>]"
      ]
     },
     "execution_count": 36,
     "metadata": {},
     "output_type": "execute_result"
    },
    {
     "data": {
      "image/png": "[encoded data removed]",
      "text/plain": [
       "<Figure size 432x288 with 1 Axes>"
      ]
     },
     "metadata": {
      "needs_background": "light"
     },
     "output_type": "display_data"
    }
   ],
   "source": [
    "env.render()\n",
    "plt.plot(timestep_reward)"
   ]
  },
  {
   "cell_type": "markdown",
   "id": "48c39b02-11b8-4f15-98cd-29f1301aa4d6",
   "metadata": {},
   "source": [
    "## Off-Policy MC"
   ]
  },
  {
   "cell_type": "code",
   "execution_count": 84,
   "id": "89d1e0af-16c1-462c-8577-7bdf9fec0340",
   "metadata": {},
   "outputs": [],
   "source": [
    "env = WarehouseAgent()\n",
    "#Defining the hyper parameters\n",
    "gamma = 0.9\n",
    "epsilon = 0.1\n",
    "max_episodes = 100\n",
    "\n",
    "#Initializing the Q-table with 0\n",
    "Q = np.zeros((env.state_space.n,env.action_space.n))  # (total no. of states * total no. of actions)\n",
    "policy = np.argmax(Q,axis=1)\n",
    "C = np.zeros((env.state_space.n,env.action_space.n))"
   ]
  },
  {
   "cell_type": "code",
   "execution_count": 85,
   "id": "3dfc9a4f-2293-48bc-992f-23550211eed4",
   "metadata": {
    "scrolled": true,
    "tags": []
   },
   "outputs": [],
   "source": [
    "for ep in range(max_episodes):\n",
    "    env.reset()\n",
    "    current_state = env._state_in_seq()  # state\n",
    "    \n",
    "    G = 0\n",
    "    W = 1\n",
    "    \n",
    "    trajectory = []\n",
    "    done = False\n",
    "    while not done:\n",
    "        action_by_b_policy = np.random.randint(env.action_space.n)\n",
    "        \n",
    "        observation, reward, done, info = env.step(action_by_b_policy)   # Take one step in the environment\n",
    "        next_state = env._state_in_seq()\n",
    "\n",
    "        trajectory.append((current_state, action_by_b_policy, reward))\n",
    "        current_state = next_state\n",
    "#     print('Episode:',ep+1)\n",
    "    for idx, step in enumerate(trajectory[::-1]):\n",
    "        G = gamma*G + step[2]\n",
    "#         print(C,step)\n",
    "        C[step[0],step[1]] += W\n",
    "        Q[step[0],step[1]] += (W/C[step[0],step[1]]) * (G-Q[step[0],step[1]])\n",
    "        policy[step[0]] = np.argmax(Q[step[0]])\n",
    "        \n",
    "        if step[1] != policy[step[0]]:\n",
    "            break\n",
    "                    \n",
    "        W = W*(1/(1/env.action_space.n))\n",
    "# print(C)"
   ]
  },
  {
   "cell_type": "markdown",
   "id": "26248ce3-5e75-4349-b378-ed47622145e6",
   "metadata": {},
   "source": [
    "#### Evaluating the policy"
   ]
  },
  {
   "cell_type": "code",
   "execution_count": 86,
   "id": "af22fb76-1541-4431-bec2-0a9574a5c4c3",
   "metadata": {},
   "outputs": [
    {
     "name": "stdout",
     "output_type": "stream",
     "text": [
      "[['1' '1' '1' '1' '1' '1']\n",
      " ['1' '0' 'A' '1' '1' '1']\n",
      " ['1' '0' '0' '1' '1' '1']\n",
      " ['1' 'T' '0' '0' '0' '1']\n",
      " ['1' '0' '0' 'B' '0' '1']\n",
      " ['1' '0' '0' '1' '1' '1']\n",
      " ['1' '1' '1' '1' '1' '1']]\n",
      "Total reward got in the run -10000\n"
     ]
    }
   ],
   "source": [
    "env = WarehouseAgent()\n",
    "env.reset()\n",
    "# print(env._state_in_seq())\n",
    "done = False\n",
    "total_reward = 0\n",
    "max_steps = 10000\n",
    "step=0\n",
    "while not done and step<max_steps:\n",
    "    state = env._state_in_seq()\n",
    "    act = policy[state]\n",
    "    obs,reward,done,info = env.step(act)\n",
    "    total_reward+=reward\n",
    "    step+=1\n",
    "env.render()\n",
    "print('Total reward got in the run',total_reward)"
   ]
  },
  {
   "cell_type": "markdown",
   "id": "cee2ff0b-575a-4e27-bf4f-554a9aca2661",
   "metadata": {},
   "source": [
    "## SARSA"
   ]
  },
  {
   "cell_type": "code",
   "execution_count": 26,
   "id": "63084861-2b87-4573-ae1e-203f2a522ed7",
   "metadata": {},
   "outputs": [],
   "source": [
    "def ep_greedy(env,Q,epsilon=0.9):\n",
    "    seq = env._state_in_seq()\n",
    "    if np.random.random()<epsilon:\n",
    "        x=(Q[seq,:]!=0).all()\n",
    "        if x :           \n",
    "            action = np.argmax(Q[seq,:])\n",
    "        else:\n",
    "            action = np.where(Q[seq,:]==0)[0]\n",
    "            action=action[0]\n",
    "    else:\n",
    "        action = np.random.randint(env.action_space.n)\n",
    "    return action\n",
    "def Sarsa(env,alpha, gamma, epsilon, episodes, max_steps):\n",
    "    timestep_reward = []\n",
    "    for ep in range(episodes):\n",
    "        env.reset()\n",
    "        done = False\n",
    "        total_reward = 0        \n",
    "        curr_state = env._state_in_seq()\n",
    "        curr_a = ep_greedy(env,Q)\n",
    "        t = 0\n",
    "        while not done :\n",
    "            obs, reward, done, info = env.step(curr_a)\n",
    "            next_state = env._state_in_seq()\n",
    "            total_reward+= reward\n",
    "            next_act = ep_greedy(env,Q)\n",
    "            t+=1\n",
    "\n",
    "            Q[curr_state, curr_a] += alpha * ( reward + (gamma * Q[next_state, next_act] ) - Q[curr_state, curr_a] )\n",
    "            curr_state = next_state\n",
    "            curr_a = next_act\n",
    "\n",
    "#         print(t)\n",
    "        timestep_reward.append(total_reward)\n",
    "    return timestep_reward"
   ]
  },
  {
   "cell_type": "code",
   "execution_count": 27,
   "id": "fdd28a69-013d-48c9-b2ba-75ffa2d43ebf",
   "metadata": {},
   "outputs": [],
   "source": [
    "env = WarehouseAgent()\n",
    "n_states, n_actions = env.state_space.n, env.action_space.n\n",
    "Q = np.zeros((n_states, n_actions))\n",
    "\n",
    "alpha = 0.2\n",
    "gamma = 0.9\n",
    "epsilon = 0.9\n",
    "episodes = 200\n",
    "timestep_reward = Sarsa(env,alpha, gamma, epsilon, episodes, max_steps)\n",
    "# print(timestep_reward)"
   ]
  },
  {
   "cell_type": "code",
   "execution_count": 28,
   "id": "9a919d00-3468-4e03-b31d-d481ca1f49ec",
   "metadata": {},
   "outputs": [
    {
     "name": "stdout",
     "output_type": "stream",
     "text": [
      "[['1' '1' '1' '1' '1' '1']\n",
      " ['1' '0' '0' '1' '1' '1']\n",
      " ['1' '0' '0' '1' '1' '1']\n",
      " ['1' 'D' '0' '0' '0' '1']\n",
      " ['1' 'A' '0' '0' '0' '1']\n",
      " ['1' '0' '0' '1' '1' '1']\n",
      " ['1' '1' '1' '1' '1' '1']]\n"
     ]
    },
    {
     "data": {
      "text/plain": [
       "[<matplotlib.lines.Line2D at 0x2841b5d68e0>]"
      ]
     },
     "execution_count": 28,
     "metadata": {},
     "output_type": "execute_result"
    },
    {
     "data": {
      "image/png": "[encoded data removed]",
      "text/plain": [
       "<Figure size 432x288 with 1 Axes>"
      ]
     },
     "metadata": {
      "needs_background": "light"
     },
     "output_type": "display_data"
    }
   ],
   "source": [
    "env.render()\n",
    "plt.plot(timestep_reward)"
   ]
  },
  {
   "cell_type": "markdown",
   "id": "eeb8b635-1e0a-475f-9b78-d27bef371b68",
   "metadata": {},
   "source": [
    "## Q-Learning"
   ]
  },
  {
   "cell_type": "code",
   "execution_count": 29,
   "id": "c28a2695-7fe2-479c-af59-c9e7eb37caf9",
   "metadata": {},
   "outputs": [],
   "source": [
    "def ep_greedy(env,Q,action_count,epsilon=0.9):\n",
    "    seq = env._state_in_seq()\n",
    "    if np.random.random()<epsilon:\n",
    "        x=(Q[seq,:]!=0).all()\n",
    "        if x :           \n",
    "            action = np.argmax(Q[seq,:])\n",
    "        else:\n",
    "            action = np.where(action_count[seq]==0)[0]\n",
    "            action=action[0]\n",
    "    else:\n",
    "        action = np.random.randint(env.action_space.n)\n",
    "    return action\n",
    "def QL(env,alpha, gamma, epsilon, episodes):\n",
    "    timestep_reward = []\n",
    "    for ep in range(episodes):\n",
    "        env.reset()\n",
    "        done = False\n",
    "        total_reward = 0        \n",
    "        curr_state = env._state_in_seq()\n",
    "        t = 0\n",
    "        while not done :\n",
    "            curr_state = env._state_in_seq()\n",
    "            curr_a = ep_greedy(env,Q,action_count)\n",
    "            action_count[curr_state,curr_a]+=1\n",
    "            obs, reward, done, info = env.step(curr_a)\n",
    "            next_state = env._state_in_seq()\n",
    "            total_reward+= reward\n",
    "            t+=1\n",
    "            Q[curr_state, curr_a] += alpha * ( reward + (gamma * np.max(Q[next_state]) ) - Q[curr_state, curr_a] )\n",
    "            curr_state = next_state\n",
    "#         print(t)\n",
    "        timestep_reward.append(total_reward)\n",
    "    return timestep_reward"
   ]
  },
  {
   "cell_type": "code",
   "execution_count": 30,
   "id": "a8f77483-188a-43f5-af9c-50ba46af8294",
   "metadata": {},
   "outputs": [
    {
     "name": "stdout",
     "output_type": "stream",
     "text": [
      "[['1' '1' '1' '1' '1' '1']\n",
      " ['1' '0' 'A' '1' '1' '1']\n",
      " ['1' '0' '0' '1' '1' '1']\n",
      " ['1' 'T' '0' '0' '0' '1']\n",
      " ['1' '0' '0' 'B' '0' '1']\n",
      " ['1' '0' '0' '1' '1' '1']\n",
      " ['1' '1' '1' '1' '1' '1']]\n"
     ]
    }
   ],
   "source": [
    "env = WarehouseAgent()\n",
    "env.render()\n",
    "n_states, n_actions = env.state_space.n, env.action_space.n\n",
    "Q = np.zeros((n_states, n_actions))\n",
    "action_count = np.zeros((env.state_space.n, env.action_space.n))\n",
    "\n",
    "alpha = 0.01\n",
    "gamma = 0.9\n",
    "epsilon = 0.9\n",
    "episodes = 500\n",
    "\n",
    "timestep_reward = QL(env,alpha, gamma, epsilon, episodes)\n",
    "# print(timestep_reward)"
   ]
  },
  {
   "cell_type": "code",
   "execution_count": 31,
   "id": "7180a150-d7ce-4e20-9706-94f08493191f",
   "metadata": {},
   "outputs": [
    {
     "name": "stdout",
     "output_type": "stream",
     "text": [
      "[['1' '1' '1' '1' '1' '1']\n",
      " ['1' '0' '0' '1' '1' '1']\n",
      " ['1' '0' '0' '1' '1' '1']\n",
      " ['1' 'T' '0' '0' '0' '1']\n",
      " ['1' 'A' '0' '0' '0' '1']\n",
      " ['1' 'B' '0' '1' '1' '1']\n",
      " ['1' '1' '1' '1' '1' '1']]\n"
     ]
    },
    {
     "data": {
      "text/plain": [
       "[<matplotlib.lines.Line2D at 0x2841b8a8070>]"
      ]
     },
     "execution_count": 31,
     "metadata": {},
     "output_type": "execute_result"
    },
    {
     "data": {
      "image/png": "[encoded data removed]",
      "text/plain": [
       "<Figure size 432x288 with 1 Axes>"
      ]
     },
     "metadata": {
      "needs_background": "light"
     },
     "output_type": "display_data"
    }
   ],
   "source": [
    "env.render()\n",
    "plt.plot(timestep_reward)"
   ]
  },
  {
   "cell_type": "markdown",
   "id": "2a365cb0-a20b-4c0a-8241-f45d9f27639b",
   "metadata": {},
   "source": [
    "## Q2"
   ]
  },
  {
   "cell_type": "markdown",
   "id": "3d1576de-d14b-4086-8cfb-2ac79597fd7c",
   "metadata": {},
   "source": [
    "**On-Policy MC:** \n",
    "> Here the target policy is the same as the one being used to generate the episode. Since it's a MC learning the number of episodes required to converge to an optimal policy is large and the policy update takes large time\n",
    "\n",
    "**Off-Policy MC:**\n",
    "> Here the target policy is different from the one being used to generate the episode. The Convergence is atleast as fast as on-policy MC if not faster.\n",
    "\n",
    "**SARSA:**\n",
    "> It is a td(0) learning model, which learns from each state-action-reward-state-action pair. Its the fastest and the most efficient learning model out the ones used, It might take large number of episodes to converge, but that is offset by its fast computation time.\n",
    "\n",
    "**Q-Learning:**\n",
    "> It tries to take the best state-action pair which maximizes the action-value of next state. But the model is doesn;t converge to a maximum easily and fluctuates around it. "
   ]
  },
  {
   "cell_type": "code",
   "execution_count": null,
   "id": "d7a7f711-c3ec-442e-9ad0-11a7538dd22c",
   "metadata": {},
   "outputs": [],
   "source": []
  }
 ],
 "metadata": {
  "kernelspec": {
   "display_name": "Python 3 (ipykernel)",
   "language": "python",
   "name": "python3"
  },
  "language_info": {
   "codemirror_mode": {
    "name": "ipython",
    "version": 3
   },
   "file_extension": ".py",
   "mimetype": "text/x-python",
   "name": "python",
   "nbconvert_exporter": "python",
   "pygments_lexer": "ipython3",
   "version": "3.8.8"
  }
 },
 "nbformat": 4,
 "nbformat_minor": 5
}
