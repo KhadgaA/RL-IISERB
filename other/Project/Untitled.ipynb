{
 "cells": [
  {
   "cell_type": "code",
   "execution_count": 1,
   "id": "f9015c33-6129-46b9-b119-15b0dd5dda00",
   "metadata": {},
   "outputs": [],
   "source": [
    "from gym import Env\n",
    "import gym\n",
    "import pygame\n",
    "from gym.spaces import Discrete, Box,Dict\n",
    "import numpy as np\n",
    "import random"
   ]
  },
  {
   "cell_type": "code",
   "execution_count": 162,
   "id": "cb8a6311-c055-4cc1-9697-98818c2886cb",
   "metadata": {},
   "outputs": [],
   "source": [
    "class AirTraffic():\n",
    "    def __init__(self,planes:int = 2, grid_size:list = [5,5],radius:int = 2):\n",
    "        self.radius = radius\n",
    "        self.planes = planes\n",
    "        self.GRID_DIM = grid_size\n",
    "        \n",
    "        self._action_to_direction = {\n",
    "            0: np.array([-1, 0]),\n",
    "            1: np.array([-1, 1]),\n",
    "            2: np.array([0,  1]),\n",
    "            3: np.array([-1 , -1]),\n",
    "            4: np.array([0 , -1]),\n",
    "            \n",
    "        }        \n",
    "    \n",
    "        self._ACTIONLOOKUP = {\n",
    "            0: 'Up',\n",
    "            1: 'front right',\n",
    "            2: 'right',\n",
    "            3: 'front left',\n",
    "            4: 'left'\n",
    "            }\n",
    "        self.GRID_DIM = np.array(self.GRID_DIM)\n",
    "        self.GRID = np.zeros(self.GRID_DIM)\n",
    "        self.action_space = Discrete(len(self._ACTIONLOOKUP.keys()))\n",
    "        self.state_space = Discrete(self.GRID_DIM[0]*self.GRID_DIM[1])\n",
    "        self._ob_space = {}\n",
    "        for p in range(self.planes):\n",
    "            self._ob_space[f'plane{p}'] = Box(np.array([0,0]), np.array([self.GRID_DIM[0]-1,self.GRID_DIM[1] - 1]), shape=(2,), dtype=int)\n",
    "            self._ob_space[f'dest{p}'] = Box(np.array([0,0]), np.array([self.GRID_DIM[0]-1,self.GRID_DIM[1] - 1]), shape=(2,), dtype=int)\n",
    "        \n",
    "        self.observation_space = Dict(self._ob_space)\n",
    "        self._agent_location = np.array([np.array([np.random.randint(self.GRID_DIM[0]),np.random.randint(self.GRID_DIM[1])]) for p in range(self.planes) ])\n",
    "        self._target_location = np.array([np.array([np.random.randint(self.GRID_DIM[0]),np.random.randint(self.GRID_DIM[1])]) for p in range(self.planes)])\n",
    "        \n",
    "    def step(self,action):\n",
    "        self._prev_agent_location = [None]*self.planes ##### Find the vector of agent from destination to find\n",
    "        moved_plane = [False]*self.planes\n",
    "\n",
    "#             for plane,action in enumerate(action): \n",
    "        moved_plane = self._move(action)\n",
    "        done,reward =  self._is_over()\n",
    "        observation = self._get_obs()\n",
    "        info = self._get_info()\n",
    "        return observation, reward, done, info\n",
    "    def _move(self, action):\n",
    "        self._prev_agent_location = self._agent_location\n",
    "        for plane,act in enumerate(action):\n",
    "            self._agent_location[plane] = np.clip(self._agent_location[plane] + self._action_to_direction[act],[0,0],[self.GRID_DIM[0] - 1, self.GRID_DIM[1] - 1])\n",
    "        return   self._prev_agent_location== self._agent_location\n",
    "    def _is_over(self):\n",
    "        done = (self._agent_location==self._target_location).all(axis = 1)\n",
    "        reward = self._get_reward()\n",
    "        return done, reward\n",
    "    def _get_reward(self):\n",
    "        reward = []\n",
    "        # reward will be the minimum of intruder and todestination\n",
    "        distance, closest_dist = self._get_info()\n",
    "        for index,plane in enumerate(range(self.planes)):\n",
    "\n",
    "#             closest_dist = np.min(np.linalg.norm([self._agent_location[plane]]*self.planes-self._agent_location,axis = 1))\n",
    "            self._intruder = -(self.radius **2 - closest_dist[plane]**2)/(self.radius**2/500)\n",
    "            self._todestination = 100 - distance[plane]#np.linalg.norm(self._target_location[plane]-self._agent_location[plane])\n",
    "            print(self._intruder,self._todestination)\n",
    "            reward.append(np.min([self._intruder,self._todestination]))\n",
    "        return reward\n",
    "    def _get_obs(self):\n",
    "        return {'planes': self._agent_location,'destinations':self._target_location}\n",
    "    def _get_info(self):\n",
    "        closest_dist = []\n",
    "        distance = []\n",
    "        for index,plane in enumerate(range(self.planes)):\n",
    "            closest_dist .append(np.min(np.linalg.norm([self._agent_location[plane]]*self.planes-self._agent_location,axis = 1)))\n",
    "#             self._intruder = -(self.radius **2 - closest_dist**2)/(self.radius**2/500)\n",
    "            distance .append(np.linalg.norm(self._target_location[plane]-self._agent_location[plane]))\n",
    "#             print(self._intruder,self._todestination)\n",
    "        return distance,closest_dist\n",
    "    def render(self):\n",
    "        print(self._agent_location)\n",
    "        rend = self.GRID.copy().astype(dtype = 'U2')\n",
    "        for plane in range(self.planes):\n",
    "            rend[self._agent_location[plane][0],self._agent_location[plane][1]] = f'p{plane}'\n",
    "            rend[self._target_location[plane][0],self._target_location[plane][1]] = f'd{plane}'\n",
    "#         rend[self._agent_location[:,0],np.array(self._agent_location)[:,1]] = 'p'\n",
    "#         rend[np.array(self._target_location)[:,0],np.array(self._target_location)[:,1]] = 'd'\n",
    "        return print(rend)\n",
    "# if intruser dist < 50rew = intruder if >50 rew = distance dfrom dest \n",
    "        \n",
    "env = AirTraffic()"
   ]
  },
  {
   "cell_type": "code",
   "execution_count": 163,
   "id": "4bfd367a-dc72-4665-af36-da1c2330caa0",
   "metadata": {},
   "outputs": [
    {
     "name": "stdout",
     "output_type": "stream",
     "text": [
      "[[3 1]\n",
      " [1 0]]\n",
      "[['0.' '0.' '0.' '0.' '0.']\n",
      " ['p1' '0.' '0.' '0.' '0.']\n",
      " ['0.' '0.' '0.' '0.' '0.']\n",
      " ['0.' 'p0' '0.' '0.' '0.']\n",
      " ['0.' 'd1' '0.' '0.' 'd0']]\n"
     ]
    }
   ],
   "source": [
    "env.render()"
   ]
  },
  {
   "cell_type": "code",
   "execution_count": 164,
   "id": "2d5cf4d1-eeb3-4ff3-bae3-21d9a9441b32",
   "metadata": {},
   "outputs": [
    {
     "name": "stdout",
     "output_type": "stream",
     "text": [
      "-500.0 96.394448724536\n",
      "-500.0 95.87689437438235\n",
      "[[2 1]\n",
      " [0 0]]\n",
      "[['p1' '0.' '0.' '0.' '0.']\n",
      " ['0.' '0.' '0.' '0.' '0.']\n",
      " ['0.' 'p0' '0.' '0.' '0.']\n",
      " ['0.' '0.' '0.' '0.' '0.']\n",
      " ['0.' 'd1' '0.' '0.' 'd0']]\n"
     ]
    }
   ],
   "source": [
    "env.step([0,0])\n",
    "env.render()"
   ]
  },
  {
   "cell_type": "code",
   "execution_count": null,
   "id": "dde3a501-84d2-4a80-926b-41eefb07a43a",
   "metadata": {},
   "outputs": [],
   "source": [
    "env.step([2,])\n",
    "env.render()"
   ]
  },
  {
   "cell_type": "code",
   "execution_count": null,
   "id": "bd9c5b7c-6025-40b2-9929-dc3746268c5c",
   "metadata": {},
   "outputs": [],
   "source": []
  },
  {
   "cell_type": "code",
   "execution_count": null,
   "id": "d66ec1da-77f7-425c-9593-652bedbbfd96",
   "metadata": {},
   "outputs": [],
   "source": []
  },
  {
   "cell_type": "code",
   "execution_count": null,
   "id": "96d74de6-1758-48cb-990f-14edcef92228",
   "metadata": {},
   "outputs": [],
   "source": []
  },
  {
   "cell_type": "code",
   "execution_count": 43,
   "id": "1197447e-6e22-4973-b778-8ee27d0f18da",
   "metadata": {},
   "outputs": [
    {
     "data": {
      "text/plain": [
       "1.0"
      ]
     },
     "execution_count": 43,
     "metadata": {},
     "output_type": "execute_result"
    }
   ],
   "source": [
    "a = [[1,1],[2,2],[3,6]]\n",
    "b = np.array([[2,3],[2,5],[2,6]])\n",
    "np.min(np.linalg.norm(a-b,axis=1))"
   ]
  },
  {
   "cell_type": "code",
   "execution_count": 79,
   "id": "32431808-ca39-4444-a666-32dc001a5f78",
   "metadata": {},
   "outputs": [
    {
     "data": {
      "text/plain": [
       "array([[0., 0., 0., 0., 0., 0., 0., 0.],\n",
       "       [0., 0., 0., 0., 0., 0., 0., 0.],\n",
       "       [0., 0., 0., 1., 0., 1., 1., 0.],\n",
       "       [0., 0., 0., 0., 0., 0., 0., 0.],\n",
       "       [0., 0., 0., 0., 0., 0., 0., 0.],\n",
       "       [0., 0., 0., 0., 0., 0., 0., 0.],\n",
       "       [0., 0., 0., 0., 0., 0., 0., 0.],\n",
       "       [0., 0., 0., 0., 0., 0., 0., 0.]])"
      ]
     },
     "execution_count": 79,
     "metadata": {},
     "output_type": "execute_result"
    }
   ],
   "source": [
    "c = np.zeros([8,8])\n",
    "c[b[:,0],b[:,1]] = 1\n",
    "c"
   ]
  },
  {
   "cell_type": "code",
   "execution_count": 114,
   "id": "86452fe8-6497-45ec-b486-8b0e88652704",
   "metadata": {},
   "outputs": [
    {
     "data": {
      "text/plain": [
       "[array([3, 2]), array([2, 2])]"
      ]
     },
     "execution_count": 114,
     "metadata": {},
     "output_type": "execute_result"
    }
   ],
   "source": [
    "x = [np.array([np.random.randint(4),np.random.randint(5)]) for p in range(2)]\n",
    "x\n",
    "y = [np.array([np.random.randint(4),np.random.randint(5)]) for p in range(2)]\n",
    "y"
   ]
  },
  {
   "cell_type": "code",
   "execution_count": 107,
   "id": "079f5d5c-0f8a-49fc-bb54-25939c87a5a5",
   "metadata": {},
   "outputs": [
    {
     "data": {
      "text/plain": [
       "[array([0, 1]), array([1, 4]), array([1, 1]), array([2, 2])]"
      ]
     },
     "execution_count": 107,
     "metadata": {},
     "output_type": "execute_result"
    }
   ],
   "source": [
    "x+y"
   ]
  },
  {
   "cell_type": "code",
   "execution_count": 120,
   "id": "deaf58b1-0f8a-4868-953b-07140a59ed66",
   "metadata": {},
   "outputs": [
    {
     "data": {
      "text/plain": [
       "array([3, 2])"
      ]
     },
     "execution_count": 120,
     "metadata": {},
     "output_type": "execute_result"
    }
   ],
   "source": [
    "y = np.array(y)\n",
    "x = np.array(x)\n",
    "y[0]"
   ]
  },
  {
   "cell_type": "code",
   "execution_count": 117,
   "id": "1cbd21d8-a724-49cc-9673-1584a389ec37",
   "metadata": {},
   "outputs": [
    {
     "data": {
      "text/plain": [
       "array([[0, 1],\n",
       "       [0, 1]])"
      ]
     },
     "execution_count": 117,
     "metadata": {},
     "output_type": "execute_result"
    }
   ],
   "source": [
    "x"
   ]
  },
  {
   "cell_type": "code",
   "execution_count": 158,
   "id": "79ae50cb-a033-4eef-84c1-09ff6007b55b",
   "metadata": {},
   "outputs": [
    {
     "data": {
      "text/plain": [
       "array([False, False])"
      ]
     },
     "execution_count": 158,
     "metadata": {},
     "output_type": "execute_result"
    }
   ],
   "source": [
    "(x==y).all(axis = 1)"
   ]
  }
 ],
 "metadata": {
  "kernelspec": {
   "display_name": "Python 3 (ipykernel)",
   "language": "python",
   "name": "python3"
  },
  "language_info": {
   "codemirror_mode": {
    "name": "ipython",
    "version": 3
   },
   "file_extension": ".py",
   "mimetype": "text/x-python",
   "name": "python",
   "nbconvert_exporter": "python",
   "pygments_lexer": "ipython3",
   "version": "3.8.8"
  }
 },
 "nbformat": 4,
 "nbformat_minor": 5
}
