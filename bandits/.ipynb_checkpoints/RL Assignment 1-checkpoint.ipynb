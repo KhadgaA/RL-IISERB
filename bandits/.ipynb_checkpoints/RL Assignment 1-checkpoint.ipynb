{
 "cells": [
  {
   "cell_type": "code",
   "execution_count": 1,
   "id": "9b1a416a",
   "metadata": {},
   "outputs": [],
   "source": [
    "import matplotlib.pyplot as plt"
   ]
  },
  {
   "cell_type": "code",
   "execution_count": 2,
   "id": "c1a9fdec",
   "metadata": {},
   "outputs": [],
   "source": [
    "\"\"\"\n",
    "Environment for the multi-armed bandit problem\n",
    "\"\"\"\n",
    "\n",
    "import numpy as np \n",
    "\n",
    "class bandit_env():\n",
    "    \"\"\"\n",
    "    Initialize the multi-arm bandit environment.\n",
    "    :params:\n",
    "    r_mean: takes a list of reward mean\n",
    "    r_stddev: takes a list of reward standard deviation\n",
    "    \"\"\"\n",
    "    def __init__(self, r_mean, r_stddev):\n",
    "        if len(r_mean) != len(r_stddev):\n",
    "            raise ValueError(\"Reward distribution parameters (mean and variance) must be of the same length\")\n",
    "\n",
    "        if any(r <= 0 for r in r_stddev):\n",
    "            raise ValueError(\"Standard deviation in rewards must all be greater than 0\")\n",
    "\n",
    "        self.n = len(r_mean)\n",
    "        self.r_mean = r_mean\n",
    "        self.r_stddev = r_stddev\n",
    "\n",
    "    def pull(self, index_arm):\n",
    "        \"\"\"\n",
    "        Performs the action of pulling the arm/lever of the selected bandit\n",
    "        :inputs:\n",
    "        index_arm: the index of the arm/level to be pulled\n",
    "        :outputs:\n",
    "        reward: the reward obtained by pulling tht arm (sampled from their corresponding Gaussian distribution)\n",
    "        \"\"\"\n",
    "        reward = np.random.normal(self.r_mean[index_arm], self.r_stddev[index_arm])\n",
    "        return reward"
   ]
  },
  {
   "cell_type": "code",
   "execution_count": null,
   "id": "c4d208e9",
   "metadata": {},
   "outputs": [],
   "source": []
  },
  {
   "cell_type": "markdown",
   "id": "58808a80",
   "metadata": {},
   "source": [
    "Suppose you have a 5-armed bandit testbed, whose true action values are fixed (stationary\n",
    "distributions). The true reward values of the bandits are q*(a) = [2.5, -3.5, 1.0, 5.0, -2.5]; and the\n",
    "deviation around the mean is given by σ[q*(a)] = [0.33, 1.0, 0.66, 1.98, 1.65]. We are assuming the\n",
    "reward to follow a Gaussian distribution characterized by their given mean and standard deviation."
   ]
  },
  {
   "cell_type": "markdown",
   "id": "ac841ca0",
   "metadata": {},
   "source": [
    "Implement the following methods in the 5-arm bandit setting:\n",
    "1. ε-greedy algorithm\n",
    "2. UCB algorithm\n",
    "3. Greedy with the optimistic initial value method\n",
    "4. Gradient bandit algorithm"
   ]
  },
  {
   "cell_type": "markdown",
   "id": "d0e75981",
   "metadata": {},
   "source": [
    "and plot their respective average reward time evolution graphs (Avg reward vs timestep). Finally,\n",
    "recreate the given plot by changing the respective algorithm parameters:"
   ]
  },
  {
   "cell_type": "markdown",
   "id": "d32d6bc6",
   "metadata": {},
   "source": [
    "## Q1."
   ]
  },
  {
   "cell_type": "code",
   "execution_count": 3,
   "id": "7ce7b89f",
   "metadata": {},
   "outputs": [],
   "source": [
    "true_reward = [2.5, -3.5, 1.0, 5.0, -2.5]\n",
    "std_deviation = [0.33, 1.0, 0.66, 1.98, 1.65]"
   ]
  },
  {
   "cell_type": "code",
   "execution_count": 4,
   "id": "05691d4d",
   "metadata": {},
   "outputs": [],
   "source": [
    "env = bandit_env(true_reward,std_deviation)"
   ]
  },
  {
   "cell_type": "code",
   "execution_count": 5,
   "id": "0c5cd26e",
   "metadata": {},
   "outputs": [
    {
     "data": {
      "text/plain": [
       "1.9426989115138564"
      ]
     },
     "execution_count": 5,
     "metadata": {},
     "output_type": "execute_result"
    }
   ],
   "source": [
    "reward = env.pull(0)  # pass arm index from 0 till 4 to get reward\n",
    "reward"
   ]
  },
  {
   "cell_type": "markdown",
   "id": "edcc2266",
   "metadata": {},
   "source": [
    "##### Epsilon Greedy Algorithm"
   ]
  },
  {
   "cell_type": "code",
   "execution_count": 6,
   "id": "c64226ad",
   "metadata": {},
   "outputs": [],
   "source": [
    "# we define a class called Actions which will be used to define the\n",
    "# attributes & methods related to our actions.\n",
    "class Actions:\n",
    "    # this below constructor(__init__(self,a)) of the class takes one\n",
    "    # one parameter that is a it tell which action is taken. Then we\n",
    "    # define two instance variable which is expected reward of a Qt_a and No. of times reward obtained N_a.\n",
    "    \n",
    "    def __init__(self,a):\n",
    "        self.a = a\n",
    "        self.Qt_a = 0\n",
    "        self.N_a = 0\n",
    "        \n",
    "    # this update will update the value of the estimates after we choose an action a.\n",
    "    def update(self,R_a):\n",
    "        self.N_a += 1\n",
    "        self.Qt_a = (self.Qt_a + R_a)/self.N_a"
   ]
  },
  {
   "cell_type": "code",
   "execution_count": 143,
   "id": "a9242c25",
   "metadata": {},
   "outputs": [],
   "source": [
    "# this func. takes value of epsilon as eps and N is the no. of times we want epsilon-greedy algo. to run.\n",
    "# we want run_experiment func. to return the cumulative avg. as a list named data.\n",
    "# So, list named data will contain the estimated value of our actions after N\n",
    "# runs are complete.\n",
    "\n",
    "def run_experiment(a1,a2,a3,a4,a5,eps,N):\n",
    "    \n",
    "    actions = [Actions(a1),Actions(a2),Actions(a3),Actions(a4),Actions(a5)]\n",
    "    # this is list named data\n",
    "    data = np.empty(N)    # (N,2000)\n",
    "    \n",
    "    for i in range(N):\n",
    "        # epsilon greedy\n",
    "        p = np.random.random()\n",
    "        if p < eps:\n",
    "            j = np.random.choice(5)\n",
    "        else:\n",
    "            j = np.argmax([act.Qt_a for act in actions])\n",
    "            \n",
    "        x = actions[j]\n",
    "        R_a = env.pull(j)\n",
    "        x.update(R_a)\n",
    "        \n",
    "        data[i] = R_a\n",
    "    \n",
    "    cumulative_average = np.cumsum(data)/(np.arange(N) + 1)\n",
    "    \n",
    "    # plot moving average ctr\n",
    "    plt.plot(cumulative_average)\n",
    "    plt.xscale('log')\n",
    "    plt.show()"
   ]
  },
  {
   "cell_type": "code",
   "execution_count": 163,
   "id": "b8953f04",
   "metadata": {},
   "outputs": [
    {
     "data": {
      "image/png": "[encoded data removed]",
      "text/plain": [
       "<Figure size 432x288 with 1 Axes>"
      ]
     },
     "metadata": {
      "needs_background": "light"
     },
     "output_type": "display_data"
    }
   ],
   "source": [
    "c_1 = run_experiment(\"a1\",\"a2\",\"a3\",\"a4\",\"a5\",0.1,1000)"
   ]
  },
  {
   "cell_type": "code",
   "execution_count": null,
   "id": "688231f4",
   "metadata": {},
   "outputs": [],
   "source": []
  }
 ],
 "metadata": {
  "kernelspec": {
   "display_name": "Python [conda env:root] *",
   "language": "python",
   "name": "conda-root-py"
  },
  "language_info": {
   "codemirror_mode": {
    "name": "ipython",
    "version": 3
   },
   "file_extension": ".py",
   "mimetype": "text/x-python",
   "name": "python",
   "nbconvert_exporter": "python",
   "pygments_lexer": "ipython3",
   "version": "3.8.8"
  }
 },
 "nbformat": 4,
 "nbformat_minor": 5
}
