{
 "cells": [
  {
   "cell_type": "code",
   "execution_count": 2,
   "id": "bbc8e8db-b8dd-4267-894e-0376e3744f2b",
   "metadata": {},
   "outputs": [],
   "source": [
    "import numpy as np"
   ]
  },
  {
   "cell_type": "code",
   "execution_count": 8,
   "id": "66941741-5f33-4879-8a6f-7526619fc6c8",
   "metadata": {},
   "outputs": [
    {
     "data": {
      "text/plain": [
       "2.87167430672816"
      ]
     },
     "execution_count": 8,
     "metadata": {},
     "output_type": "execute_result"
    }
   ],
   "source": [
    "0.80 + 2 *np.sqrt(np.log(25) / 3)"
   ]
  },
  {
   "cell_type": "code",
   "execution_count": null,
   "id": "de3a857b-61a1-4e70-b953-6f458f4301e3",
   "metadata": {},
   "outputs": [],
   "source": []
  }
 ],
 "metadata": {
  "kernelspec": {
   "display_name": "Python 3 (ipykernel)",
   "language": "python",
   "name": "python3"
  },
  "language_info": {
   "codemirror_mode": {
    "name": "ipython",
    "version": 3
   },
   "file_extension": ".py",
   "mimetype": "text/x-python",
   "name": "python",
   "nbconvert_exporter": "python",
   "pygments_lexer": "ipython3",
   "version": "3.8.8"
  }
 },
 "nbformat": 4,
 "nbformat_minor": 5
}
