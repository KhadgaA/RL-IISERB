{
 "cells": [
  {
   "cell_type": "code",
   "execution_count": 1,
   "id": "93833dcb",
   "metadata": {},
   "outputs": [],
   "source": [
    "import numpy as np"
   ]
  },
  {
   "cell_type": "markdown",
   "id": "a1affc1e",
   "metadata": {},
   "source": [
    "__Policy Iteration__"
   ]
  },
  {
   "cell_type": "code",
   "execution_count": 29,
   "id": "8d12b9db",
   "metadata": {},
   "outputs": [
    {
     "name": "stdout",
     "output_type": "stream",
     "text": [
      "0\n",
      "[0. 0. 1.]\n",
      "[0.  0.2 0.8]\n",
      "[0. 0. 1.]\n",
      "1\n"
     ]
    },
    {
     "ename": "IndexError",
     "evalue": "only integers, slices (`:`), ellipsis (`...`), numpy.newaxis (`None`) and integer or boolean arrays are valid indices",
     "output_type": "error",
     "traceback": [
      "\u001b[1;31m---------------------------------------------------------------------------\u001b[0m",
      "\u001b[1;31mIndexError\u001b[0m                                Traceback (most recent call last)",
      "\u001b[1;32mC:\\Users\\KHADGA~1\\AppData\\Local\\Temp/ipykernel_17660/300031611.py\u001b[0m in \u001b[0;36m<module>\u001b[1;34m\u001b[0m\n\u001b[0;32m     26\u001b[0m \u001b[1;31m#         print (a)\u001b[0m\u001b[1;33m\u001b[0m\u001b[1;33m\u001b[0m\u001b[1;33m\u001b[0m\u001b[0m\n\u001b[0;32m     27\u001b[0m \u001b[1;31m#         print(s,a)\u001b[0m\u001b[1;33m\u001b[0m\u001b[1;33m\u001b[0m\u001b[1;33m\u001b[0m\u001b[0m\n\u001b[1;32m---> 28\u001b[1;33m         \u001b[0mprint\u001b[0m\u001b[1;33m(\u001b[0m\u001b[0mP\u001b[0m\u001b[1;33m[\u001b[0m\u001b[0ms\u001b[0m\u001b[1;33m,\u001b[0m\u001b[0ma\u001b[0m\u001b[1;33m]\u001b[0m\u001b[1;33m)\u001b[0m\u001b[1;33m\u001b[0m\u001b[1;33m\u001b[0m\u001b[0m\n\u001b[0m\u001b[0;32m     29\u001b[0m         \u001b[0mt\u001b[0m \u001b[1;33m=\u001b[0m \u001b[0mP\u001b[0m\u001b[1;33m[\u001b[0m\u001b[0ms\u001b[0m\u001b[1;33m,\u001b[0m\u001b[0ma\u001b[0m\u001b[1;33m]\u001b[0m\u001b[1;33m\u001b[0m\u001b[1;33m\u001b[0m\u001b[0m\n\u001b[0;32m     30\u001b[0m         \u001b[0mact\u001b[0m \u001b[1;33m=\u001b[0m \u001b[1;36m0\u001b[0m\u001b[1;33m\u001b[0m\u001b[1;33m\u001b[0m\u001b[0m\n",
      "\u001b[1;31mIndexError\u001b[0m: only integers, slices (`:`), ellipsis (`...`), numpy.newaxis (`None`) and integer or boolean arrays are valid indices"
     ]
    }
   ],
   "source": [
    "States = np.array([\"Hostel\", \"Academic Building\", \"Canteen\"])\n",
    "Actions = np.array([\"Eating\", \"AttendingClass\"])\n",
    "Reward = np.array([-1, 3, 1])\n",
    "\n",
    "P = np.array(\n",
    "    [\n",
    "    [[0, 0, 1], [0.5, 0.5, 0]],\n",
    "    [[0, 0.2, 0.8], [0, 0.7, 0.3]],\n",
    "    [[0, 0, 1], [0.3, 0.6, 0.1]]    \n",
    "    ])\n",
    "\n",
    "Vs = np.zeros(3)  # stores best action value of each state\n",
    "gamma = 0.9\n",
    "count = 0\n",
    "policy = np.random.randint(low=2, size=3)\n",
    "# print(policy)# 2 bec we have 2 actions only\n",
    "Va = policy.copy()   # stores best action index of each state\n",
    "\n",
    "# The Policy iteration loop\n",
    "for time in range(100):\n",
    "    # Policy Evaluation\n",
    "    print(time)\n",
    "    V = np.zeros(3)\n",
    "    for s,a in enumerate(Va):\n",
    "        maxa = []\n",
    "#         print (a)\n",
    "#         print(s,a)\n",
    "        print(P[s,a])\n",
    "        t = P[s,a]\n",
    "        act = 0\n",
    "#         for index,element in enumerate(t):\n",
    "#             if element != 0:\n",
    "#                 act = act+(t[index]*(Reward[index] + gamma*V[index]))\n",
    "        Va = np.argmax(np.sum(V * P, axis=2), axis=1)\n",
    "#                 print(act)\n",
    "\n",
    "#         maxa.append(act)\n",
    "\n",
    "#         V[s] = maxa[np.argmax(maxa)]\n",
    "#         print(s,a)\n",
    "    \n",
    "    # Policy Improvment\n",
    "    Vaai = np.zeros(3)\n",
    "    for st in range(len(States)):\n",
    "        maxaa = []\n",
    "        for aa in range(len(Actions)):\n",
    "            ta = P[st][aa]\n",
    "            acta = 0\n",
    "            for indexi,elemente in enumerate(ta):\n",
    "                if elemente != 0:\n",
    "                    acta = acta+(ta[indexi]*(Reward[indexi] + gamma*V[indexi]))\n",
    "\n",
    "            maxaa.append(acta)\n",
    "\n",
    "        Vaai[st] = np.argmax(maxaa)\n",
    "        \n",
    "    if not (Va - Vaai).any():\n",
    "        count += 1\n",
    "        if count == 2:\n",
    "            break\n",
    "    else:\n",
    "        count = 0\n",
    "\n",
    "    Va = Vaai\n",
    "    Vs = V\n",
    "    \n",
    "print(f\"State : Optimal Policy, Convergence time = {time}\", end=\"\\n\")\n",
    "for ie, statet in enumerate(States):\n",
    "    stateiv = statet\n",
    "    Optimal_Action_Indexi = int(Va[ie])\n",
    "    Optimal_Policy = Actions[Optimal_Action_Indexi]\n",
    "    print(f\"{stateiv} : {Optimal_Policy}\")"
   ]
  },
  {
   "cell_type": "markdown",
   "id": "69bb895a",
   "metadata": {},
   "source": [
    "__Discuss the results obtained from policy iteration and value iteration__"
   ]
  },
  {
   "cell_type": "code",
   "execution_count": null,
   "id": "6100c502",
   "metadata": {},
   "outputs": [],
   "source": []
  }
 ],
 "metadata": {
  "kernelspec": {
   "display_name": "Python 3 (ipykernel)",
   "language": "python",
   "name": "python3"
  },
  "language_info": {
   "codemirror_mode": {
    "name": "ipython",
    "version": 3
   },
   "file_extension": ".py",
   "mimetype": "text/x-python",
   "name": "python",
   "nbconvert_exporter": "python",
   "pygments_lexer": "ipython3",
   "version": "3.8.8"
  }
 },
 "nbformat": 4,
 "nbformat_minor": 5
}
